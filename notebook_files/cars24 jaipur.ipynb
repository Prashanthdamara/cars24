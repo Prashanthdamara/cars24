{
 "cells": [
  {
   "cell_type": "code",
   "execution_count": 1,
   "id": "a29da20f",
   "metadata": {},
   "outputs": [],
   "source": [
    "import requests\n",
    "from bs4 import BeautifulSoup \n",
    "import numpy as np"
   ]
  },
  {
   "cell_type": "code",
   "execution_count": 2,
   "id": "8f2e8eb4",
   "metadata": {},
   "outputs": [],
   "source": [
    "from selenium import webdriver\n",
    "import time"
   ]
  },
  {
   "cell_type": "code",
   "execution_count": 13,
   "id": "14f2ac87",
   "metadata": {},
   "outputs": [
    {
     "name": "stderr",
     "output_type": "stream",
     "text": [
      "C:\\Users\\PRASHA~1\\AppData\\Local\\Temp/ipykernel_22392/2881577428.py:4: DeprecationWarning: executable_path has been deprecated, please pass in a Service object\n",
      "  driver = webdriver.Chrome(path)\n"
     ]
    }
   ],
   "source": [
    "website = 'https://www.cars24.com/buy-used-cars-jaipur/'\n",
    "path = 'C://Users//prashanth//Desktop//New folder//chromedriver.exe'\n",
    "\n",
    "driver = webdriver.Chrome(path)\n",
    "driver.get(website)\n",
    "previous_height = driver.execute_script('return document.body.scrollHeight')\n",
    "while True:\n",
    "    driver.execute_script('window.scrollTo(0,document.body.scrollHeight);')\n",
    "    time.sleep(5)\n",
    "    new_height = driver.execute_script('return document.body.scrollHeight')\n",
    "    if new_height == previous_height:\n",
    "        break\n",
    "    previous_height = new_height\n",
    "file = open('cars24_jaipur.html', 'w', encoding='utf-8')\n",
    "file.write(driver.page_source)\n",
    "file.close()\n",
    "driver.close()"
   ]
  },
  {
   "cell_type": "code",
   "execution_count": 14,
   "id": "9b40d464",
   "metadata": {},
   "outputs": [],
   "source": [
    "data = open('cars24_jaipur.html','r',encoding=\"utf8\")\n",
    "soup = BeautifulSoup(data, 'html.parser')"
   ]
  },
  {
   "cell_type": "code",
   "execution_count": 15,
   "id": "e02a771d",
   "metadata": {},
   "outputs": [],
   "source": [
    "divs = soup.find_all('div',{'class':'_1l4fi'})"
   ]
  },
  {
   "cell_type": "code",
   "execution_count": 16,
   "id": "9f29419d",
   "metadata": {},
   "outputs": [],
   "source": [
    "cars_name = [div.find('div',{'class':'_1jpRU'}).find('h2',{'class':'_3FpCg'}).text[5:] for div in divs ]\n",
    "\n",
    "cars_brand = [div.find('div',{'class':'_1jpRU'}).find('h2',{'class':'_3FpCg'}).text[5:].split(' ')[0] for div in divs ] \n",
    "\n",
    "model_year = [div.find('div',{'class':'_1jpRU'}).text[:4] for div in divs ] \n",
    "\n",
    "model = [div.find('div',{'class':'_1jpRU'}).find('p',{'class':'cvakB'}).text.strip('Manual') for div in divs ]\n",
    "model = [i.strip('Automatic')  for i in model]\n",
    "\n",
    "car_type = [div.find('div',{'class':'_1jpRU'}).find('p',{'class':'cvakB'}).find('span').text for div in divs ]\n",
    "\n",
    "kms = [div.find('ul',{'class':'bVR0c'}).text.split(' ')[0] for div in divs ]\n",
    "\n",
    "owner = [div.find('ul',{'class':'bVR0c'}).text.split(' ')[1][2:] for div in divs ]\n",
    "\n",
    "gasoliene_type = [div.find('ul',{'class':'bVR0c'}).text.split(' ')[2][5:] for div in divs ]\n",
    "\n",
    "emi_per_month = [div.find('div',{'class':'_19zc5'}).find('div',{'class':'_2HFRN'}).text[3:] for div in divs ]\n",
    "\n",
    "price = [div.find('div',{'class':'_19zc5'}).find('div',{'class':'_7udZZ'}).text[3:] for div in divs ]\n",
    "\n",
    "zero_downpayment = [div.find('div',{'class':'JvSRy'}).find('span',{'class':'_3X7mV _2H07I'}).text for div in divs ]"
   ]
  },
  {
   "cell_type": "code",
   "execution_count": 17,
   "id": "263e3016",
   "metadata": {},
   "outputs": [
    {
     "data": {
      "text/plain": [
       "341"
      ]
     },
     "execution_count": 17,
     "metadata": {},
     "output_type": "execute_result"
    }
   ],
   "source": [
    "len(cars_name)"
   ]
  },
  {
   "cell_type": "code",
   "execution_count": 18,
   "id": "d8a8d271",
   "metadata": {},
   "outputs": [],
   "source": [
    "d = {'cars_name':cars_name,'cars_brand':cars_brand,'model':model,'model_year':model_year,'car_type':car_type,'kms':kms,'owner':owner,'gasoliene_type':gasoliene_type,'price':price,'emi_per_month':emi_per_month,'zero_downpayment':zero_downpayment}"
   ]
  },
  {
   "cell_type": "code",
   "execution_count": 19,
   "id": "23fd3bf3",
   "metadata": {},
   "outputs": [],
   "source": [
    "import pandas as pd"
   ]
  },
  {
   "cell_type": "code",
   "execution_count": 20,
   "id": "1d17cc5e",
   "metadata": {},
   "outputs": [],
   "source": [
    "df = pd.DataFrame(d)"
   ]
  },
  {
   "cell_type": "code",
   "execution_count": 21,
   "id": "975fd2e7",
   "metadata": {},
   "outputs": [
    {
     "data": {
      "text/plain": [
       "(341, 11)"
      ]
     },
     "execution_count": 21,
     "metadata": {},
     "output_type": "execute_result"
    }
   ],
   "source": [
    "df.shape"
   ]
  },
  {
   "cell_type": "code",
   "execution_count": 22,
   "id": "ee79676d",
   "metadata": {},
   "outputs": [
    {
     "data": {
      "text/html": [
       "<div>\n",
       "<style scoped>\n",
       "    .dataframe tbody tr th:only-of-type {\n",
       "        vertical-align: middle;\n",
       "    }\n",
       "\n",
       "    .dataframe tbody tr th {\n",
       "        vertical-align: top;\n",
       "    }\n",
       "\n",
       "    .dataframe thead th {\n",
       "        text-align: right;\n",
       "    }\n",
       "</style>\n",
       "<table border=\"1\" class=\"dataframe\">\n",
       "  <thead>\n",
       "    <tr style=\"text-align: right;\">\n",
       "      <th></th>\n",
       "      <th>cars_name</th>\n",
       "      <th>cars_brand</th>\n",
       "      <th>model</th>\n",
       "      <th>model_year</th>\n",
       "      <th>car_type</th>\n",
       "      <th>kms</th>\n",
       "      <th>owner</th>\n",
       "      <th>gasoliene_type</th>\n",
       "      <th>price</th>\n",
       "      <th>emi_per_month</th>\n",
       "      <th>zero_downpayment</th>\n",
       "    </tr>\n",
       "  </thead>\n",
       "  <tbody>\n",
       "    <tr>\n",
       "      <th>0</th>\n",
       "      <td>Maruti Celerio X</td>\n",
       "      <td>Maruti</td>\n",
       "      <td>Zxi</td>\n",
       "      <td>2019</td>\n",
       "      <td>Manual</td>\n",
       "      <td>25,594</td>\n",
       "      <td>1st</td>\n",
       "      <td>Petrol</td>\n",
       "      <td>64,799</td>\n",
       "      <td>,339/month</td>\n",
       "      <td>Zero downpayment</td>\n",
       "    </tr>\n",
       "    <tr>\n",
       "      <th>1</th>\n",
       "      <td>Hyundai GRAND I10 NIOS</td>\n",
       "      <td>Hyundai</td>\n",
       "      <td>ERA PETROL</td>\n",
       "      <td>2021</td>\n",
       "      <td>Manual</td>\n",
       "      <td>383</td>\n",
       "      <td>1st</td>\n",
       "      <td>Petrol</td>\n",
       "      <td>75,099</td>\n",
       "      <td>,793/month</td>\n",
       "      <td>Zero downpayment</td>\n",
       "    </tr>\n",
       "    <tr>\n",
       "      <th>2</th>\n",
       "      <td>Maruti Swift</td>\n",
       "      <td>Maruti</td>\n",
       "      <td>VXI AMT</td>\n",
       "      <td>2018</td>\n",
       "      <td>Automatic</td>\n",
       "      <td>18,224</td>\n",
       "      <td>1st</td>\n",
       "      <td>Petrol</td>\n",
       "      <td>30,499</td>\n",
       "      <td>,025/month</td>\n",
       "      <td>Zero downpayment</td>\n",
       "    </tr>\n",
       "    <tr>\n",
       "      <th>3</th>\n",
       "      <td>Maruti Eeco</td>\n",
       "      <td>Maruti</td>\n",
       "      <td>5 STR WITH AC PLUSHTR</td>\n",
       "      <td>2018</td>\n",
       "      <td>Manual</td>\n",
       "      <td>15,995</td>\n",
       "      <td>1st</td>\n",
       "      <td>Petrol</td>\n",
       "      <td>14,499</td>\n",
       "      <td>220/month</td>\n",
       "      <td>Zero downpayment</td>\n",
       "    </tr>\n",
       "    <tr>\n",
       "      <th>4</th>\n",
       "      <td>Maruti Swift</td>\n",
       "      <td>Maruti</td>\n",
       "      <td>VXI</td>\n",
       "      <td>2019</td>\n",
       "      <td>Manual</td>\n",
       "      <td>26,389</td>\n",
       "      <td>1st</td>\n",
       "      <td>Petrol</td>\n",
       "      <td>82,099</td>\n",
       "      <td>,948/month</td>\n",
       "      <td>Zero downpayment</td>\n",
       "    </tr>\n",
       "  </tbody>\n",
       "</table>\n",
       "</div>"
      ],
      "text/plain": [
       "                cars_name cars_brand                   model model_year  \\\n",
       "0        Maruti Celerio X     Maruti                    Zxi        2019   \n",
       "1  Hyundai GRAND I10 NIOS    Hyundai             ERA PETROL        2021   \n",
       "2            Maruti Swift     Maruti                VXI AMT        2018   \n",
       "3             Maruti Eeco     Maruti  5 STR WITH AC PLUSHTR        2018   \n",
       "4            Maruti Swift     Maruti                    VXI        2019   \n",
       "\n",
       "    car_type     kms owner gasoliene_type   price emi_per_month  \\\n",
       "0     Manual  25,594   1st         Petrol  64,799    ,339/month   \n",
       "1     Manual     383   1st         Petrol  75,099    ,793/month   \n",
       "2  Automatic  18,224   1st         Petrol  30,499    ,025/month   \n",
       "3     Manual  15,995   1st         Petrol  14,499     220/month   \n",
       "4     Manual  26,389   1st         Petrol  82,099    ,948/month   \n",
       "\n",
       "   zero_downpayment  \n",
       "0  Zero downpayment  \n",
       "1  Zero downpayment  \n",
       "2  Zero downpayment  \n",
       "3  Zero downpayment  \n",
       "4  Zero downpayment  "
      ]
     },
     "execution_count": 22,
     "metadata": {},
     "output_type": "execute_result"
    }
   ],
   "source": [
    "df.head()"
   ]
  },
  {
   "cell_type": "code",
   "execution_count": 23,
   "id": "597e88b4",
   "metadata": {},
   "outputs": [],
   "source": [
    "df.to_csv('cars24jaipur.csv')"
   ]
  },
  {
   "cell_type": "code",
   "execution_count": null,
   "id": "cf3f6bfb",
   "metadata": {},
   "outputs": [],
   "source": []
  }
 ],
 "metadata": {
  "kernelspec": {
   "display_name": "Python 3 (ipykernel)",
   "language": "python",
   "name": "python3"
  },
  "language_info": {
   "codemirror_mode": {
    "name": "ipython",
    "version": 3
   },
   "file_extension": ".py",
   "mimetype": "text/x-python",
   "name": "python",
   "nbconvert_exporter": "python",
   "pygments_lexer": "ipython3",
   "version": "3.9.7"
  }
 },
 "nbformat": 4,
 "nbformat_minor": 5
}
