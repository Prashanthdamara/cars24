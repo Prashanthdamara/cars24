{
 "cells": [
  {
   "cell_type": "code",
   "execution_count": 1,
   "id": "bb025331",
   "metadata": {},
   "outputs": [],
   "source": [
    "import requests\n",
    "from bs4 import BeautifulSoup \n",
    "import numpy as np"
   ]
  },
  {
   "cell_type": "code",
   "execution_count": 2,
   "id": "07885e7f",
   "metadata": {},
   "outputs": [],
   "source": [
    "from selenium import webdriver\n",
    "import time"
   ]
  },
  {
   "cell_type": "code",
   "execution_count": 22,
   "id": "2cc75ce8",
   "metadata": {},
   "outputs": [
    {
     "name": "stderr",
     "output_type": "stream",
     "text": [
      "C:\\Users\\PRASHA~1\\AppData\\Local\\Temp/ipykernel_10172/3325879504.py:4: DeprecationWarning: executable_path has been deprecated, please pass in a Service object\n",
      "  driver = webdriver.Chrome(path)\n"
     ]
    }
   ],
   "source": [
    "website = 'https://www.cars24.com/buy-used-cars-bengaluru/'\n",
    "path = 'C://Users//prashanth//Desktop//New folder//chromedriver.exe'\n",
    "\n",
    "driver = webdriver.Chrome(path)\n",
    "driver.get(website)\n",
    "previous_height = driver.execute_script('return document.body.scrollHeight')\n",
    "while True:\n",
    "    driver.execute_script('window.scrollTo(0,document.body.scrollHeight);')\n",
    "    time.sleep(5)\n",
    "    new_height = driver.execute_script('return document.body.scrollHeight')\n",
    "    if new_height == previous_height:\n",
    "        break\n",
    "    previous_height = new_height\n",
    "file = open('cars24_bengaluru.html', 'w', encoding='utf-8')\n",
    "file.write(driver.page_source)\n",
    "file.close()\n",
    "driver.close()"
   ]
  },
  {
   "cell_type": "code",
   "execution_count": 23,
   "id": "676bd840",
   "metadata": {},
   "outputs": [],
   "source": [
    "data = open('cars24_bengaluru.html','r')\n",
    "soup = BeautifulSoup(data, 'html.parser')"
   ]
  },
  {
   "cell_type": "code",
   "execution_count": 24,
   "id": "8f67ce55",
   "metadata": {},
   "outputs": [],
   "source": [
    "divs = soup.find_all('div',{'class':'_1l4fi'})"
   ]
  },
  {
   "cell_type": "code",
   "execution_count": 25,
   "id": "f2f37a6d",
   "metadata": {},
   "outputs": [],
   "source": [
    "cars_name = [div.find('div',{'class':'_1jpRU'}).find('h2',{'class':'_3FpCg'}).text[5:] for div in divs ]"
   ]
  },
  {
   "cell_type": "code",
   "execution_count": 26,
   "id": "2f91639b",
   "metadata": {},
   "outputs": [
    {
     "data": {
      "text/plain": [
       "450"
      ]
     },
     "execution_count": 26,
     "metadata": {},
     "output_type": "execute_result"
    }
   ],
   "source": [
    "len(cars_name)"
   ]
  },
  {
   "cell_type": "code",
   "execution_count": 27,
   "id": "85e98380",
   "metadata": {},
   "outputs": [],
   "source": [
    "cars_brand = [div.find('div',{'class':'_1jpRU'}).find('h2',{'class':'_3FpCg'}).text[5:].split(' ')[0] for div in divs ] "
   ]
  },
  {
   "cell_type": "code",
   "execution_count": null,
   "id": "87d18821",
   "metadata": {},
   "outputs": [],
   "source": []
  },
  {
   "cell_type": "code",
   "execution_count": 28,
   "id": "ad4ea5e4",
   "metadata": {},
   "outputs": [],
   "source": [
    "model_year = [div.find('div',{'class':'_1jpRU'}).text[:4] for div in divs ] "
   ]
  },
  {
   "cell_type": "code",
   "execution_count": 29,
   "id": "93f7f164",
   "metadata": {},
   "outputs": [],
   "source": [
    "model = [div.find('div',{'class':'_1jpRU'}).find('p',{'class':'cvakB'}).text.strip('Manual') for div in divs ]\n",
    "model = [i.strip('Automatic')  for i in model]"
   ]
  },
  {
   "cell_type": "code",
   "execution_count": 30,
   "id": "edbd9176",
   "metadata": {},
   "outputs": [],
   "source": [
    "car_type = [div.find('div',{'class':'_1jpRU'}).find('p',{'class':'cvakB'}).find('span').text for div in divs ]"
   ]
  },
  {
   "cell_type": "code",
   "execution_count": 31,
   "id": "d0b94bbe",
   "metadata": {},
   "outputs": [],
   "source": [
    "kms = [div.find('ul',{'class':'bVR0c'}).text.split(' ')[0] for div in divs ]"
   ]
  },
  {
   "cell_type": "code",
   "execution_count": 32,
   "id": "01626e8e",
   "metadata": {},
   "outputs": [],
   "source": [
    "owner = [div.find('ul',{'class':'bVR0c'}).text.split(' ')[1][2:] for div in divs ]"
   ]
  },
  {
   "cell_type": "code",
   "execution_count": 33,
   "id": "9214de41",
   "metadata": {},
   "outputs": [],
   "source": [
    "gasoliene_type = [div.find('ul',{'class':'bVR0c'}).text.split(' ')[2][5:] for div in divs ]"
   ]
  },
  {
   "cell_type": "code",
   "execution_count": 34,
   "id": "05e58a1e",
   "metadata": {},
   "outputs": [],
   "source": [
    "emi_per_month = [div.find('div',{'class':'_19zc5'}).find('div',{'class':'_2HFRN'}).text[3:] for div in divs ]"
   ]
  },
  {
   "cell_type": "code",
   "execution_count": 35,
   "id": "d6f6e6ad",
   "metadata": {},
   "outputs": [],
   "source": [
    "price = [div.find('div',{'class':'_19zc5'}).find('div',{'class':'_7udZZ'}).text[3:] for div in divs ]"
   ]
  },
  {
   "cell_type": "code",
   "execution_count": 36,
   "id": "4dfab10f",
   "metadata": {},
   "outputs": [],
   "source": [
    "zero_downpayment = [div.find('div',{'class':'JvSRy'}).find('span',{'class':'_3X7mV _2H07I'}).text for div in divs ]"
   ]
  },
  {
   "cell_type": "code",
   "execution_count": 37,
   "id": "366aeea0",
   "metadata": {},
   "outputs": [],
   "source": [
    "import pandas as pd"
   ]
  },
  {
   "cell_type": "code",
   "execution_count": 38,
   "id": "b21bc3f5",
   "metadata": {},
   "outputs": [],
   "source": [
    "d = {'cars_name':cars_name,'cars_brand':cars_brand,'model':model,'model_year':model_year,'car_type':car_type,'kms':kms,'owner':owner,'gasoliene_type':gasoliene_type,'price':price,'emi_per_month':emi_per_month,'zero_downpayment':zero_downpayment}"
   ]
  },
  {
   "cell_type": "code",
   "execution_count": 39,
   "id": "9f23fedf",
   "metadata": {},
   "outputs": [],
   "source": [
    "df = pd.DataFrame(d)"
   ]
  },
  {
   "cell_type": "code",
   "execution_count": 40,
   "id": "b11cd159",
   "metadata": {},
   "outputs": [
    {
     "data": {
      "text/plain": [
       "(450, 11)"
      ]
     },
     "execution_count": 40,
     "metadata": {},
     "output_type": "execute_result"
    }
   ],
   "source": [
    "df.shape"
   ]
  },
  {
   "cell_type": "code",
   "execution_count": 41,
   "id": "3881d640",
   "metadata": {},
   "outputs": [
    {
     "data": {
      "text/html": [
       "<div>\n",
       "<style scoped>\n",
       "    .dataframe tbody tr th:only-of-type {\n",
       "        vertical-align: middle;\n",
       "    }\n",
       "\n",
       "    .dataframe tbody tr th {\n",
       "        vertical-align: top;\n",
       "    }\n",
       "\n",
       "    .dataframe thead th {\n",
       "        text-align: right;\n",
       "    }\n",
       "</style>\n",
       "<table border=\"1\" class=\"dataframe\">\n",
       "  <thead>\n",
       "    <tr style=\"text-align: right;\">\n",
       "      <th></th>\n",
       "      <th>cars_name</th>\n",
       "      <th>cars_brand</th>\n",
       "      <th>model</th>\n",
       "      <th>model_year</th>\n",
       "      <th>car_type</th>\n",
       "      <th>kms</th>\n",
       "      <th>owner</th>\n",
       "      <th>gasoliene_type</th>\n",
       "      <th>price</th>\n",
       "      <th>emi_per_month</th>\n",
       "      <th>zero_downpayment</th>\n",
       "    </tr>\n",
       "  </thead>\n",
       "  <tbody>\n",
       "    <tr>\n",
       "      <th>0</th>\n",
       "      <td>Hyundai i20 Active</td>\n",
       "      <td>Hyundai</td>\n",
       "      <td>1.4 SX</td>\n",
       "      <td>2016</td>\n",
       "      <td>Manual</td>\n",
       "      <td>46,853</td>\n",
       "      <td>1st</td>\n",
       "      <td>Diesel</td>\n",
       "      <td>7,70,299</td>\n",
       "      <td>17,135/month</td>\n",
       "      <td>Zero downpayment</td>\n",
       "    </tr>\n",
       "    <tr>\n",
       "      <th>1</th>\n",
       "      <td>Datsun Redi Go</td>\n",
       "      <td>Datsun</td>\n",
       "      <td>T (O)</td>\n",
       "      <td>2017</td>\n",
       "      <td>Manual</td>\n",
       "      <td>37,217</td>\n",
       "      <td>1st</td>\n",
       "      <td>Petrol</td>\n",
       "      <td>3,11,399</td>\n",
       "      <td>6,927/month</td>\n",
       "      <td>Zero downpayment</td>\n",
       "    </tr>\n",
       "    <tr>\n",
       "      <th>2</th>\n",
       "      <td>Ford Figo Aspire</td>\n",
       "      <td>Ford</td>\n",
       "      <td>1.2 TITANIUM PETROL</td>\n",
       "      <td>2017</td>\n",
       "      <td>Manual</td>\n",
       "      <td>22,645</td>\n",
       "      <td>1st</td>\n",
       "      <td>Petrol</td>\n",
       "      <td>5,93,199</td>\n",
       "      <td>13,195/month</td>\n",
       "      <td>Zero downpayment</td>\n",
       "    </tr>\n",
       "    <tr>\n",
       "      <th>3</th>\n",
       "      <td>Volkswagen Ameo</td>\n",
       "      <td>Volkswagen</td>\n",
       "      <td>HIGHLINE 1.5</td>\n",
       "      <td>2016</td>\n",
       "      <td>Manual</td>\n",
       "      <td>56,225</td>\n",
       "      <td>1st</td>\n",
       "      <td>Diesel</td>\n",
       "      <td>6,18,999</td>\n",
       "      <td>13,769/month</td>\n",
       "      <td>Zero downpayment</td>\n",
       "    </tr>\n",
       "    <tr>\n",
       "      <th>4</th>\n",
       "      <td>Maruti Ertiga</td>\n",
       "      <td>Maruti</td>\n",
       "      <td>VDI ABS</td>\n",
       "      <td>2015</td>\n",
       "      <td>Manual</td>\n",
       "      <td>56,700</td>\n",
       "      <td>1st</td>\n",
       "      <td>Diesel</td>\n",
       "      <td>7,90,199</td>\n",
       "      <td>17,578/month</td>\n",
       "      <td>Zero downpayment</td>\n",
       "    </tr>\n",
       "  </tbody>\n",
       "</table>\n",
       "</div>"
      ],
      "text/plain": [
       "            cars_name  cars_brand                 model model_year car_type  \\\n",
       "0  Hyundai i20 Active     Hyundai               1.4 SX        2016   Manual   \n",
       "1      Datsun Redi Go      Datsun                T (O)        2017   Manual   \n",
       "2    Ford Figo Aspire        Ford  1.2 TITANIUM PETROL        2017   Manual   \n",
       "3     Volkswagen Ameo  Volkswagen         HIGHLINE 1.5        2016   Manual   \n",
       "4       Maruti Ertiga      Maruti              VDI ABS        2015   Manual   \n",
       "\n",
       "      kms owner gasoliene_type     price emi_per_month  zero_downpayment  \n",
       "0  46,853   1st         Diesel  7,70,299  17,135/month  Zero downpayment  \n",
       "1  37,217   1st         Petrol  3,11,399   6,927/month  Zero downpayment  \n",
       "2  22,645   1st         Petrol  5,93,199  13,195/month  Zero downpayment  \n",
       "3  56,225   1st         Diesel  6,18,999  13,769/month  Zero downpayment  \n",
       "4  56,700   1st         Diesel  7,90,199  17,578/month  Zero downpayment  "
      ]
     },
     "execution_count": 41,
     "metadata": {},
     "output_type": "execute_result"
    }
   ],
   "source": [
    "df.head()"
   ]
  },
  {
   "cell_type": "code",
   "execution_count": 42,
   "id": "d3dc460a",
   "metadata": {},
   "outputs": [],
   "source": [
    "df.to_csv('cars24bengaluru.csv')"
   ]
  },
  {
   "cell_type": "code",
   "execution_count": null,
   "id": "0158501e",
   "metadata": {},
   "outputs": [],
   "source": []
  }
 ],
 "metadata": {
  "kernelspec": {
   "display_name": "Python 3 (ipykernel)",
   "language": "python",
   "name": "python3"
  },
  "language_info": {
   "codemirror_mode": {
    "name": "ipython",
    "version": 3
   },
   "file_extension": ".py",
   "mimetype": "text/x-python",
   "name": "python",
   "nbconvert_exporter": "python",
   "pygments_lexer": "ipython3",
   "version": "3.9.7"
  }
 },
 "nbformat": 4,
 "nbformat_minor": 5
}
