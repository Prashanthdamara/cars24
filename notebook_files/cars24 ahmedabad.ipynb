{
 "cells": [
  {
   "cell_type": "code",
   "execution_count": 1,
   "id": "f61677a2",
   "metadata": {},
   "outputs": [],
   "source": [
    "import requests\n",
    "from bs4 import BeautifulSoup \n",
    "import numpy as np"
   ]
  },
  {
   "cell_type": "code",
   "execution_count": 2,
   "id": "c8d30ae5",
   "metadata": {},
   "outputs": [],
   "source": [
    "from selenium import webdriver\n",
    "import time"
   ]
  },
  {
   "cell_type": "code",
   "execution_count": 3,
   "id": "f30b039b",
   "metadata": {},
   "outputs": [
    {
     "name": "stderr",
     "output_type": "stream",
     "text": [
      "C:\\Users\\PRASHA~1\\AppData\\Local\\Temp/ipykernel_16752/1733699309.py:4: DeprecationWarning: executable_path has been deprecated, please pass in a Service object\n",
      "  driver = webdriver.Chrome(path)\n"
     ]
    }
   ],
   "source": [
    "website = 'https://www.cars24.com/buy-used-cars-ahmedabad/'\n",
    "path = 'C://Users//prashanth//Desktop//New folder//chromedriver.exe'\n",
    "\n",
    "driver = webdriver.Chrome(path)\n",
    "driver.get(website)\n",
    "previous_height = driver.execute_script('return document.body.scrollHeight')\n",
    "while True:\n",
    "    driver.execute_script('window.scrollTo(0,document.body.scrollHeight);')\n",
    "    time.sleep(5)\n",
    "    new_height = driver.execute_script('return document.body.scrollHeight')\n",
    "    if new_height == previous_height:\n",
    "        break\n",
    "    previous_height = new_height\n",
    "file = open('cars24_ahmedabad.html', 'w', encoding='utf-8')\n",
    "file.write(driver.page_source)\n",
    "file.close()\n",
    "driver.close()"
   ]
  },
  {
   "cell_type": "code",
   "execution_count": 6,
   "id": "d639fcbf",
   "metadata": {},
   "outputs": [],
   "source": [
    "data = open('cars24_ahmedabad.html','r',encoding=\"utf8\")\n",
    "soup = BeautifulSoup(data, 'html.parser')"
   ]
  },
  {
   "cell_type": "code",
   "execution_count": 7,
   "id": "b89dee1f",
   "metadata": {},
   "outputs": [],
   "source": [
    "divs = soup.find_all('div',{'class':'_1l4fi'})"
   ]
  },
  {
   "cell_type": "code",
   "execution_count": 8,
   "id": "46465fc4",
   "metadata": {},
   "outputs": [],
   "source": [
    "cars_name = [div.find('div',{'class':'_1jpRU'}).find('h2',{'class':'_3FpCg'}).text[5:] for div in divs ]\n",
    "\n",
    "cars_brand = [div.find('div',{'class':'_1jpRU'}).find('h2',{'class':'_3FpCg'}).text[5:].split(' ')[0] for div in divs ] \n",
    "\n",
    "model_year = [div.find('div',{'class':'_1jpRU'}).text[:4] for div in divs ] \n",
    "\n",
    "model = [div.find('div',{'class':'_1jpRU'}).find('p',{'class':'cvakB'}).text.strip('Manual') for div in divs ]\n",
    "model = [i.strip('Automatic')  for i in model]\n",
    "\n",
    "car_type = [div.find('div',{'class':'_1jpRU'}).find('p',{'class':'cvakB'}).find('span').text for div in divs ]\n",
    "\n",
    "kms = [div.find('ul',{'class':'bVR0c'}).text.split(' ')[0] for div in divs ]\n",
    "\n",
    "owner = [div.find('ul',{'class':'bVR0c'}).text.split(' ')[1][2:] for div in divs ]\n",
    "\n",
    "gasoliene_type = [div.find('ul',{'class':'bVR0c'}).text.split(' ')[2][5:] for div in divs ]\n",
    "\n",
    "emi_per_month = [div.find('div',{'class':'_19zc5'}).find('div',{'class':'_2HFRN'}).text[3:] for div in divs ]\n",
    "\n",
    "price = [div.find('div',{'class':'_19zc5'}).find('div',{'class':'_7udZZ'}).text[3:] for div in divs ]\n",
    "\n",
    "zero_downpayment = [div.find('div',{'class':'JvSRy'}).find('span',{'class':'_3X7mV _2H07I'}).text for div in divs ]"
   ]
  },
  {
   "cell_type": "code",
   "execution_count": 10,
   "id": "da6af82c",
   "metadata": {},
   "outputs": [],
   "source": [
    "import pandas as pd"
   ]
  },
  {
   "cell_type": "code",
   "execution_count": 11,
   "id": "d15be278",
   "metadata": {},
   "outputs": [],
   "source": [
    "d = {'cars_name':cars_name,'cars_brand':cars_brand,'model':model,'model_year':model_year,'car_type':car_type,'kms':kms,'owner':owner,'gasoliene_type':gasoliene_type,'price':price,'emi_per_month':emi_per_month,'zero_downpayment':zero_downpayment}"
   ]
  },
  {
   "cell_type": "code",
   "execution_count": 12,
   "id": "97fddadf",
   "metadata": {},
   "outputs": [],
   "source": [
    "df = pd.DataFrame(d)"
   ]
  },
  {
   "cell_type": "code",
   "execution_count": 13,
   "id": "11bfb1f6",
   "metadata": {},
   "outputs": [
    {
     "data": {
      "text/plain": [
       "(404, 11)"
      ]
     },
     "execution_count": 13,
     "metadata": {},
     "output_type": "execute_result"
    }
   ],
   "source": [
    "df.shape"
   ]
  },
  {
   "cell_type": "code",
   "execution_count": 14,
   "id": "6af65233",
   "metadata": {},
   "outputs": [
    {
     "data": {
      "text/html": [
       "<div>\n",
       "<style scoped>\n",
       "    .dataframe tbody tr th:only-of-type {\n",
       "        vertical-align: middle;\n",
       "    }\n",
       "\n",
       "    .dataframe tbody tr th {\n",
       "        vertical-align: top;\n",
       "    }\n",
       "\n",
       "    .dataframe thead th {\n",
       "        text-align: right;\n",
       "    }\n",
       "</style>\n",
       "<table border=\"1\" class=\"dataframe\">\n",
       "  <thead>\n",
       "    <tr style=\"text-align: right;\">\n",
       "      <th></th>\n",
       "      <th>cars_name</th>\n",
       "      <th>cars_brand</th>\n",
       "      <th>model</th>\n",
       "      <th>model_year</th>\n",
       "      <th>car_type</th>\n",
       "      <th>kms</th>\n",
       "      <th>owner</th>\n",
       "      <th>gasoliene_type</th>\n",
       "      <th>price</th>\n",
       "      <th>emi_per_month</th>\n",
       "      <th>zero_downpayment</th>\n",
       "    </tr>\n",
       "  </thead>\n",
       "  <tbody>\n",
       "    <tr>\n",
       "      <th>0</th>\n",
       "      <td>Maruti Alto</td>\n",
       "      <td>Maruti</td>\n",
       "      <td>LXI</td>\n",
       "      <td>2020</td>\n",
       "      <td>Manual</td>\n",
       "      <td>24,682</td>\n",
       "      <td>1st</td>\n",
       "      <td>Petrol</td>\n",
       "      <td>99,099</td>\n",
       "      <td>878/month</td>\n",
       "      <td>Zero downpayment</td>\n",
       "    </tr>\n",
       "    <tr>\n",
       "      <th>1</th>\n",
       "      <td>Hyundai Grand i10</td>\n",
       "      <td>Hyundai</td>\n",
       "      <td>SPORTS 1.2 VTVT</td>\n",
       "      <td>2016</td>\n",
       "      <td>Manual</td>\n",
       "      <td>30,525</td>\n",
       "      <td>1st</td>\n",
       "      <td>Petrol</td>\n",
       "      <td>79,199</td>\n",
       "      <td>,660/month</td>\n",
       "      <td>Zero downpayment</td>\n",
       "    </tr>\n",
       "    <tr>\n",
       "      <th>2</th>\n",
       "      <td>Hyundai Elite i20</td>\n",
       "      <td>Hyundai</td>\n",
       "      <td>STA 1.2</td>\n",
       "      <td>2014</td>\n",
       "      <td>Manual</td>\n",
       "      <td>50,257</td>\n",
       "      <td>1st</td>\n",
       "      <td>Petrol</td>\n",
       "      <td>78,599</td>\n",
       "      <td>,871/month</td>\n",
       "      <td>Zero downpayment</td>\n",
       "    </tr>\n",
       "    <tr>\n",
       "      <th>3</th>\n",
       "      <td>Hyundai Grand i10</td>\n",
       "      <td>Hyundai</td>\n",
       "      <td>GNA 1.2 KAPPA VTVT</td>\n",
       "      <td>2018</td>\n",
       "      <td>Manual</td>\n",
       "      <td>14,586</td>\n",
       "      <td>1st</td>\n",
       "      <td>Petrol</td>\n",
       "      <td>88,799</td>\n",
       "      <td>,873/month</td>\n",
       "      <td>Zero downpayment</td>\n",
       "    </tr>\n",
       "    <tr>\n",
       "      <th>4</th>\n",
       "      <td>Maruti Eeco</td>\n",
       "      <td>Maruti</td>\n",
       "      <td>5 STR WITH AC PLUSHTR</td>\n",
       "      <td>2017</td>\n",
       "      <td>Manual</td>\n",
       "      <td>33,310</td>\n",
       "      <td>1st</td>\n",
       "      <td>Petrol</td>\n",
       "      <td>84,099</td>\n",
       "      <td>544/month</td>\n",
       "      <td>Zero downpayment</td>\n",
       "    </tr>\n",
       "  </tbody>\n",
       "</table>\n",
       "</div>"
      ],
      "text/plain": [
       "           cars_name cars_brand                   model model_year car_type  \\\n",
       "0        Maruti Alto     Maruti                    LXI        2020   Manual   \n",
       "1  Hyundai Grand i10    Hyundai        SPORTS 1.2 VTVT        2016   Manual   \n",
       "2  Hyundai Elite i20    Hyundai                STA 1.2        2014   Manual   \n",
       "3  Hyundai Grand i10    Hyundai     GNA 1.2 KAPPA VTVT        2018   Manual   \n",
       "4        Maruti Eeco     Maruti  5 STR WITH AC PLUSHTR        2017   Manual   \n",
       "\n",
       "      kms owner gasoliene_type   price emi_per_month  zero_downpayment  \n",
       "0  24,682   1st         Petrol  99,099     878/month  Zero downpayment  \n",
       "1  30,525   1st         Petrol  79,199    ,660/month  Zero downpayment  \n",
       "2  50,257   1st         Petrol  78,599    ,871/month  Zero downpayment  \n",
       "3  14,586   1st         Petrol  88,799    ,873/month  Zero downpayment  \n",
       "4  33,310   1st         Petrol  84,099     544/month  Zero downpayment  "
      ]
     },
     "execution_count": 14,
     "metadata": {},
     "output_type": "execute_result"
    }
   ],
   "source": [
    "df.head()"
   ]
  },
  {
   "cell_type": "code",
   "execution_count": 15,
   "id": "160cfbcf",
   "metadata": {},
   "outputs": [],
   "source": [
    "df.to_csv('cars24ahmedabad.csv')"
   ]
  },
  {
   "cell_type": "code",
   "execution_count": null,
   "id": "e29b421c",
   "metadata": {},
   "outputs": [],
   "source": []
  }
 ],
 "metadata": {
  "kernelspec": {
   "display_name": "Python 3 (ipykernel)",
   "language": "python",
   "name": "python3"
  },
  "language_info": {
   "codemirror_mode": {
    "name": "ipython",
    "version": 3
   },
   "file_extension": ".py",
   "mimetype": "text/x-python",
   "name": "python",
   "nbconvert_exporter": "python",
   "pygments_lexer": "ipython3",
   "version": "3.9.7"
  }
 },
 "nbformat": 4,
 "nbformat_minor": 5
}
