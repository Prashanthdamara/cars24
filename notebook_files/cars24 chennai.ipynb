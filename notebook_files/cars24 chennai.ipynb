{
 "cells": [
  {
   "cell_type": "code",
   "execution_count": 1,
   "id": "4536e706",
   "metadata": {},
   "outputs": [],
   "source": [
    "import requests\n",
    "from bs4 import BeautifulSoup \n",
    "import numpy as np"
   ]
  },
  {
   "cell_type": "code",
   "execution_count": 2,
   "id": "970a56d0",
   "metadata": {},
   "outputs": [],
   "source": [
    "from selenium import webdriver\n",
    "import time"
   ]
  },
  {
   "cell_type": "code",
   "execution_count": 3,
   "id": "080061aa",
   "metadata": {},
   "outputs": [
    {
     "name": "stderr",
     "output_type": "stream",
     "text": [
      "C:\\Users\\PRASHA~1\\AppData\\Local\\Temp/ipykernel_18172/1658540857.py:4: DeprecationWarning: executable_path has been deprecated, please pass in a Service object\n",
      "  driver = webdriver.Chrome(path)\n"
     ]
    }
   ],
   "source": [
    "website = 'https://www.cars24.com/buy-used-cars-chennai/'\n",
    "path = 'C://Users//prashanth//Desktop//New folder//chromedriver.exe'\n",
    "\n",
    "driver = webdriver.Chrome(path)\n",
    "driver.get(website)\n",
    "previous_height = driver.execute_script('return document.body.scrollHeight')\n",
    "while True:\n",
    "    driver.execute_script('window.scrollTo(0,document.body.scrollHeight);')\n",
    "    time.sleep(5)\n",
    "    new_height = driver.execute_script('return document.body.scrollHeight')\n",
    "    if new_height == previous_height:\n",
    "        break\n",
    "    previous_height = new_height\n",
    "file_H = open('cars24_chennai.html', 'w', encoding='utf-8')\n",
    "file_H.write(driver.page_source)\n",
    "file_H.close()\n",
    "driver.close()"
   ]
  },
  {
   "cell_type": "code",
   "execution_count": 4,
   "id": "88e54684",
   "metadata": {},
   "outputs": [],
   "source": [
    "data = open('cars24_chennai.html','r')\n",
    "soup = BeautifulSoup(data, 'html.parser')"
   ]
  },
  {
   "cell_type": "code",
   "execution_count": 5,
   "id": "ae184aac",
   "metadata": {},
   "outputs": [],
   "source": [
    "divs = soup.find_all('div',{'class':'_1l4fi'})"
   ]
  },
  {
   "cell_type": "code",
   "execution_count": 6,
   "id": "6ba6ff19",
   "metadata": {},
   "outputs": [],
   "source": [
    "cars_name = [div.find('div',{'class':'_1jpRU'}).find('h2',{'class':'_3FpCg'}).text[5:] for div in divs ] "
   ]
  },
  {
   "cell_type": "code",
   "execution_count": 8,
   "id": "534245ee",
   "metadata": {},
   "outputs": [
    {
     "data": {
      "text/plain": [
       "['Maruti Swift Dzire']"
      ]
     },
     "execution_count": 8,
     "metadata": {},
     "output_type": "execute_result"
    }
   ],
   "source": [
    "cars_name[:1]"
   ]
  },
  {
   "cell_type": "code",
   "execution_count": 9,
   "id": "b14c1eb0",
   "metadata": {},
   "outputs": [],
   "source": [
    "cars_brand = [div.find('div',{'class':'_1jpRU'}).find('h2',{'class':'_3FpCg'}).text[5:].split(' ')[0] for div in divs ] "
   ]
  },
  {
   "cell_type": "code",
   "execution_count": 10,
   "id": "7a187e7c",
   "metadata": {},
   "outputs": [],
   "source": [
    "model_year = [div.find('div',{'class':'_1jpRU'}).text[:4] for div in divs ] "
   ]
  },
  {
   "cell_type": "code",
   "execution_count": 12,
   "id": "146cb99e",
   "metadata": {},
   "outputs": [],
   "source": [
    "model = [div.find('div',{'class':'_1jpRU'}).find('p',{'class':'cvakB'}).text.strip('Manual') for div in divs ]\n",
    "model = [i.strip('Automatic')  for i in model]"
   ]
  },
  {
   "cell_type": "code",
   "execution_count": 13,
   "id": "d5294e26",
   "metadata": {},
   "outputs": [
    {
     "data": {
      "text/plain": [
       "['VXI 1.2 BS IV ']"
      ]
     },
     "execution_count": 13,
     "metadata": {},
     "output_type": "execute_result"
    }
   ],
   "source": [
    "model[:1]"
   ]
  },
  {
   "cell_type": "code",
   "execution_count": 14,
   "id": "92976dc2",
   "metadata": {},
   "outputs": [],
   "source": [
    "car_type = [div.find('div',{'class':'_1jpRU'}).find('p',{'class':'cvakB'}).find('span').text for div in divs ]"
   ]
  },
  {
   "cell_type": "code",
   "execution_count": 15,
   "id": "79721521",
   "metadata": {},
   "outputs": [],
   "source": [
    "kms = [div.find('ul',{'class':'bVR0c'}).text.split(' ')[0] for div in divs ]"
   ]
  },
  {
   "cell_type": "code",
   "execution_count": 16,
   "id": "7f5676b0",
   "metadata": {},
   "outputs": [],
   "source": [
    "owner = [div.find('ul',{'class':'bVR0c'}).text.split(' ')[1][2:] for div in divs ]"
   ]
  },
  {
   "cell_type": "code",
   "execution_count": 17,
   "id": "3a7d4e24",
   "metadata": {},
   "outputs": [],
   "source": [
    "gasoliene_type = [div.find('ul',{'class':'bVR0c'}).text.split(' ')[2][5:] for div in divs ]"
   ]
  },
  {
   "cell_type": "code",
   "execution_count": 18,
   "id": "1eca984a",
   "metadata": {},
   "outputs": [],
   "source": [
    "emi_per_month = [div.find('div',{'class':'_19zc5'}).find('div',{'class':'_2HFRN'}).text[3:] for div in divs ]"
   ]
  },
  {
   "cell_type": "code",
   "execution_count": 19,
   "id": "66b7b2a1",
   "metadata": {},
   "outputs": [],
   "source": [
    "price = [div.find('div',{'class':'_19zc5'}).find('div',{'class':'_7udZZ'}).text[3:] for div in divs ]"
   ]
  },
  {
   "cell_type": "code",
   "execution_count": 20,
   "id": "c3f75718",
   "metadata": {},
   "outputs": [],
   "source": [
    "zero_downpayment = [div.find('div',{'class':'JvSRy'}).find('span',{'class':'_3X7mV _2H07I'}).text for div in divs ]"
   ]
  },
  {
   "cell_type": "code",
   "execution_count": 21,
   "id": "2629bfdd",
   "metadata": {},
   "outputs": [],
   "source": [
    "import pandas as pd"
   ]
  },
  {
   "cell_type": "code",
   "execution_count": 22,
   "id": "a9c9ecd6",
   "metadata": {},
   "outputs": [],
   "source": [
    "d = {'cars_name':cars_name,'cars_brand':cars_brand,'model':model,'model_year':model_year,'car_type':car_type,'kms':kms,'owner':owner,'gasoliene_type':gasoliene_type,'price':price,'emi_per_month':emi_per_month,'zero_downpayment':zero_downpayment}"
   ]
  },
  {
   "cell_type": "code",
   "execution_count": 23,
   "id": "a3dbf1ff",
   "metadata": {},
   "outputs": [],
   "source": [
    "df = pd.DataFrame(d)"
   ]
  },
  {
   "cell_type": "code",
   "execution_count": 24,
   "id": "67e2bf7a",
   "metadata": {},
   "outputs": [
    {
     "data": {
      "text/plain": [
       "(702, 11)"
      ]
     },
     "execution_count": 24,
     "metadata": {},
     "output_type": "execute_result"
    }
   ],
   "source": [
    "df.shape"
   ]
  },
  {
   "cell_type": "code",
   "execution_count": 25,
   "id": "7b266bb2",
   "metadata": {},
   "outputs": [
    {
     "data": {
      "text/html": [
       "<div>\n",
       "<style scoped>\n",
       "    .dataframe tbody tr th:only-of-type {\n",
       "        vertical-align: middle;\n",
       "    }\n",
       "\n",
       "    .dataframe tbody tr th {\n",
       "        vertical-align: top;\n",
       "    }\n",
       "\n",
       "    .dataframe thead th {\n",
       "        text-align: right;\n",
       "    }\n",
       "</style>\n",
       "<table border=\"1\" class=\"dataframe\">\n",
       "  <thead>\n",
       "    <tr style=\"text-align: right;\">\n",
       "      <th></th>\n",
       "      <th>cars_name</th>\n",
       "      <th>cars_brand</th>\n",
       "      <th>model</th>\n",
       "      <th>model_year</th>\n",
       "      <th>car_type</th>\n",
       "      <th>kms</th>\n",
       "      <th>owner</th>\n",
       "      <th>gasoliene_type</th>\n",
       "      <th>price</th>\n",
       "      <th>emi_per_month</th>\n",
       "      <th>zero_downpayment</th>\n",
       "    </tr>\n",
       "  </thead>\n",
       "  <tbody>\n",
       "    <tr>\n",
       "      <th>0</th>\n",
       "      <td>Maruti Swift Dzire</td>\n",
       "      <td>Maruti</td>\n",
       "      <td>VXI 1.2 BS IV</td>\n",
       "      <td>2013</td>\n",
       "      <td>Manual</td>\n",
       "      <td>54,017</td>\n",
       "      <td>2nd</td>\n",
       "      <td>Petrol</td>\n",
       "      <td>4,10,199</td>\n",
       "      <td>9,125/month</td>\n",
       "      <td>Zero downpayment</td>\n",
       "    </tr>\n",
       "    <tr>\n",
       "      <th>1</th>\n",
       "      <td>Honda City</td>\n",
       "      <td>Honda</td>\n",
       "      <td>V MT PETROL</td>\n",
       "      <td>2015</td>\n",
       "      <td>Manual</td>\n",
       "      <td>79,725</td>\n",
       "      <td>3rd</td>\n",
       "      <td>Petrol</td>\n",
       "      <td>5,74,099</td>\n",
       "      <td>12,771/month</td>\n",
       "      <td>Zero downpayment</td>\n",
       "    </tr>\n",
       "    <tr>\n",
       "      <th>2</th>\n",
       "      <td>Hyundai i20 Active</td>\n",
       "      <td>Hyundai</td>\n",
       "      <td>1.2 S</td>\n",
       "      <td>2015</td>\n",
       "      <td>Manual</td>\n",
       "      <td>59,078</td>\n",
       "      <td>2nd</td>\n",
       "      <td>Petrol</td>\n",
       "      <td>5,28,399</td>\n",
       "      <td>11,754/month</td>\n",
       "      <td>Zero downpayment</td>\n",
       "    </tr>\n",
       "    <tr>\n",
       "      <th>3</th>\n",
       "      <td>Maruti Dzire</td>\n",
       "      <td>Maruti</td>\n",
       "      <td>ZDI Plus AMT</td>\n",
       "      <td>2017</td>\n",
       "      <td>Automatic</td>\n",
       "      <td>98,433</td>\n",
       "      <td>1st</td>\n",
       "      <td>Diesel</td>\n",
       "      <td>6,75,399</td>\n",
       "      <td>15,024/month</td>\n",
       "      <td>Zero downpayment</td>\n",
       "    </tr>\n",
       "    <tr>\n",
       "      <th>4</th>\n",
       "      <td>Ford New Figo</td>\n",
       "      <td>Ford</td>\n",
       "      <td>1.2 TITANIUM</td>\n",
       "      <td>2017</td>\n",
       "      <td>Manual</td>\n",
       "      <td>19,376</td>\n",
       "      <td>1st</td>\n",
       "      <td>Petrol</td>\n",
       "      <td>4,98,799</td>\n",
       "      <td>11,096/month</td>\n",
       "      <td>Zero downpayment</td>\n",
       "    </tr>\n",
       "  </tbody>\n",
       "</table>\n",
       "</div>"
      ],
      "text/plain": [
       "            cars_name cars_brand           model model_year   car_type  \\\n",
       "0  Maruti Swift Dzire     Maruti  VXI 1.2 BS IV        2013     Manual   \n",
       "1          Honda City      Honda    V MT PETROL        2015     Manual   \n",
       "2  Hyundai i20 Active    Hyundai          1.2 S        2015     Manual   \n",
       "3        Maruti Dzire     Maruti   ZDI Plus AMT        2017  Automatic   \n",
       "4       Ford New Figo       Ford   1.2 TITANIUM        2017     Manual   \n",
       "\n",
       "      kms owner gasoliene_type     price emi_per_month  zero_downpayment  \n",
       "0  54,017   2nd         Petrol  4,10,199   9,125/month  Zero downpayment  \n",
       "1  79,725   3rd         Petrol  5,74,099  12,771/month  Zero downpayment  \n",
       "2  59,078   2nd         Petrol  5,28,399  11,754/month  Zero downpayment  \n",
       "3  98,433   1st         Diesel  6,75,399  15,024/month  Zero downpayment  \n",
       "4  19,376   1st         Petrol  4,98,799  11,096/month  Zero downpayment  "
      ]
     },
     "execution_count": 25,
     "metadata": {},
     "output_type": "execute_result"
    }
   ],
   "source": [
    "df.head()"
   ]
  },
  {
   "cell_type": "code",
   "execution_count": 26,
   "id": "1d29d5da",
   "metadata": {},
   "outputs": [],
   "source": [
    "df.to_csv('cars24chennai.csv')"
   ]
  },
  {
   "cell_type": "code",
   "execution_count": null,
   "id": "2b7b0778",
   "metadata": {},
   "outputs": [],
   "source": []
  }
 ],
 "metadata": {
  "kernelspec": {
   "display_name": "Python 3 (ipykernel)",
   "language": "python",
   "name": "python3"
  },
  "language_info": {
   "codemirror_mode": {
    "name": "ipython",
    "version": 3
   },
   "file_extension": ".py",
   "mimetype": "text/x-python",
   "name": "python",
   "nbconvert_exporter": "python",
   "pygments_lexer": "ipython3",
   "version": "3.9.7"
  }
 },
 "nbformat": 4,
 "nbformat_minor": 5
}
