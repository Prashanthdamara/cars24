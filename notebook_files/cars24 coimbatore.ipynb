{
 "cells": [
  {
   "cell_type": "code",
   "execution_count": 1,
   "id": "76cc7950",
   "metadata": {},
   "outputs": [],
   "source": [
    "import requests\n",
    "from bs4 import BeautifulSoup \n",
    "import numpy as np"
   ]
  },
  {
   "cell_type": "code",
   "execution_count": 2,
   "id": "70a0d2f9",
   "metadata": {},
   "outputs": [],
   "source": [
    "from selenium import webdriver\n",
    "import time"
   ]
  },
  {
   "cell_type": "code",
   "execution_count": 3,
   "id": "ca7b4cc3",
   "metadata": {},
   "outputs": [
    {
     "name": "stderr",
     "output_type": "stream",
     "text": [
      "C:\\Users\\PRASHA~1\\AppData\\Local\\Temp/ipykernel_1140/1735169326.py:4: DeprecationWarning: executable_path has been deprecated, please pass in a Service object\n",
      "  driver = webdriver.Chrome(path)\n"
     ]
    }
   ],
   "source": [
    "website = 'https://www.cars24.com/buy-used-cars-coimbatore/'\n",
    "path = 'C://Users//prashanth//Desktop//New folder//chromedriver.exe'\n",
    "\n",
    "driver = webdriver.Chrome(path)\n",
    "driver.get(website)\n",
    "previous_height = driver.execute_script('return document.body.scrollHeight')\n",
    "while True:\n",
    "    driver.execute_script('window.scrollTo(0,document.body.scrollHeight);')\n",
    "    time.sleep(5)\n",
    "    new_height = driver.execute_script('return document.body.scrollHeight')\n",
    "    if new_height == previous_height:\n",
    "        break\n",
    "    previous_height = new_height\n",
    "file = open('cars24_coimbatore.html', 'w', encoding='utf-8')\n",
    "file.write(driver.page_source)\n",
    "file.close()\n",
    "driver.close()"
   ]
  },
  {
   "cell_type": "code",
   "execution_count": 7,
   "id": "56f2a082",
   "metadata": {},
   "outputs": [],
   "source": [
    "data = open('cars24_coimbatore.html','r',encoding=\"utf8\")\n",
    "soup = BeautifulSoup(data, 'html.parser')"
   ]
  },
  {
   "cell_type": "code",
   "execution_count": 8,
   "id": "032e2095",
   "metadata": {},
   "outputs": [],
   "source": [
    "divs = soup.find_all('div',{'class':'_1l4fi'})"
   ]
  },
  {
   "cell_type": "code",
   "execution_count": 9,
   "id": "0f7566b8",
   "metadata": {},
   "outputs": [],
   "source": [
    "cars_name = [div.find('div',{'class':'_1jpRU'}).find('h2',{'class':'_3FpCg'}).text[5:] for div in divs ]\n",
    "\n",
    "cars_brand = [div.find('div',{'class':'_1jpRU'}).find('h2',{'class':'_3FpCg'}).text[5:].split(' ')[0] for div in divs ] \n",
    "\n",
    "model_year = [div.find('div',{'class':'_1jpRU'}).text[:4] for div in divs ] \n",
    "\n",
    "model = [div.find('div',{'class':'_1jpRU'}).find('p',{'class':'cvakB'}).text.strip('Manual') for div in divs ]\n",
    "model = [i.strip('Automatic')  for i in model]\n",
    "\n",
    "car_type = [div.find('div',{'class':'_1jpRU'}).find('p',{'class':'cvakB'}).find('span').text for div in divs ]\n",
    "\n",
    "kms = [div.find('ul',{'class':'bVR0c'}).text.split(' ')[0] for div in divs ]\n",
    "\n",
    "owner = [div.find('ul',{'class':'bVR0c'}).text.split(' ')[1][2:] for div in divs ]\n",
    "\n",
    "gasoliene_type = [div.find('ul',{'class':'bVR0c'}).text.split(' ')[2][5:] for div in divs ]\n",
    "\n",
    "emi_per_month = [div.find('div',{'class':'_19zc5'}).find('div',{'class':'_2HFRN'}).text[3:] for div in divs ]\n",
    "\n",
    "price = [div.find('div',{'class':'_19zc5'}).find('div',{'class':'_7udZZ'}).text[3:] for div in divs ]\n",
    "\n",
    "zero_downpayment = [div.find('div',{'class':'JvSRy'}).find('span',{'class':'_3X7mV _2H07I'}).text for div in divs ]"
   ]
  },
  {
   "cell_type": "code",
   "execution_count": 10,
   "id": "17c78a31",
   "metadata": {},
   "outputs": [
    {
     "data": {
      "text/plain": [
       "13"
      ]
     },
     "execution_count": 10,
     "metadata": {},
     "output_type": "execute_result"
    }
   ],
   "source": [
    "len(cars_name)"
   ]
  },
  {
   "cell_type": "code",
   "execution_count": 11,
   "id": "b85d215a",
   "metadata": {},
   "outputs": [],
   "source": [
    "d = {'cars_name':cars_name,'cars_brand':cars_brand,'model':model,'model_year':model_year,'car_type':car_type,'kms':kms,'owner':owner,'gasoliene_type':gasoliene_type,'price':price,'emi_per_month':emi_per_month,'zero_downpayment':zero_downpayment}"
   ]
  },
  {
   "cell_type": "code",
   "execution_count": 12,
   "id": "b8d34a72",
   "metadata": {},
   "outputs": [],
   "source": [
    "import pandas as pd\n"
   ]
  },
  {
   "cell_type": "code",
   "execution_count": 13,
   "id": "ec733e1d",
   "metadata": {},
   "outputs": [],
   "source": [
    "df = pd.DataFrame(d)"
   ]
  },
  {
   "cell_type": "code",
   "execution_count": 14,
   "id": "2c6aab57",
   "metadata": {},
   "outputs": [
    {
     "data": {
      "text/plain": [
       "(13, 11)"
      ]
     },
     "execution_count": 14,
     "metadata": {},
     "output_type": "execute_result"
    }
   ],
   "source": [
    "df.shape"
   ]
  },
  {
   "cell_type": "code",
   "execution_count": 15,
   "id": "26c0dfb7",
   "metadata": {},
   "outputs": [
    {
     "data": {
      "text/html": [
       "<div>\n",
       "<style scoped>\n",
       "    .dataframe tbody tr th:only-of-type {\n",
       "        vertical-align: middle;\n",
       "    }\n",
       "\n",
       "    .dataframe tbody tr th {\n",
       "        vertical-align: top;\n",
       "    }\n",
       "\n",
       "    .dataframe thead th {\n",
       "        text-align: right;\n",
       "    }\n",
       "</style>\n",
       "<table border=\"1\" class=\"dataframe\">\n",
       "  <thead>\n",
       "    <tr style=\"text-align: right;\">\n",
       "      <th></th>\n",
       "      <th>cars_name</th>\n",
       "      <th>cars_brand</th>\n",
       "      <th>model</th>\n",
       "      <th>model_year</th>\n",
       "      <th>car_type</th>\n",
       "      <th>kms</th>\n",
       "      <th>owner</th>\n",
       "      <th>gasoliene_type</th>\n",
       "      <th>price</th>\n",
       "      <th>emi_per_month</th>\n",
       "      <th>zero_downpayment</th>\n",
       "    </tr>\n",
       "  </thead>\n",
       "  <tbody>\n",
       "    <tr>\n",
       "      <th>0</th>\n",
       "      <td>Toyota Etios Liva</td>\n",
       "      <td>Toyota</td>\n",
       "      <td>GD</td>\n",
       "      <td>2012</td>\n",
       "      <td>Manual</td>\n",
       "      <td>1,40,512</td>\n",
       "      <td>1st</td>\n",
       "      <td>Diesel</td>\n",
       "      <td>94,599</td>\n",
       "      <td>778/month</td>\n",
       "      <td>Zero downpayment</td>\n",
       "    </tr>\n",
       "    <tr>\n",
       "      <th>1</th>\n",
       "      <td>Mahindra TUV300</td>\n",
       "      <td>Mahindra</td>\n",
       "      <td>T 10 MT Dual Tone</td>\n",
       "      <td>2018</td>\n",
       "      <td>Manual</td>\n",
       "      <td>89,462</td>\n",
       "      <td>1st</td>\n",
       "      <td>Diesel</td>\n",
       "      <td>79,599</td>\n",
       "      <td>,342/month</td>\n",
       "      <td>Zero downpayment</td>\n",
       "    </tr>\n",
       "    <tr>\n",
       "      <th>2</th>\n",
       "      <td>Hyundai Eon</td>\n",
       "      <td>Hyundai</td>\n",
       "      <td>ERA PLUS</td>\n",
       "      <td>2017</td>\n",
       "      <td>Manual</td>\n",
       "      <td>50,865</td>\n",
       "      <td>2nd</td>\n",
       "      <td>Petrol</td>\n",
       "      <td>28,199</td>\n",
       "      <td>301/month</td>\n",
       "      <td>Zero downpayment</td>\n",
       "    </tr>\n",
       "    <tr>\n",
       "      <th>3</th>\n",
       "      <td>Hyundai VENUE</td>\n",
       "      <td>Hyundai</td>\n",
       "      <td>1.0L Turbo GDI SX(O) MT</td>\n",
       "      <td>2019</td>\n",
       "      <td>Manual</td>\n",
       "      <td>14,515</td>\n",
       "      <td>1st</td>\n",
       "      <td>Petrol</td>\n",
       "      <td>,19,699</td>\n",
       "      <td>,683/month</td>\n",
       "      <td>Zero downpayment</td>\n",
       "    </tr>\n",
       "    <tr>\n",
       "      <th>4</th>\n",
       "      <td>Tata Tiago</td>\n",
       "      <td>Tata</td>\n",
       "      <td>XZ 1.2 REVOTRON</td>\n",
       "      <td>2018</td>\n",
       "      <td>Manual</td>\n",
       "      <td>33,555</td>\n",
       "      <td>1st</td>\n",
       "      <td>Petrol</td>\n",
       "      <td>17,999</td>\n",
       "      <td>,523/month</td>\n",
       "      <td>Zero downpayment</td>\n",
       "    </tr>\n",
       "  </tbody>\n",
       "</table>\n",
       "</div>"
      ],
      "text/plain": [
       "           cars_name cars_brand                     model model_year car_type  \\\n",
       "0  Toyota Etios Liva     Toyota                       GD        2012   Manual   \n",
       "1    Mahindra TUV300   Mahindra        T 10 MT Dual Tone        2018   Manual   \n",
       "2        Hyundai Eon    Hyundai                 ERA PLUS        2017   Manual   \n",
       "3      Hyundai VENUE    Hyundai  1.0L Turbo GDI SX(O) MT        2019   Manual   \n",
       "4         Tata Tiago       Tata          XZ 1.2 REVOTRON        2018   Manual   \n",
       "\n",
       "        kms owner gasoliene_type    price emi_per_month  zero_downpayment  \n",
       "0  1,40,512   1st         Diesel   94,599     778/month  Zero downpayment  \n",
       "1    89,462   1st         Diesel   79,599    ,342/month  Zero downpayment  \n",
       "2    50,865   2nd         Petrol   28,199     301/month  Zero downpayment  \n",
       "3    14,515   1st         Petrol  ,19,699    ,683/month  Zero downpayment  \n",
       "4    33,555   1st         Petrol   17,999    ,523/month  Zero downpayment  "
      ]
     },
     "execution_count": 15,
     "metadata": {},
     "output_type": "execute_result"
    }
   ],
   "source": [
    "df.head()"
   ]
  },
  {
   "cell_type": "code",
   "execution_count": 16,
   "id": "b0c20382",
   "metadata": {},
   "outputs": [],
   "source": [
    "df.to_csv('cars24coimbatore.csv')"
   ]
  },
  {
   "cell_type": "code",
   "execution_count": null,
   "id": "6406985d",
   "metadata": {},
   "outputs": [],
   "source": []
  }
 ],
 "metadata": {
  "kernelspec": {
   "display_name": "Python 3 (ipykernel)",
   "language": "python",
   "name": "python3"
  },
  "language_info": {
   "codemirror_mode": {
    "name": "ipython",
    "version": 3
   },
   "file_extension": ".py",
   "mimetype": "text/x-python",
   "name": "python",
   "nbconvert_exporter": "python",
   "pygments_lexer": "ipython3",
   "version": "3.9.7"
  }
 },
 "nbformat": 4,
 "nbformat_minor": 5
}
