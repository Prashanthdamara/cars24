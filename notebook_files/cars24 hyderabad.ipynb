{
 "cells": [
  {
   "cell_type": "code",
   "execution_count": 105,
   "id": "d71147c9",
   "metadata": {},
   "outputs": [],
   "source": [
    "import requests\n",
    "from bs4 import BeautifulSoup \n",
    "import numpy as np"
   ]
  },
  {
   "cell_type": "code",
   "execution_count": 57,
   "id": "8d7937d5",
   "metadata": {},
   "outputs": [],
   "source": [
    "from selenium import webdriver\n",
    "from lxml import html\n",
    "from selenium.webdriver.common.keys import Keys\n",
    "\n",
    "import time"
   ]
  },
  {
   "cell_type": "code",
   "execution_count": 67,
   "id": "5405abd8",
   "metadata": {},
   "outputs": [
    {
     "name": "stderr",
     "output_type": "stream",
     "text": [
      "C:\\Users\\PRASHA~1\\AppData\\Local\\Temp/ipykernel_7604/2809087700.py:4: DeprecationWarning: executable_path has been deprecated, please pass in a Service object\n",
      "  driver = webdriver.Chrome(path)\n"
     ]
    }
   ],
   "source": [
    "website = 'https://www.cars24.com/buy-used-cars-hyderabad/'\n",
    "path = 'C://Users//prashanth//Desktop//New folder//chromedriver.exe'\n",
    "\n",
    "driver = webdriver.Chrome(path)\n",
    "driver.get(website)\n",
    "previous_height = driver.execute_script('return document.body.scrollHeight')\n",
    "while True:\n",
    "    driver.execute_script('window.scrollTo(0,document.body.scrollHeight);')\n",
    "    time.sleep(5)\n",
    "    new_height = driver.execute_script('return document.body.scrollHeight')\n",
    "    if new_height == previous_height:\n",
    "        break\n",
    "    previous_height = new_height\n",
    "file_H = open('cars24_Hyderabad.html', 'w', encoding='utf-8')\n",
    "file_H.write(driver.page_source)\n",
    "file_H.close()\n",
    "driver.close()\n",
    "\n",
    "\n",
    "\n"
   ]
  },
  {
   "cell_type": "code",
   "execution_count": 129,
   "id": "b63dff02",
   "metadata": {},
   "outputs": [],
   "source": [
    "data = open('cars24_Hyderabad.html','r')\n",
    "soup = BeautifulSoup(data, 'html.parser')\n",
    "   \n",
    "    "
   ]
  },
  {
   "cell_type": "code",
   "execution_count": null,
   "id": "283e2903",
   "metadata": {},
   "outputs": [],
   "source": []
  },
  {
   "cell_type": "code",
   "execution_count": 144,
   "id": "b0a45755",
   "metadata": {},
   "outputs": [],
   "source": [
    "divs = soup.find_all('div',{'class':'_1l4fi'})"
   ]
  },
  {
   "cell_type": "code",
   "execution_count": 240,
   "id": "6c5b41c8",
   "metadata": {},
   "outputs": [],
   "source": [
    "cars_name = [div.find('div',{'class':'_1jpRU'}).find('h2',{'class':'_3FpCg'}).text[5:] for div in divs ] "
   ]
  },
  {
   "cell_type": "code",
   "execution_count": 241,
   "id": "19d34361",
   "metadata": {},
   "outputs": [
    {
     "data": {
      "text/plain": [
       "['Ford Ecosport',\n",
       " 'Maruti Swift',\n",
       " 'Honda Mobilio',\n",
       " 'Maruti Wagon R 1.0',\n",
       " 'Hyundai i20 Active',\n",
       " 'Maruti Alto K10',\n",
       " 'Skoda Octavia',\n",
       " 'Maruti Vitara Brezza',\n",
       " 'Honda City',\n",
       " 'Hyundai Verna',\n",
       " 'Hyundai VENUE',\n",
       " 'Maruti Ciaz',\n",
       " 'Maruti Swift',\n",
       " 'Mahindra XUV500',\n",
       " 'Maruti Baleno',\n",
       " 'Ford Ecosport',\n",
       " 'Renault Kwid',\n",
       " 'Maruti Alto K10',\n",
       " 'Maruti Vitara Brezza',\n",
       " 'Maruti Vitara Brezza',\n",
       " 'Maruti Wagon R 1.0',\n",
       " 'Maruti Wagon R 1.0',\n",
       " 'Maruti Vitara Brezza',\n",
       " 'Hyundai Grand i10',\n",
       " 'Maruti Wagon R 1.0',\n",
       " 'Maruti Alto',\n",
       " 'Maruti Alto 800',\n",
       " 'Maruti Wagon R 1.0',\n",
       " 'Maruti Wagon R 1.0',\n",
       " 'Maruti Wagon R 1.0',\n",
       " 'Honda Brio',\n",
       " 'Maruti Wagon R 1.0',\n",
       " 'Maruti Eeco',\n",
       " 'Maruti Wagon R 1.0',\n",
       " 'Maruti Wagon R 1.0',\n",
       " 'Maruti Alto K10',\n",
       " 'Honda Brio',\n",
       " 'Maruti Eeco',\n",
       " 'Maruti Swift',\n",
       " 'Hyundai Elite i20',\n",
       " 'Maruti Swift',\n",
       " 'Hyundai GRAND I10 NIOS',\n",
       " 'Hyundai Elite i20',\n",
       " 'Renault Kwid',\n",
       " 'Maruti Wagon R 1.0',\n",
       " 'Hyundai Grand i10',\n",
       " 'Volkswagen Ameo',\n",
       " 'Toyota Fortuner',\n",
       " 'Maruti Swift Dzire',\n",
       " 'Datsun Redi Go',\n",
       " 'Hyundai Creta',\n",
       " 'Hyundai Creta',\n",
       " 'Hyundai Creta',\n",
       " 'Hyundai Elite i20',\n",
       " 'Honda WR-V',\n",
       " 'Volkswagen Vento',\n",
       " 'Mercedes Benz C Class',\n",
       " 'Maruti New  Wagon-R',\n",
       " 'Honda City',\n",
       " 'Hyundai Elite i20',\n",
       " 'Hyundai Elite i20',\n",
       " 'Maruti IGNIS',\n",
       " 'Maruti Celerio',\n",
       " 'Hyundai Eon',\n",
       " 'Maruti Baleno',\n",
       " 'Maruti Swift',\n",
       " 'Hyundai Creta',\n",
       " 'Maruti Baleno',\n",
       " 'Hyundai Verna',\n",
       " 'Maruti Swift Dzire',\n",
       " 'Renault Kwid',\n",
       " 'Hyundai Eon',\n",
       " 'Honda Jazz',\n",
       " 'Maruti Swift',\n",
       " 'Maruti Baleno',\n",
       " 'Maruti Baleno',\n",
       " 'Maruti Swift',\n",
       " 'Maruti Alto 800',\n",
       " 'Hyundai Santro Xing',\n",
       " 'Hyundai Grand i10',\n",
       " 'Maruti Wagon R 1.0',\n",
       " 'Hyundai Grand i10',\n",
       " 'Hyundai Grand i10',\n",
       " 'Hyundai i10',\n",
       " 'Hyundai Grand i10',\n",
       " 'Maruti Wagon R 1.0',\n",
       " 'Maruti Wagon R 1.0',\n",
       " 'Maruti Alto K10',\n",
       " 'Maruti Alto K10',\n",
       " 'Maruti Alto K10',\n",
       " 'Maruti Alto K10',\n",
       " 'Renault Captur',\n",
       " 'Maruti New  Wagon-R',\n",
       " 'Hyundai Creta',\n",
       " 'Tata Tiago',\n",
       " 'Toyota Fortuner',\n",
       " 'Tata Safari Storme',\n",
       " 'Honda Amaze',\n",
       " 'Ford New Figo',\n",
       " 'Maruti Ciaz',\n",
       " 'Honda City',\n",
       " 'Toyota Innova Crysta',\n",
       " 'Honda WR-V',\n",
       " 'Honda City',\n",
       " 'Maruti Baleno',\n",
       " 'Maruti XL6',\n",
       " 'Hyundai Elite i20',\n",
       " 'Maruti Ciaz',\n",
       " 'Honda City',\n",
       " 'Hyundai NEW I20',\n",
       " 'Hyundai Elite i20',\n",
       " 'Hyundai i20 Active',\n",
       " 'Maruti Swift Dzire',\n",
       " 'Maruti Baleno',\n",
       " 'Renault Kwid',\n",
       " 'Maruti Swift',\n",
       " 'Hyundai Santro Xing',\n",
       " 'Renault Kwid',\n",
       " 'Maruti Vitara Brezza',\n",
       " 'Honda Brio',\n",
       " 'Maruti Baleno',\n",
       " 'Maruti Celerio',\n",
       " 'Maruti Wagon R 1.0',\n",
       " 'Maruti Alto',\n",
       " 'Hyundai Grand i10',\n",
       " 'Maruti Wagon R 1.0',\n",
       " 'Maruti Alto 800',\n",
       " 'Maruti Alto K10',\n",
       " 'Maruti Alto K10',\n",
       " 'Maruti Eeco',\n",
       " 'Maruti Eeco',\n",
       " 'Maruti Eeco',\n",
       " 'Hyundai i10',\n",
       " 'Maruti Alto K10',\n",
       " 'Maruti Baleno',\n",
       " 'MG HECTOR',\n",
       " 'Maruti Swift Dzire']"
      ]
     },
     "execution_count": 241,
     "metadata": {},
     "output_type": "execute_result"
    }
   ],
   "source": [
    "cars_name"
   ]
  },
  {
   "cell_type": "code",
   "execution_count": 242,
   "id": "b9b64261",
   "metadata": {},
   "outputs": [],
   "source": [
    "cars_brand = [div.find('div',{'class':'_1jpRU'}).find('h2',{'class':'_3FpCg'}).text[5:].split(' ')[0] for div in divs ] "
   ]
  },
  {
   "cell_type": "code",
   "execution_count": 243,
   "id": "177a2a7b",
   "metadata": {},
   "outputs": [
    {
     "data": {
      "text/plain": [
       "['Ford']"
      ]
     },
     "execution_count": 243,
     "metadata": {},
     "output_type": "execute_result"
    }
   ],
   "source": [
    "cars_brand[:1]"
   ]
  },
  {
   "cell_type": "code",
   "execution_count": 222,
   "id": "bc4e15c8",
   "metadata": {},
   "outputs": [],
   "source": [
    "model_year = [div.find('div',{'class':'_1jpRU'}).text[:4] for div in divs ] "
   ]
  },
  {
   "cell_type": "code",
   "execution_count": 223,
   "id": "ec30bef9",
   "metadata": {},
   "outputs": [
    {
     "data": {
      "text/plain": [
       "['2013']"
      ]
     },
     "execution_count": 223,
     "metadata": {},
     "output_type": "execute_result"
    }
   ],
   "source": [
    "model_year[:1]"
   ]
  },
  {
   "cell_type": "code",
   "execution_count": 153,
   "id": "174de930",
   "metadata": {},
   "outputs": [
    {
     "data": {
      "text/plain": [
       "[<div class=\"_1l4fi\"><div class=\"_15rKe\"><div class=\"_1jpRU\"><h2 class=\"_3FpCg\">2013 Ford Ecosport</h2><p class=\"cvakB\">1.5 TITANIUMTDCI OPT <span>Manual</span></p></div></div><ul class=\"bVR0c\"><li>1,79,045 km</li><li>1st Owner</li><li>Diesel</li></ul><div class=\"_19zc5\"><div class=\"_2HFRN\"><strong>â‚¹11,291/month</strong></div><div class=\"_7udZZ\"><span>â‚¹5,07,599</span></div></div><div class=\"JvSRy\"><span class=\"_3X7mV _2H07I\">Zero downpayment</span></div></div>]"
      ]
     },
     "execution_count": 153,
     "metadata": {},
     "output_type": "execute_result"
    }
   ],
   "source": [
    "divs[:1]"
   ]
  },
  {
   "cell_type": "code",
   "execution_count": 177,
   "id": "131836e9",
   "metadata": {},
   "outputs": [],
   "source": [
    "model = [div.find('div',{'class':'_1jpRU'}).find('p',{'class':'cvakB'}).text.strip('Manual') for div in divs ]"
   ]
  },
  {
   "cell_type": "code",
   "execution_count": 178,
   "id": "d1899647",
   "metadata": {},
   "outputs": [],
   "source": [
    "model = [i.strip('Automatic')  for i in model]"
   ]
  },
  {
   "cell_type": "code",
   "execution_count": 179,
   "id": "1a31136f",
   "metadata": {},
   "outputs": [
    {
     "data": {
      "text/plain": [
       "['1.5 TITANIUMTDCI OPT ', 'ZDI ']"
      ]
     },
     "execution_count": 179,
     "metadata": {},
     "output_type": "execute_result"
    }
   ],
   "source": [
    "model[:2]    "
   ]
  },
  {
   "cell_type": "code",
   "execution_count": 180,
   "id": "93b65070",
   "metadata": {},
   "outputs": [],
   "source": [
    "car_type = [div.find('div',{'class':'_1jpRU'}).find('p',{'class':'cvakB'}).find('span').text for div in divs ]"
   ]
  },
  {
   "cell_type": "code",
   "execution_count": 182,
   "id": "d0d10bb7",
   "metadata": {},
   "outputs": [
    {
     "data": {
      "text/plain": [
       "[<div class=\"_1l4fi\"><div class=\"_15rKe\"><div class=\"_1jpRU\"><h2 class=\"_3FpCg\">2013 Ford Ecosport</h2><p class=\"cvakB\">1.5 TITANIUMTDCI OPT <span>Manual</span></p></div></div><ul class=\"bVR0c\"><li>1,79,045 km</li><li>1st Owner</li><li>Diesel</li></ul><div class=\"_19zc5\"><div class=\"_2HFRN\"><strong>â‚¹11,291/month</strong></div><div class=\"_7udZZ\"><span>â‚¹5,07,599</span></div></div><div class=\"JvSRy\"><span class=\"_3X7mV _2H07I\">Zero downpayment</span></div></div>]"
      ]
     },
     "execution_count": 182,
     "metadata": {},
     "output_type": "execute_result"
    }
   ],
   "source": [
    "divs[:1]"
   ]
  },
  {
   "cell_type": "code",
   "execution_count": 193,
   "id": "d428d657",
   "metadata": {},
   "outputs": [],
   "source": [
    "kms = [div.find('ul',{'class':'bVR0c'}).text.split(' ')[0] for div in divs ]"
   ]
  },
  {
   "cell_type": "code",
   "execution_count": 195,
   "id": "f6212e93",
   "metadata": {},
   "outputs": [
    {
     "data": {
      "text/plain": [
       "['1,79,045']"
      ]
     },
     "execution_count": 195,
     "metadata": {},
     "output_type": "execute_result"
    }
   ],
   "source": [
    "kms[:1]"
   ]
  },
  {
   "cell_type": "code",
   "execution_count": 198,
   "id": "6edd592b",
   "metadata": {},
   "outputs": [],
   "source": [
    "owner = [div.find('ul',{'class':'bVR0c'}).text.split(' ')[1][2:] for div in divs ]"
   ]
  },
  {
   "cell_type": "code",
   "execution_count": 200,
   "id": "711de731",
   "metadata": {},
   "outputs": [
    {
     "data": {
      "text/plain": [
       "['1st']"
      ]
     },
     "execution_count": 200,
     "metadata": {},
     "output_type": "execute_result"
    }
   ],
   "source": [
    "owner[:1]"
   ]
  },
  {
   "cell_type": "code",
   "execution_count": 203,
   "id": "0137046b",
   "metadata": {},
   "outputs": [],
   "source": [
    "gasoliene_type = [div.find('ul',{'class':'bVR0c'}).text.split(' ')[2][5:] for div in divs ]"
   ]
  },
  {
   "cell_type": "code",
   "execution_count": 205,
   "id": "6fcca5ce",
   "metadata": {},
   "outputs": [
    {
     "data": {
      "text/plain": [
       "['Diesel']"
      ]
     },
     "execution_count": 205,
     "metadata": {},
     "output_type": "execute_result"
    }
   ],
   "source": [
    "gasoliene_type[:1]"
   ]
  },
  {
   "cell_type": "code",
   "execution_count": 211,
   "id": "f81e3e18",
   "metadata": {},
   "outputs": [],
   "source": [
    "emi_per_month = [div.find('div',{'class':'_19zc5'}).find('div',{'class':'_2HFRN'}).text[3:] for div in divs ]"
   ]
  },
  {
   "cell_type": "code",
   "execution_count": 213,
   "id": "612359a2",
   "metadata": {},
   "outputs": [
    {
     "data": {
      "text/plain": [
       "['11,291/month']"
      ]
     },
     "execution_count": 213,
     "metadata": {},
     "output_type": "execute_result"
    }
   ],
   "source": [
    "emi_per_month[:1]"
   ]
  },
  {
   "cell_type": "code",
   "execution_count": 216,
   "id": "3ea6a54e",
   "metadata": {},
   "outputs": [],
   "source": [
    "price = [div.find('div',{'class':'_19zc5'}).find('div',{'class':'_7udZZ'}).text[3:] for div in divs ]"
   ]
  },
  {
   "cell_type": "code",
   "execution_count": 217,
   "id": "ede8de91",
   "metadata": {},
   "outputs": [
    {
     "data": {
      "text/plain": [
       "['5,07,599']"
      ]
     },
     "execution_count": 217,
     "metadata": {},
     "output_type": "execute_result"
    }
   ],
   "source": [
    "price[:1]"
   ]
  },
  {
   "cell_type": "code",
   "execution_count": 218,
   "id": "79cea28a",
   "metadata": {},
   "outputs": [],
   "source": [
    "zero_downpayment = [div.find('div',{'class':'JvSRy'}).find('span',{'class':'_3X7mV _2H07I'}).text for div in divs ]"
   ]
  },
  {
   "cell_type": "code",
   "execution_count": 221,
   "id": "d9bc6944",
   "metadata": {},
   "outputs": [
    {
     "data": {
      "text/plain": [
       "['Zero downpayment']"
      ]
     },
     "execution_count": 221,
     "metadata": {},
     "output_type": "execute_result"
    }
   ],
   "source": [
    "zero_downpayment[:1]"
   ]
  },
  {
   "cell_type": "code",
   "execution_count": 239,
   "id": "9f542bb1",
   "metadata": {},
   "outputs": [],
   "source": [
    "import pandas as pd\n",
    "\n"
   ]
  },
  {
   "cell_type": "code",
   "execution_count": 244,
   "id": "ffcc8c74",
   "metadata": {},
   "outputs": [],
   "source": [
    "d = {'cars_name':cars_name,'cars_brand':cars_brand,'model':model,'model_year':model_year,'car_type':car_type,'kms':kms,'owner':owner,'gasoliene_type':gasoliene_type,'price':price,'emi_per_month':emi_per_month,'zero_downpayment':zero_downpayment}"
   ]
  },
  {
   "cell_type": "code",
   "execution_count": 245,
   "id": "c27c6f4c",
   "metadata": {},
   "outputs": [],
   "source": [
    "df = pd.DataFrame(d)"
   ]
  },
  {
   "cell_type": "code",
   "execution_count": 246,
   "id": "ee3fc6aa",
   "metadata": {},
   "outputs": [
    {
     "data": {
      "text/html": [
       "<div>\n",
       "<style scoped>\n",
       "    .dataframe tbody tr th:only-of-type {\n",
       "        vertical-align: middle;\n",
       "    }\n",
       "\n",
       "    .dataframe tbody tr th {\n",
       "        vertical-align: top;\n",
       "    }\n",
       "\n",
       "    .dataframe thead th {\n",
       "        text-align: right;\n",
       "    }\n",
       "</style>\n",
       "<table border=\"1\" class=\"dataframe\">\n",
       "  <thead>\n",
       "    <tr style=\"text-align: right;\">\n",
       "      <th></th>\n",
       "      <th>cars_name</th>\n",
       "      <th>cars_brand</th>\n",
       "      <th>model</th>\n",
       "      <th>model_year</th>\n",
       "      <th>car_type</th>\n",
       "      <th>kms</th>\n",
       "      <th>owner</th>\n",
       "      <th>gasoliene_type</th>\n",
       "      <th>price</th>\n",
       "      <th>emi_per_month</th>\n",
       "      <th>zero_downpayment</th>\n",
       "    </tr>\n",
       "  </thead>\n",
       "  <tbody>\n",
       "    <tr>\n",
       "      <th>0</th>\n",
       "      <td>Ford Ecosport</td>\n",
       "      <td>Ford</td>\n",
       "      <td>1.5 TITANIUMTDCI OPT</td>\n",
       "      <td>2013</td>\n",
       "      <td>Manual</td>\n",
       "      <td>1,79,045</td>\n",
       "      <td>1st</td>\n",
       "      <td>Diesel</td>\n",
       "      <td>5,07,599</td>\n",
       "      <td>11,291/month</td>\n",
       "      <td>Zero downpayment</td>\n",
       "    </tr>\n",
       "    <tr>\n",
       "      <th>1</th>\n",
       "      <td>Maruti Swift</td>\n",
       "      <td>Maruti</td>\n",
       "      <td>ZDI</td>\n",
       "      <td>2012</td>\n",
       "      <td>Manual</td>\n",
       "      <td>78,819</td>\n",
       "      <td>2nd</td>\n",
       "      <td>Diesel</td>\n",
       "      <td>4,76,699</td>\n",
       "      <td>10,604/month</td>\n",
       "      <td>Zero downpayment</td>\n",
       "    </tr>\n",
       "    <tr>\n",
       "      <th>2</th>\n",
       "      <td>Honda Mobilio</td>\n",
       "      <td>Honda</td>\n",
       "      <td>1.5 V OPT I DTEC</td>\n",
       "      <td>2014</td>\n",
       "      <td>Manual</td>\n",
       "      <td>97,289</td>\n",
       "      <td>2nd</td>\n",
       "      <td>Diesel</td>\n",
       "      <td>4,94,799</td>\n",
       "      <td>11,007/month</td>\n",
       "      <td>Zero downpayment</td>\n",
       "    </tr>\n",
       "    <tr>\n",
       "      <th>3</th>\n",
       "      <td>Maruti Wagon R 1.0</td>\n",
       "      <td>Maruti</td>\n",
       "      <td>VXI</td>\n",
       "      <td>2013</td>\n",
       "      <td>Manual</td>\n",
       "      <td>45,693</td>\n",
       "      <td>2nd</td>\n",
       "      <td>Petrol</td>\n",
       "      <td>3,31,999</td>\n",
       "      <td>7,385/month</td>\n",
       "      <td>Zero downpayment</td>\n",
       "    </tr>\n",
       "    <tr>\n",
       "      <th>4</th>\n",
       "      <td>Hyundai i20 Active</td>\n",
       "      <td>Hyundai</td>\n",
       "      <td>1.2 S</td>\n",
       "      <td>2016</td>\n",
       "      <td>Manual</td>\n",
       "      <td>40,586</td>\n",
       "      <td>1st</td>\n",
       "      <td>Petrol</td>\n",
       "      <td>6,20,299</td>\n",
       "      <td>13,798/month</td>\n",
       "      <td>Zero downpayment</td>\n",
       "    </tr>\n",
       "  </tbody>\n",
       "</table>\n",
       "</div>"
      ],
      "text/plain": [
       "            cars_name cars_brand                  model model_year car_type  \\\n",
       "0       Ford Ecosport       Ford  1.5 TITANIUMTDCI OPT        2013   Manual   \n",
       "1        Maruti Swift     Maruti                   ZDI        2012   Manual   \n",
       "2       Honda Mobilio      Honda      1.5 V OPT I DTEC        2014   Manual   \n",
       "3  Maruti Wagon R 1.0     Maruti                   VXI        2013   Manual   \n",
       "4  Hyundai i20 Active    Hyundai                 1.2 S        2016   Manual   \n",
       "\n",
       "        kms owner gasoliene_type     price emi_per_month  zero_downpayment  \n",
       "0  1,79,045   1st         Diesel  5,07,599  11,291/month  Zero downpayment  \n",
       "1    78,819   2nd         Diesel  4,76,699  10,604/month  Zero downpayment  \n",
       "2    97,289   2nd         Diesel  4,94,799  11,007/month  Zero downpayment  \n",
       "3    45,693   2nd         Petrol  3,31,999   7,385/month  Zero downpayment  \n",
       "4    40,586   1st         Petrol  6,20,299  13,798/month  Zero downpayment  "
      ]
     },
     "execution_count": 246,
     "metadata": {},
     "output_type": "execute_result"
    }
   ],
   "source": [
    "df.head()"
   ]
  },
  {
   "cell_type": "code",
   "execution_count": 249,
   "id": "a6ee911a",
   "metadata": {},
   "outputs": [
    {
     "data": {
      "text/plain": [
       "(137, 11)"
      ]
     },
     "execution_count": 249,
     "metadata": {},
     "output_type": "execute_result"
    }
   ],
   "source": [
    "df.shape"
   ]
  },
  {
   "cell_type": "code",
   "execution_count": 250,
   "id": "da3f563a",
   "metadata": {},
   "outputs": [],
   "source": [
    "df.to_csv('cars24.csv')"
   ]
  },
  {
   "cell_type": "code",
   "execution_count": null,
   "id": "76126fde",
   "metadata": {},
   "outputs": [],
   "source": []
  }
 ],
 "metadata": {
  "kernelspec": {
   "display_name": "Python 3 (ipykernel)",
   "language": "python",
   "name": "python3"
  },
  "language_info": {
   "codemirror_mode": {
    "name": "ipython",
    "version": 3
   },
   "file_extension": ".py",
   "mimetype": "text/x-python",
   "name": "python",
   "nbconvert_exporter": "python",
   "pygments_lexer": "ipython3",
   "version": "3.9.7"
  }
 },
 "nbformat": 4,
 "nbformat_minor": 5
}
