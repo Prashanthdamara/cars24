{
 "cells": [
  {
   "cell_type": "code",
   "execution_count": 1,
   "id": "7d72cf54",
   "metadata": {},
   "outputs": [],
   "source": [
    "import requests\n",
    "from bs4 import BeautifulSoup \n",
    "import numpy as np"
   ]
  },
  {
   "cell_type": "code",
   "execution_count": 2,
   "id": "6fef41a7",
   "metadata": {},
   "outputs": [],
   "source": [
    "from selenium import webdriver\n",
    "import time"
   ]
  },
  {
   "cell_type": "code",
   "execution_count": 3,
   "id": "809f214e",
   "metadata": {},
   "outputs": [
    {
     "name": "stderr",
     "output_type": "stream",
     "text": [
      "C:\\Users\\PRASHA~1\\AppData\\Local\\Temp/ipykernel_16876/2710720280.py:4: DeprecationWarning: executable_path has been deprecated, please pass in a Service object\n",
      "  driver = webdriver.Chrome(path)\n"
     ]
    }
   ],
   "source": [
    "website = 'https://www.cars24.com/buy-used-cars-mumbai/'\n",
    "path = 'C://Users//prashanth//Desktop//New folder//chromedriver.exe'\n",
    "\n",
    "driver = webdriver.Chrome(path)\n",
    "driver.get(website)\n",
    "previous_height = driver.execute_script('return document.body.scrollHeight')\n",
    "while True:\n",
    "    driver.execute_script('window.scrollTo(0,document.body.scrollHeight);')\n",
    "    time.sleep(5)\n",
    "    new_height = driver.execute_script('return document.body.scrollHeight')\n",
    "    if new_height == previous_height:\n",
    "        break\n",
    "    previous_height = new_height\n",
    "file_H = open('cars24_mumbai.html', 'w', encoding='utf-8')\n",
    "file_H.write(driver.page_source)\n",
    "file_H.close()\n",
    "driver.close()"
   ]
  },
  {
   "cell_type": "code",
   "execution_count": 4,
   "id": "6850303c",
   "metadata": {},
   "outputs": [],
   "source": [
    "data = open('cars24_mumbai.html','r')\n",
    "soup = BeautifulSoup(data, 'html.parser')"
   ]
  },
  {
   "cell_type": "code",
   "execution_count": 5,
   "id": "ce8876fd",
   "metadata": {},
   "outputs": [],
   "source": [
    "divs = soup.find_all('div',{'class':'_1l4fi'})"
   ]
  },
  {
   "cell_type": "code",
   "execution_count": 6,
   "id": "51ec42de",
   "metadata": {},
   "outputs": [],
   "source": [
    "cars_name = [div.find('div',{'class':'_1jpRU'}).find('h2',{'class':'_3FpCg'}).text[5:] for div in divs ] "
   ]
  },
  {
   "cell_type": "code",
   "execution_count": 7,
   "id": "05980676",
   "metadata": {},
   "outputs": [],
   "source": [
    "cars_brand = [div.find('div',{'class':'_1jpRU'}).find('h2',{'class':'_3FpCg'}).text[5:].split(' ')[0] for div in divs ] "
   ]
  },
  {
   "cell_type": "code",
   "execution_count": 8,
   "id": "f4d0c285",
   "metadata": {},
   "outputs": [],
   "source": [
    "model_year = [div.find('div',{'class':'_1jpRU'}).text[:4] for div in divs ] "
   ]
  },
  {
   "cell_type": "code",
   "execution_count": 9,
   "id": "51db0d8b",
   "metadata": {},
   "outputs": [],
   "source": [
    "model = [div.find('div',{'class':'_1jpRU'}).find('p',{'class':'cvakB'}).text.strip('Manual') for div in divs ]\n",
    "model = [i.strip('Automatic')  for i in model]"
   ]
  },
  {
   "cell_type": "code",
   "execution_count": 10,
   "id": "c86a47b2",
   "metadata": {},
   "outputs": [],
   "source": [
    "car_type = [div.find('div',{'class':'_1jpRU'}).find('p',{'class':'cvakB'}).find('span').text for div in divs ]"
   ]
  },
  {
   "cell_type": "code",
   "execution_count": 11,
   "id": "0870fe15",
   "metadata": {},
   "outputs": [],
   "source": [
    "kms = [div.find('ul',{'class':'bVR0c'}).text.split(' ')[0] for div in divs ]"
   ]
  },
  {
   "cell_type": "code",
   "execution_count": 12,
   "id": "32fe5c54",
   "metadata": {},
   "outputs": [],
   "source": [
    "owner = [div.find('ul',{'class':'bVR0c'}).text.split(' ')[1][2:] for div in divs ]"
   ]
  },
  {
   "cell_type": "code",
   "execution_count": 13,
   "id": "23e5de4b",
   "metadata": {},
   "outputs": [],
   "source": [
    "gasoliene_type = [div.find('ul',{'class':'bVR0c'}).text.split(' ')[2][5:] for div in divs ]"
   ]
  },
  {
   "cell_type": "code",
   "execution_count": 14,
   "id": "575d64bb",
   "metadata": {},
   "outputs": [],
   "source": [
    "emi_per_month = [div.find('div',{'class':'_19zc5'}).find('div',{'class':'_2HFRN'}).text[3:] for div in divs ]"
   ]
  },
  {
   "cell_type": "code",
   "execution_count": 15,
   "id": "ea90cfa7",
   "metadata": {},
   "outputs": [],
   "source": [
    "price = [div.find('div',{'class':'_19zc5'}).find('div',{'class':'_7udZZ'}).text[3:] for div in divs ]"
   ]
  },
  {
   "cell_type": "code",
   "execution_count": 16,
   "id": "fd9334de",
   "metadata": {},
   "outputs": [],
   "source": [
    "zero_downpayment = [div.find('div',{'class':'JvSRy'}).find('span',{'class':'_3X7mV _2H07I'}).text for div in divs ]"
   ]
  },
  {
   "cell_type": "code",
   "execution_count": 17,
   "id": "b31dbb43",
   "metadata": {},
   "outputs": [],
   "source": [
    "import pandas as pd"
   ]
  },
  {
   "cell_type": "code",
   "execution_count": 18,
   "id": "547c641e",
   "metadata": {},
   "outputs": [],
   "source": [
    "d = {'cars_name':cars_name,'cars_brand':cars_brand,'model':model,'model_year':model_year,'car_type':car_type,'kms':kms,'owner':owner,'gasoliene_type':gasoliene_type,'price':price,'emi_per_month':emi_per_month,'zero_downpayment':zero_downpayment}"
   ]
  },
  {
   "cell_type": "code",
   "execution_count": 19,
   "id": "ca91a62c",
   "metadata": {},
   "outputs": [],
   "source": [
    "df = pd.DataFrame(d)"
   ]
  },
  {
   "cell_type": "code",
   "execution_count": 20,
   "id": "4cbc115c",
   "metadata": {},
   "outputs": [
    {
     "data": {
      "text/plain": [
       "(670, 11)"
      ]
     },
     "execution_count": 20,
     "metadata": {},
     "output_type": "execute_result"
    }
   ],
   "source": [
    "df.shape"
   ]
  },
  {
   "cell_type": "code",
   "execution_count": 21,
   "id": "3c4610ee",
   "metadata": {},
   "outputs": [
    {
     "data": {
      "text/html": [
       "<div>\n",
       "<style scoped>\n",
       "    .dataframe tbody tr th:only-of-type {\n",
       "        vertical-align: middle;\n",
       "    }\n",
       "\n",
       "    .dataframe tbody tr th {\n",
       "        vertical-align: top;\n",
       "    }\n",
       "\n",
       "    .dataframe thead th {\n",
       "        text-align: right;\n",
       "    }\n",
       "</style>\n",
       "<table border=\"1\" class=\"dataframe\">\n",
       "  <thead>\n",
       "    <tr style=\"text-align: right;\">\n",
       "      <th></th>\n",
       "      <th>cars_name</th>\n",
       "      <th>cars_brand</th>\n",
       "      <th>model</th>\n",
       "      <th>model_year</th>\n",
       "      <th>car_type</th>\n",
       "      <th>kms</th>\n",
       "      <th>owner</th>\n",
       "      <th>gasoliene_type</th>\n",
       "      <th>price</th>\n",
       "      <th>emi_per_month</th>\n",
       "      <th>zero_downpayment</th>\n",
       "    </tr>\n",
       "  </thead>\n",
       "  <tbody>\n",
       "    <tr>\n",
       "      <th>0</th>\n",
       "      <td>Ford New Figo</td>\n",
       "      <td>Ford</td>\n",
       "      <td>1.2 TREND</td>\n",
       "      <td>2017</td>\n",
       "      <td>Manual</td>\n",
       "      <td>58</td>\n",
       "      <td>1st</td>\n",
       "      <td>Petrol</td>\n",
       "      <td>4,20,699</td>\n",
       "      <td>9,358/month</td>\n",
       "      <td>Zero downpayment</td>\n",
       "    </tr>\n",
       "    <tr>\n",
       "      <th>1</th>\n",
       "      <td>Maruti Swift</td>\n",
       "      <td>Maruti</td>\n",
       "      <td>VDI</td>\n",
       "      <td>2012</td>\n",
       "      <td>Manual</td>\n",
       "      <td>69,711</td>\n",
       "      <td>2nd</td>\n",
       "      <td>Diesel</td>\n",
       "      <td>4,09,599</td>\n",
       "      <td>9,111/month</td>\n",
       "      <td>Zero downpayment</td>\n",
       "    </tr>\n",
       "    <tr>\n",
       "      <th>2</th>\n",
       "      <td>Maruti Vitara Brezza</td>\n",
       "      <td>Maruti</td>\n",
       "      <td>ZXI+ AT SHVS</td>\n",
       "      <td>2020</td>\n",
       "      <td>Automatic</td>\n",
       "      <td>13,934</td>\n",
       "      <td>1st</td>\n",
       "      <td>Petrol</td>\n",
       "      <td>11,31,099</td>\n",
       "      <td>25,161/month</td>\n",
       "      <td>Zero downpayment</td>\n",
       "    </tr>\n",
       "    <tr>\n",
       "      <th>3</th>\n",
       "      <td>Honda WR-V</td>\n",
       "      <td>Honda</td>\n",
       "      <td>1.2 i-VTEC VX MT</td>\n",
       "      <td>2018</td>\n",
       "      <td>Manual</td>\n",
       "      <td>16,631</td>\n",
       "      <td>1st</td>\n",
       "      <td>Petrol</td>\n",
       "      <td>8,11,899</td>\n",
       "      <td>18,060/month</td>\n",
       "      <td>Zero downpayment</td>\n",
       "    </tr>\n",
       "    <tr>\n",
       "      <th>4</th>\n",
       "      <td>Hyundai Tucson New</td>\n",
       "      <td>Hyundai</td>\n",
       "      <td>2WD AT GLS DIESEL</td>\n",
       "      <td>2017</td>\n",
       "      <td>Automatic</td>\n",
       "      <td>64,801</td>\n",
       "      <td>1st</td>\n",
       "      <td>Diesel</td>\n",
       "      <td>16,66,499</td>\n",
       "      <td>37,070/month</td>\n",
       "      <td>Zero downpayment</td>\n",
       "    </tr>\n",
       "  </tbody>\n",
       "</table>\n",
       "</div>"
      ],
      "text/plain": [
       "              cars_name cars_brand               model model_year   car_type  \\\n",
       "0         Ford New Figo       Ford          1.2 TREND        2017     Manual   \n",
       "1          Maruti Swift     Maruti                VDI        2012     Manual   \n",
       "2  Maruti Vitara Brezza     Maruti       ZXI+ AT SHVS        2020  Automatic   \n",
       "3            Honda WR-V      Honda   1.2 i-VTEC VX MT        2018     Manual   \n",
       "4    Hyundai Tucson New    Hyundai  2WD AT GLS DIESEL        2017  Automatic   \n",
       "\n",
       "      kms owner gasoliene_type      price emi_per_month  zero_downpayment  \n",
       "0      58   1st         Petrol   4,20,699   9,358/month  Zero downpayment  \n",
       "1  69,711   2nd         Diesel   4,09,599   9,111/month  Zero downpayment  \n",
       "2  13,934   1st         Petrol  11,31,099  25,161/month  Zero downpayment  \n",
       "3  16,631   1st         Petrol   8,11,899  18,060/month  Zero downpayment  \n",
       "4  64,801   1st         Diesel  16,66,499  37,070/month  Zero downpayment  "
      ]
     },
     "execution_count": 21,
     "metadata": {},
     "output_type": "execute_result"
    }
   ],
   "source": [
    "df.head()"
   ]
  },
  {
   "cell_type": "code",
   "execution_count": 22,
   "id": "17fe404b",
   "metadata": {},
   "outputs": [],
   "source": [
    "df.to_csv('cars24mumbai.csv')"
   ]
  },
  {
   "cell_type": "code",
   "execution_count": null,
   "id": "35aa7c15",
   "metadata": {},
   "outputs": [],
   "source": [
    "\n",
    "\n"
   ]
  }
 ],
 "metadata": {
  "kernelspec": {
   "display_name": "Python 3 (ipykernel)",
   "language": "python",
   "name": "python3"
  },
  "language_info": {
   "codemirror_mode": {
    "name": "ipython",
    "version": 3
   },
   "file_extension": ".py",
   "mimetype": "text/x-python",
   "name": "python",
   "nbconvert_exporter": "python",
   "pygments_lexer": "ipython3",
   "version": "3.9.7"
  }
 },
 "nbformat": 4,
 "nbformat_minor": 5
}
