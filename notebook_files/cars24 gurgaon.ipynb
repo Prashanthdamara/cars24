{
 "cells": [
  {
   "cell_type": "code",
   "execution_count": 1,
   "id": "efe62518",
   "metadata": {},
   "outputs": [],
   "source": [
    "import requests\n",
    "from bs4 import BeautifulSoup \n",
    "import numpy as np"
   ]
  },
  {
   "cell_type": "code",
   "execution_count": 2,
   "id": "8adfc33e",
   "metadata": {},
   "outputs": [],
   "source": [
    "from selenium import webdriver\n",
    "import time"
   ]
  },
  {
   "cell_type": "code",
   "execution_count": 3,
   "id": "51d4b445",
   "metadata": {},
   "outputs": [
    {
     "name": "stderr",
     "output_type": "stream",
     "text": [
      "C:\\Users\\PRASHA~1\\AppData\\Local\\Temp/ipykernel_20460/1978377544.py:4: DeprecationWarning: executable_path has been deprecated, please pass in a Service object\n",
      "  driver = webdriver.Chrome(path)\n"
     ]
    }
   ],
   "source": [
    "website = 'https://www.cars24.com/buy-used-cars-gurgaon/'\n",
    "path = 'C://Users//prashanth//Desktop//New folder//chromedriver.exe'\n",
    "\n",
    "driver = webdriver.Chrome(path)\n",
    "driver.get(website)\n",
    "previous_height = driver.execute_script('return document.body.scrollHeight')\n",
    "while True:\n",
    "    driver.execute_script('window.scrollTo(0,document.body.scrollHeight);')\n",
    "    time.sleep(5)\n",
    "    new_height = driver.execute_script('return document.body.scrollHeight')\n",
    "    if new_height == previous_height:\n",
    "        break\n",
    "    previous_height = new_height\n",
    "file = open('cars24_gurgaon.html', 'w', encoding='utf-8')\n",
    "file.write(driver.page_source)\n",
    "file.close()\n",
    "driver.close()"
   ]
  },
  {
   "cell_type": "code",
   "execution_count": 4,
   "id": "d75510b6",
   "metadata": {},
   "outputs": [],
   "source": [
    "data = open('cars24_gurgaon.html','r',encoding=\"utf8\")\n",
    "soup = BeautifulSoup(data, 'html.parser')"
   ]
  },
  {
   "cell_type": "code",
   "execution_count": 5,
   "id": "1cd92b3f",
   "metadata": {},
   "outputs": [],
   "source": [
    "divs = soup.find_all('div',{'class':'_1l4fi'})"
   ]
  },
  {
   "cell_type": "code",
   "execution_count": 6,
   "id": "24be0855",
   "metadata": {},
   "outputs": [],
   "source": [
    "cars_name = [div.find('div',{'class':'_1jpRU'}).find('h2',{'class':'_3FpCg'}).text[5:] for div in divs ]\n",
    "\n",
    "cars_brand = [div.find('div',{'class':'_1jpRU'}).find('h2',{'class':'_3FpCg'}).text[5:].split(' ')[0] for div in divs ] \n",
    "\n",
    "model_year = [div.find('div',{'class':'_1jpRU'}).text[:4] for div in divs ] \n",
    "\n",
    "model = [div.find('div',{'class':'_1jpRU'}).find('p',{'class':'cvakB'}).text.strip('Manual') for div in divs ]\n",
    "model = [i.strip('Automatic')  for i in model]\n",
    "\n",
    "car_type = [div.find('div',{'class':'_1jpRU'}).find('p',{'class':'cvakB'}).find('span').text for div in divs ]\n",
    "\n",
    "kms = [div.find('ul',{'class':'bVR0c'}).text.split(' ')[0] for div in divs ]\n",
    "\n",
    "owner = [div.find('ul',{'class':'bVR0c'}).text.split(' ')[1][2:] for div in divs ]\n",
    "\n",
    "gasoliene_type = [div.find('ul',{'class':'bVR0c'}).text.split(' ')[2][5:] for div in divs ]\n",
    "\n",
    "emi_per_month = [div.find('div',{'class':'_19zc5'}).find('div',{'class':'_2HFRN'}).text[3:] for div in divs ]\n",
    "\n",
    "price = [div.find('div',{'class':'_19zc5'}).find('div',{'class':'_7udZZ'}).text[3:] for div in divs ]\n",
    "\n",
    "zero_downpayment = [div.find('div',{'class':'JvSRy'}).find('span',{'class':'_3X7mV _2H07I'}).text for div in divs ]"
   ]
  },
  {
   "cell_type": "code",
   "execution_count": 7,
   "id": "f5546be6",
   "metadata": {},
   "outputs": [
    {
     "data": {
      "text/plain": [
       "831"
      ]
     },
     "execution_count": 7,
     "metadata": {},
     "output_type": "execute_result"
    }
   ],
   "source": [
    "len(cars_name)"
   ]
  },
  {
   "cell_type": "code",
   "execution_count": 8,
   "id": "5532d965",
   "metadata": {},
   "outputs": [],
   "source": [
    "d = {'cars_name':cars_name,'cars_brand':cars_brand,'model':model,'model_year':model_year,'car_type':car_type,'kms':kms,'owner':owner,'gasoliene_type':gasoliene_type,'price':price,'emi_per_month':emi_per_month,'zero_downpayment':zero_downpayment}"
   ]
  },
  {
   "cell_type": "code",
   "execution_count": 9,
   "id": "cd653f64",
   "metadata": {},
   "outputs": [],
   "source": [
    "import pandas as pd"
   ]
  },
  {
   "cell_type": "code",
   "execution_count": 10,
   "id": "92e04641",
   "metadata": {},
   "outputs": [],
   "source": [
    "df = pd.DataFrame(d)"
   ]
  },
  {
   "cell_type": "code",
   "execution_count": 11,
   "id": "90eb99a0",
   "metadata": {},
   "outputs": [
    {
     "data": {
      "text/plain": [
       "(831, 11)"
      ]
     },
     "execution_count": 11,
     "metadata": {},
     "output_type": "execute_result"
    }
   ],
   "source": [
    "df.shape"
   ]
  },
  {
   "cell_type": "code",
   "execution_count": 12,
   "id": "4c907ebc",
   "metadata": {},
   "outputs": [
    {
     "data": {
      "text/html": [
       "<div>\n",
       "<style scoped>\n",
       "    .dataframe tbody tr th:only-of-type {\n",
       "        vertical-align: middle;\n",
       "    }\n",
       "\n",
       "    .dataframe tbody tr th {\n",
       "        vertical-align: top;\n",
       "    }\n",
       "\n",
       "    .dataframe thead th {\n",
       "        text-align: right;\n",
       "    }\n",
       "</style>\n",
       "<table border=\"1\" class=\"dataframe\">\n",
       "  <thead>\n",
       "    <tr style=\"text-align: right;\">\n",
       "      <th></th>\n",
       "      <th>cars_name</th>\n",
       "      <th>cars_brand</th>\n",
       "      <th>model</th>\n",
       "      <th>model_year</th>\n",
       "      <th>car_type</th>\n",
       "      <th>kms</th>\n",
       "      <th>owner</th>\n",
       "      <th>gasoliene_type</th>\n",
       "      <th>price</th>\n",
       "      <th>emi_per_month</th>\n",
       "      <th>zero_downpayment</th>\n",
       "    </tr>\n",
       "  </thead>\n",
       "  <tbody>\n",
       "    <tr>\n",
       "      <th>0</th>\n",
       "      <td>Maruti Zen Estilo</td>\n",
       "      <td>Maruti</td>\n",
       "      <td>VXI</td>\n",
       "      <td>2009</td>\n",
       "      <td>Manual</td>\n",
       "      <td>38,160</td>\n",
       "      <td>1st</td>\n",
       "      <td>Petrol</td>\n",
       "      <td>04,199</td>\n",
       "      <td>542/month</td>\n",
       "      <td>Zero downpayment</td>\n",
       "    </tr>\n",
       "    <tr>\n",
       "      <th>1</th>\n",
       "      <td>Maruti Swift</td>\n",
       "      <td>Maruti</td>\n",
       "      <td>VDI</td>\n",
       "      <td>2012</td>\n",
       "      <td>Manual</td>\n",
       "      <td>1,20,326</td>\n",
       "      <td>2nd</td>\n",
       "      <td>Diesel</td>\n",
       "      <td>60,099</td>\n",
       "      <td>786/month</td>\n",
       "      <td>Zero downpayment</td>\n",
       "    </tr>\n",
       "    <tr>\n",
       "      <th>2</th>\n",
       "      <td>Maruti Ertiga</td>\n",
       "      <td>Maruti</td>\n",
       "      <td>VDI ABS</td>\n",
       "      <td>2013</td>\n",
       "      <td>Manual</td>\n",
       "      <td>1,19,146</td>\n",
       "      <td>3rd</td>\n",
       "      <td>Diesel</td>\n",
       "      <td>69,199</td>\n",
       "      <td>,437/month</td>\n",
       "      <td>Zero downpayment</td>\n",
       "    </tr>\n",
       "    <tr>\n",
       "      <th>3</th>\n",
       "      <td>Maruti Swift Dzire</td>\n",
       "      <td>Maruti</td>\n",
       "      <td>LDI BS IV</td>\n",
       "      <td>2014</td>\n",
       "      <td>Manual</td>\n",
       "      <td>1,18,729</td>\n",
       "      <td>2nd</td>\n",
       "      <td>Diesel</td>\n",
       "      <td>10,899</td>\n",
       "      <td>916/month</td>\n",
       "      <td>Zero downpayment</td>\n",
       "    </tr>\n",
       "    <tr>\n",
       "      <th>4</th>\n",
       "      <td>Maruti Ritz</td>\n",
       "      <td>Maruti</td>\n",
       "      <td>LXI</td>\n",
       "      <td>2010</td>\n",
       "      <td>Manual</td>\n",
       "      <td>77,787</td>\n",
       "      <td>2nd</td>\n",
       "      <td>Petrol</td>\n",
       "      <td>44,999</td>\n",
       "      <td>450/month</td>\n",
       "      <td>Zero downpayment</td>\n",
       "    </tr>\n",
       "  </tbody>\n",
       "</table>\n",
       "</div>"
      ],
      "text/plain": [
       "            cars_name cars_brand       model model_year car_type       kms  \\\n",
       "0   Maruti Zen Estilo     Maruti        VXI        2009   Manual    38,160   \n",
       "1        Maruti Swift     Maruti        VDI        2012   Manual  1,20,326   \n",
       "2       Maruti Ertiga     Maruti    VDI ABS        2013   Manual  1,19,146   \n",
       "3  Maruti Swift Dzire     Maruti  LDI BS IV        2014   Manual  1,18,729   \n",
       "4         Maruti Ritz     Maruti        LXI        2010   Manual    77,787   \n",
       "\n",
       "  owner gasoliene_type   price emi_per_month  zero_downpayment  \n",
       "0   1st         Petrol  04,199     542/month  Zero downpayment  \n",
       "1   2nd         Diesel  60,099     786/month  Zero downpayment  \n",
       "2   3rd         Diesel  69,199    ,437/month  Zero downpayment  \n",
       "3   2nd         Diesel  10,899     916/month  Zero downpayment  \n",
       "4   2nd         Petrol  44,999     450/month  Zero downpayment  "
      ]
     },
     "execution_count": 12,
     "metadata": {},
     "output_type": "execute_result"
    }
   ],
   "source": [
    "df.head()"
   ]
  },
  {
   "cell_type": "code",
   "execution_count": 13,
   "id": "93504b26",
   "metadata": {},
   "outputs": [],
   "source": [
    "df.to_csv('cars24gurgaon.csv')"
   ]
  },
  {
   "cell_type": "code",
   "execution_count": null,
   "id": "f48d3dfb",
   "metadata": {},
   "outputs": [],
   "source": []
  }
 ],
 "metadata": {
  "kernelspec": {
   "display_name": "Python 3 (ipykernel)",
   "language": "python",
   "name": "python3"
  },
  "language_info": {
   "codemirror_mode": {
    "name": "ipython",
    "version": 3
   },
   "file_extension": ".py",
   "mimetype": "text/x-python",
   "name": "python",
   "nbconvert_exporter": "python",
   "pygments_lexer": "ipython3",
   "version": "3.9.7"
  }
 },
 "nbformat": 4,
 "nbformat_minor": 5
}
