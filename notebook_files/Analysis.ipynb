{
 "cells": [
  {
   "cell_type": "markdown",
   "id": "f068a147",
   "metadata": {},
   "source": [
    "\n",
    "## EDA on Cars24 Used Cars"
   ]
  },
  {
   "cell_type": "code",
   "execution_count": 1,
   "id": "a09c7780",
   "metadata": {},
   "outputs": [],
   "source": [
    "#import libraries\n",
    "import pandas as pd\n",
    "import numpy as np\n",
    "import matplotlib.pyplot as plt\n",
    "import seaborn as sns"
   ]
  },
  {
   "cell_type": "code",
   "execution_count": 2,
   "id": "db9d8f4d",
   "metadata": {},
   "outputs": [],
   "source": [
    "#load dataset\n",
    "df = pd.read_csv('cars24.csv')"
   ]
  },
  {
   "cell_type": "code",
   "execution_count": 3,
   "id": "f58ecc08",
   "metadata": {},
   "outputs": [
    {
     "data": {
      "text/html": [
       "<div>\n",
       "<style scoped>\n",
       "    .dataframe tbody tr th:only-of-type {\n",
       "        vertical-align: middle;\n",
       "    }\n",
       "\n",
       "    .dataframe tbody tr th {\n",
       "        vertical-align: top;\n",
       "    }\n",
       "\n",
       "    .dataframe thead th {\n",
       "        text-align: right;\n",
       "    }\n",
       "</style>\n",
       "<table border=\"1\" class=\"dataframe\">\n",
       "  <thead>\n",
       "    <tr style=\"text-align: right;\">\n",
       "      <th></th>\n",
       "      <th>Unnamed: 0</th>\n",
       "      <th>cars_name</th>\n",
       "      <th>cars_brand</th>\n",
       "      <th>model</th>\n",
       "      <th>model_year</th>\n",
       "      <th>car_type</th>\n",
       "      <th>kms</th>\n",
       "      <th>owner</th>\n",
       "      <th>gasoliene_type</th>\n",
       "      <th>price</th>\n",
       "      <th>emi_per_month</th>\n",
       "      <th>zero_downpayment</th>\n",
       "      <th>city</th>\n",
       "      <th>state</th>\n",
       "    </tr>\n",
       "  </thead>\n",
       "  <tbody>\n",
       "    <tr>\n",
       "      <th>0</th>\n",
       "      <td>0</td>\n",
       "      <td>Ford Ecosport</td>\n",
       "      <td>Ford</td>\n",
       "      <td>1.5 TITANIUMTDCI OPT</td>\n",
       "      <td>2013</td>\n",
       "      <td>Manual</td>\n",
       "      <td>1,79,045</td>\n",
       "      <td>1st</td>\n",
       "      <td>Diesel</td>\n",
       "      <td>5,07,599</td>\n",
       "      <td>11,291/month</td>\n",
       "      <td>Zero downpayment</td>\n",
       "      <td>Hyderabad</td>\n",
       "      <td>Telangana</td>\n",
       "    </tr>\n",
       "    <tr>\n",
       "      <th>1</th>\n",
       "      <td>1</td>\n",
       "      <td>Maruti Swift</td>\n",
       "      <td>Maruti</td>\n",
       "      <td>ZDI</td>\n",
       "      <td>2012</td>\n",
       "      <td>Manual</td>\n",
       "      <td>78,819</td>\n",
       "      <td>2nd</td>\n",
       "      <td>Diesel</td>\n",
       "      <td>4,76,699</td>\n",
       "      <td>10,604/month</td>\n",
       "      <td>Zero downpayment</td>\n",
       "      <td>Hyderabad</td>\n",
       "      <td>Telangana</td>\n",
       "    </tr>\n",
       "    <tr>\n",
       "      <th>2</th>\n",
       "      <td>2</td>\n",
       "      <td>Honda Mobilio</td>\n",
       "      <td>Honda</td>\n",
       "      <td>1.5 V OPT I DTEC</td>\n",
       "      <td>2014</td>\n",
       "      <td>Manual</td>\n",
       "      <td>97,289</td>\n",
       "      <td>2nd</td>\n",
       "      <td>Diesel</td>\n",
       "      <td>4,94,799</td>\n",
       "      <td>11,007/month</td>\n",
       "      <td>Zero downpayment</td>\n",
       "      <td>Hyderabad</td>\n",
       "      <td>Telangana</td>\n",
       "    </tr>\n",
       "    <tr>\n",
       "      <th>3</th>\n",
       "      <td>3</td>\n",
       "      <td>Maruti Wagon R 1.0</td>\n",
       "      <td>Maruti</td>\n",
       "      <td>VXI</td>\n",
       "      <td>2013</td>\n",
       "      <td>Manual</td>\n",
       "      <td>45,693</td>\n",
       "      <td>2nd</td>\n",
       "      <td>Petrol</td>\n",
       "      <td>3,31,999</td>\n",
       "      <td>7,385/month</td>\n",
       "      <td>Zero downpayment</td>\n",
       "      <td>Hyderabad</td>\n",
       "      <td>Telangana</td>\n",
       "    </tr>\n",
       "    <tr>\n",
       "      <th>4</th>\n",
       "      <td>4</td>\n",
       "      <td>Hyundai i20 Active</td>\n",
       "      <td>Hyundai</td>\n",
       "      <td>1.2 S</td>\n",
       "      <td>2016</td>\n",
       "      <td>Manual</td>\n",
       "      <td>40,586</td>\n",
       "      <td>1st</td>\n",
       "      <td>Petrol</td>\n",
       "      <td>6,20,299</td>\n",
       "      <td>13,798/month</td>\n",
       "      <td>Zero downpayment</td>\n",
       "      <td>Hyderabad</td>\n",
       "      <td>Telangana</td>\n",
       "    </tr>\n",
       "  </tbody>\n",
       "</table>\n",
       "</div>"
      ],
      "text/plain": [
       "   Unnamed: 0           cars_name cars_brand                  model  \\\n",
       "0           0       Ford Ecosport       Ford  1.5 TITANIUMTDCI OPT    \n",
       "1           1        Maruti Swift     Maruti                   ZDI    \n",
       "2           2       Honda Mobilio      Honda      1.5 V OPT I DTEC    \n",
       "3           3  Maruti Wagon R 1.0     Maruti                   VXI    \n",
       "4           4  Hyundai i20 Active    Hyundai                 1.2 S    \n",
       "\n",
       "   model_year car_type       kms owner gasoliene_type     price emi_per_month  \\\n",
       "0        2013   Manual  1,79,045   1st         Diesel  5,07,599  11,291/month   \n",
       "1        2012   Manual    78,819   2nd         Diesel  4,76,699  10,604/month   \n",
       "2        2014   Manual    97,289   2nd         Diesel  4,94,799  11,007/month   \n",
       "3        2013   Manual    45,693   2nd         Petrol  3,31,999   7,385/month   \n",
       "4        2016   Manual    40,586   1st         Petrol  6,20,299  13,798/month   \n",
       "\n",
       "   zero_downpayment       city      state  \n",
       "0  Zero downpayment  Hyderabad  Telangana  \n",
       "1  Zero downpayment  Hyderabad  Telangana  \n",
       "2  Zero downpayment  Hyderabad  Telangana  \n",
       "3  Zero downpayment  Hyderabad  Telangana  \n",
       "4  Zero downpayment  Hyderabad  Telangana  "
      ]
     },
     "execution_count": 3,
     "metadata": {},
     "output_type": "execute_result"
    }
   ],
   "source": [
    "df.head()"
   ]
  },
  {
   "cell_type": "code",
   "execution_count": 4,
   "id": "a8cfe005",
   "metadata": {},
   "outputs": [
    {
     "data": {
      "text/plain": [
       "(4490, 14)"
      ]
     },
     "execution_count": 4,
     "metadata": {},
     "output_type": "execute_result"
    }
   ],
   "source": [
    "#shape of dataframe\n",
    "df.shape"
   ]
  },
  {
   "cell_type": "code",
   "execution_count": 5,
   "id": "d3e3e280",
   "metadata": {},
   "outputs": [
    {
     "data": {
      "text/plain": [
       "Index(['Unnamed: 0', 'cars_name', 'cars_brand', 'model', 'model_year',\n",
       "       'car_type', 'kms', 'owner', 'gasoliene_type', 'price', 'emi_per_month',\n",
       "       'zero_downpayment', 'city', 'state'],\n",
       "      dtype='object')"
      ]
     },
     "execution_count": 5,
     "metadata": {},
     "output_type": "execute_result"
    }
   ],
   "source": [
    "#checking columns\n",
    "df.columns"
   ]
  },
  {
   "cell_type": "code",
   "execution_count": 6,
   "id": "57665e0e",
   "metadata": {},
   "outputs": [],
   "source": [
    "#drop column 'Unnamed: 0'\n",
    "df.drop('Unnamed: 0',axis = 1,inplace =True)"
   ]
  },
  {
   "cell_type": "code",
   "execution_count": 7,
   "id": "5142c13e",
   "metadata": {},
   "outputs": [
    {
     "data": {
      "text/html": [
       "<div>\n",
       "<style scoped>\n",
       "    .dataframe tbody tr th:only-of-type {\n",
       "        vertical-align: middle;\n",
       "    }\n",
       "\n",
       "    .dataframe tbody tr th {\n",
       "        vertical-align: top;\n",
       "    }\n",
       "\n",
       "    .dataframe thead th {\n",
       "        text-align: right;\n",
       "    }\n",
       "</style>\n",
       "<table border=\"1\" class=\"dataframe\">\n",
       "  <thead>\n",
       "    <tr style=\"text-align: right;\">\n",
       "      <th></th>\n",
       "      <th>cars_name</th>\n",
       "      <th>cars_brand</th>\n",
       "      <th>model</th>\n",
       "      <th>model_year</th>\n",
       "      <th>car_type</th>\n",
       "      <th>kms</th>\n",
       "      <th>owner</th>\n",
       "      <th>gasoliene_type</th>\n",
       "      <th>price</th>\n",
       "      <th>emi_per_month</th>\n",
       "      <th>zero_downpayment</th>\n",
       "      <th>city</th>\n",
       "      <th>state</th>\n",
       "    </tr>\n",
       "  </thead>\n",
       "  <tbody>\n",
       "    <tr>\n",
       "      <th>0</th>\n",
       "      <td>Ford Ecosport</td>\n",
       "      <td>Ford</td>\n",
       "      <td>1.5 TITANIUMTDCI OPT</td>\n",
       "      <td>2013</td>\n",
       "      <td>Manual</td>\n",
       "      <td>1,79,045</td>\n",
       "      <td>1st</td>\n",
       "      <td>Diesel</td>\n",
       "      <td>5,07,599</td>\n",
       "      <td>11,291/month</td>\n",
       "      <td>Zero downpayment</td>\n",
       "      <td>Hyderabad</td>\n",
       "      <td>Telangana</td>\n",
       "    </tr>\n",
       "    <tr>\n",
       "      <th>1</th>\n",
       "      <td>Maruti Swift</td>\n",
       "      <td>Maruti</td>\n",
       "      <td>ZDI</td>\n",
       "      <td>2012</td>\n",
       "      <td>Manual</td>\n",
       "      <td>78,819</td>\n",
       "      <td>2nd</td>\n",
       "      <td>Diesel</td>\n",
       "      <td>4,76,699</td>\n",
       "      <td>10,604/month</td>\n",
       "      <td>Zero downpayment</td>\n",
       "      <td>Hyderabad</td>\n",
       "      <td>Telangana</td>\n",
       "    </tr>\n",
       "    <tr>\n",
       "      <th>2</th>\n",
       "      <td>Honda Mobilio</td>\n",
       "      <td>Honda</td>\n",
       "      <td>1.5 V OPT I DTEC</td>\n",
       "      <td>2014</td>\n",
       "      <td>Manual</td>\n",
       "      <td>97,289</td>\n",
       "      <td>2nd</td>\n",
       "      <td>Diesel</td>\n",
       "      <td>4,94,799</td>\n",
       "      <td>11,007/month</td>\n",
       "      <td>Zero downpayment</td>\n",
       "      <td>Hyderabad</td>\n",
       "      <td>Telangana</td>\n",
       "    </tr>\n",
       "    <tr>\n",
       "      <th>3</th>\n",
       "      <td>Maruti Wagon R 1.0</td>\n",
       "      <td>Maruti</td>\n",
       "      <td>VXI</td>\n",
       "      <td>2013</td>\n",
       "      <td>Manual</td>\n",
       "      <td>45,693</td>\n",
       "      <td>2nd</td>\n",
       "      <td>Petrol</td>\n",
       "      <td>3,31,999</td>\n",
       "      <td>7,385/month</td>\n",
       "      <td>Zero downpayment</td>\n",
       "      <td>Hyderabad</td>\n",
       "      <td>Telangana</td>\n",
       "    </tr>\n",
       "    <tr>\n",
       "      <th>4</th>\n",
       "      <td>Hyundai i20 Active</td>\n",
       "      <td>Hyundai</td>\n",
       "      <td>1.2 S</td>\n",
       "      <td>2016</td>\n",
       "      <td>Manual</td>\n",
       "      <td>40,586</td>\n",
       "      <td>1st</td>\n",
       "      <td>Petrol</td>\n",
       "      <td>6,20,299</td>\n",
       "      <td>13,798/month</td>\n",
       "      <td>Zero downpayment</td>\n",
       "      <td>Hyderabad</td>\n",
       "      <td>Telangana</td>\n",
       "    </tr>\n",
       "  </tbody>\n",
       "</table>\n",
       "</div>"
      ],
      "text/plain": [
       "            cars_name cars_brand                  model  model_year car_type  \\\n",
       "0       Ford Ecosport       Ford  1.5 TITANIUMTDCI OPT         2013   Manual   \n",
       "1        Maruti Swift     Maruti                   ZDI         2012   Manual   \n",
       "2       Honda Mobilio      Honda      1.5 V OPT I DTEC         2014   Manual   \n",
       "3  Maruti Wagon R 1.0     Maruti                   VXI         2013   Manual   \n",
       "4  Hyundai i20 Active    Hyundai                 1.2 S         2016   Manual   \n",
       "\n",
       "        kms owner gasoliene_type     price emi_per_month  zero_downpayment  \\\n",
       "0  1,79,045   1st         Diesel  5,07,599  11,291/month  Zero downpayment   \n",
       "1    78,819   2nd         Diesel  4,76,699  10,604/month  Zero downpayment   \n",
       "2    97,289   2nd         Diesel  4,94,799  11,007/month  Zero downpayment   \n",
       "3    45,693   2nd         Petrol  3,31,999   7,385/month  Zero downpayment   \n",
       "4    40,586   1st         Petrol  6,20,299  13,798/month  Zero downpayment   \n",
       "\n",
       "        city      state  \n",
       "0  Hyderabad  Telangana  \n",
       "1  Hyderabad  Telangana  \n",
       "2  Hyderabad  Telangana  \n",
       "3  Hyderabad  Telangana  \n",
       "4  Hyderabad  Telangana  "
      ]
     },
     "execution_count": 7,
     "metadata": {},
     "output_type": "execute_result"
    }
   ],
   "source": [
    "df.head()"
   ]
  },
  {
   "cell_type": "code",
   "execution_count": 8,
   "id": "4d0f896d",
   "metadata": {},
   "outputs": [],
   "source": [
    "df.to_csv('cars24_clean.csv')"
   ]
  },
  {
   "cell_type": "code",
   "execution_count": 9,
   "id": "44a8f9de",
   "metadata": {},
   "outputs": [
    {
     "name": "stdout",
     "output_type": "stream",
     "text": [
      "<class 'pandas.core.frame.DataFrame'>\n",
      "RangeIndex: 4490 entries, 0 to 4489\n",
      "Data columns (total 13 columns):\n",
      " #   Column            Non-Null Count  Dtype \n",
      "---  ------            --------------  ----- \n",
      " 0   cars_name         4490 non-null   object\n",
      " 1   cars_brand        4490 non-null   object\n",
      " 2   model             4490 non-null   object\n",
      " 3   model_year        4490 non-null   int64 \n",
      " 4   car_type          4432 non-null   object\n",
      " 5   kms               4490 non-null   object\n",
      " 6   owner             4490 non-null   object\n",
      " 7   gasoliene_type    4490 non-null   object\n",
      " 8   price             4490 non-null   object\n",
      " 9   emi_per_month     4490 non-null   object\n",
      " 10  zero_downpayment  4490 non-null   object\n",
      " 11  city              4490 non-null   object\n",
      " 12  state             4490 non-null   object\n",
      "dtypes: int64(1), object(12)\n",
      "memory usage: 456.1+ KB\n"
     ]
    }
   ],
   "source": [
    "#info of df\n",
    "df.info()"
   ]
  },
  {
   "cell_type": "code",
   "execution_count": 10,
   "id": "f2ad82fc",
   "metadata": {},
   "outputs": [],
   "source": [
    "#remove commas in kms column\n",
    "df['kms'] = df['kms'].str.replace(',','')"
   ]
  },
  {
   "cell_type": "code",
   "execution_count": 11,
   "id": "9a9f20ad",
   "metadata": {},
   "outputs": [
    {
     "data": {
      "text/html": [
       "<div>\n",
       "<style scoped>\n",
       "    .dataframe tbody tr th:only-of-type {\n",
       "        vertical-align: middle;\n",
       "    }\n",
       "\n",
       "    .dataframe tbody tr th {\n",
       "        vertical-align: top;\n",
       "    }\n",
       "\n",
       "    .dataframe thead th {\n",
       "        text-align: right;\n",
       "    }\n",
       "</style>\n",
       "<table border=\"1\" class=\"dataframe\">\n",
       "  <thead>\n",
       "    <tr style=\"text-align: right;\">\n",
       "      <th></th>\n",
       "      <th>cars_name</th>\n",
       "      <th>cars_brand</th>\n",
       "      <th>model</th>\n",
       "      <th>model_year</th>\n",
       "      <th>car_type</th>\n",
       "      <th>kms</th>\n",
       "      <th>owner</th>\n",
       "      <th>gasoliene_type</th>\n",
       "      <th>price</th>\n",
       "      <th>emi_per_month</th>\n",
       "      <th>zero_downpayment</th>\n",
       "      <th>city</th>\n",
       "      <th>state</th>\n",
       "    </tr>\n",
       "  </thead>\n",
       "  <tbody>\n",
       "    <tr>\n",
       "      <th>0</th>\n",
       "      <td>Ford Ecosport</td>\n",
       "      <td>Ford</td>\n",
       "      <td>1.5 TITANIUMTDCI OPT</td>\n",
       "      <td>2013</td>\n",
       "      <td>Manual</td>\n",
       "      <td>179045</td>\n",
       "      <td>1st</td>\n",
       "      <td>Diesel</td>\n",
       "      <td>5,07,599</td>\n",
       "      <td>11,291/month</td>\n",
       "      <td>Zero downpayment</td>\n",
       "      <td>Hyderabad</td>\n",
       "      <td>Telangana</td>\n",
       "    </tr>\n",
       "    <tr>\n",
       "      <th>1</th>\n",
       "      <td>Maruti Swift</td>\n",
       "      <td>Maruti</td>\n",
       "      <td>ZDI</td>\n",
       "      <td>2012</td>\n",
       "      <td>Manual</td>\n",
       "      <td>78819</td>\n",
       "      <td>2nd</td>\n",
       "      <td>Diesel</td>\n",
       "      <td>4,76,699</td>\n",
       "      <td>10,604/month</td>\n",
       "      <td>Zero downpayment</td>\n",
       "      <td>Hyderabad</td>\n",
       "      <td>Telangana</td>\n",
       "    </tr>\n",
       "    <tr>\n",
       "      <th>2</th>\n",
       "      <td>Honda Mobilio</td>\n",
       "      <td>Honda</td>\n",
       "      <td>1.5 V OPT I DTEC</td>\n",
       "      <td>2014</td>\n",
       "      <td>Manual</td>\n",
       "      <td>97289</td>\n",
       "      <td>2nd</td>\n",
       "      <td>Diesel</td>\n",
       "      <td>4,94,799</td>\n",
       "      <td>11,007/month</td>\n",
       "      <td>Zero downpayment</td>\n",
       "      <td>Hyderabad</td>\n",
       "      <td>Telangana</td>\n",
       "    </tr>\n",
       "    <tr>\n",
       "      <th>3</th>\n",
       "      <td>Maruti Wagon R 1.0</td>\n",
       "      <td>Maruti</td>\n",
       "      <td>VXI</td>\n",
       "      <td>2013</td>\n",
       "      <td>Manual</td>\n",
       "      <td>45693</td>\n",
       "      <td>2nd</td>\n",
       "      <td>Petrol</td>\n",
       "      <td>3,31,999</td>\n",
       "      <td>7,385/month</td>\n",
       "      <td>Zero downpayment</td>\n",
       "      <td>Hyderabad</td>\n",
       "      <td>Telangana</td>\n",
       "    </tr>\n",
       "    <tr>\n",
       "      <th>4</th>\n",
       "      <td>Hyundai i20 Active</td>\n",
       "      <td>Hyundai</td>\n",
       "      <td>1.2 S</td>\n",
       "      <td>2016</td>\n",
       "      <td>Manual</td>\n",
       "      <td>40586</td>\n",
       "      <td>1st</td>\n",
       "      <td>Petrol</td>\n",
       "      <td>6,20,299</td>\n",
       "      <td>13,798/month</td>\n",
       "      <td>Zero downpayment</td>\n",
       "      <td>Hyderabad</td>\n",
       "      <td>Telangana</td>\n",
       "    </tr>\n",
       "  </tbody>\n",
       "</table>\n",
       "</div>"
      ],
      "text/plain": [
       "            cars_name cars_brand                  model  model_year car_type  \\\n",
       "0       Ford Ecosport       Ford  1.5 TITANIUMTDCI OPT         2013   Manual   \n",
       "1        Maruti Swift     Maruti                   ZDI         2012   Manual   \n",
       "2       Honda Mobilio      Honda      1.5 V OPT I DTEC         2014   Manual   \n",
       "3  Maruti Wagon R 1.0     Maruti                   VXI         2013   Manual   \n",
       "4  Hyundai i20 Active    Hyundai                 1.2 S         2016   Manual   \n",
       "\n",
       "      kms owner gasoliene_type     price emi_per_month  zero_downpayment  \\\n",
       "0  179045   1st         Diesel  5,07,599  11,291/month  Zero downpayment   \n",
       "1   78819   2nd         Diesel  4,76,699  10,604/month  Zero downpayment   \n",
       "2   97289   2nd         Diesel  4,94,799  11,007/month  Zero downpayment   \n",
       "3   45693   2nd         Petrol  3,31,999   7,385/month  Zero downpayment   \n",
       "4   40586   1st         Petrol  6,20,299  13,798/month  Zero downpayment   \n",
       "\n",
       "        city      state  \n",
       "0  Hyderabad  Telangana  \n",
       "1  Hyderabad  Telangana  \n",
       "2  Hyderabad  Telangana  \n",
       "3  Hyderabad  Telangana  \n",
       "4  Hyderabad  Telangana  "
      ]
     },
     "execution_count": 11,
     "metadata": {},
     "output_type": "execute_result"
    }
   ],
   "source": [
    "df.head()"
   ]
  },
  {
   "cell_type": "code",
   "execution_count": 12,
   "id": "f3cd8062",
   "metadata": {},
   "outputs": [],
   "source": [
    "#removing strings in owner\n",
    "df['owner'] = df['owner'].apply(lambda x : x[0])"
   ]
  },
  {
   "cell_type": "code",
   "execution_count": 13,
   "id": "e6f96964",
   "metadata": {},
   "outputs": [
    {
     "data": {
      "text/html": [
       "<div>\n",
       "<style scoped>\n",
       "    .dataframe tbody tr th:only-of-type {\n",
       "        vertical-align: middle;\n",
       "    }\n",
       "\n",
       "    .dataframe tbody tr th {\n",
       "        vertical-align: top;\n",
       "    }\n",
       "\n",
       "    .dataframe thead th {\n",
       "        text-align: right;\n",
       "    }\n",
       "</style>\n",
       "<table border=\"1\" class=\"dataframe\">\n",
       "  <thead>\n",
       "    <tr style=\"text-align: right;\">\n",
       "      <th></th>\n",
       "      <th>cars_name</th>\n",
       "      <th>cars_brand</th>\n",
       "      <th>model</th>\n",
       "      <th>model_year</th>\n",
       "      <th>car_type</th>\n",
       "      <th>kms</th>\n",
       "      <th>owner</th>\n",
       "      <th>gasoliene_type</th>\n",
       "      <th>price</th>\n",
       "      <th>emi_per_month</th>\n",
       "      <th>zero_downpayment</th>\n",
       "      <th>city</th>\n",
       "      <th>state</th>\n",
       "    </tr>\n",
       "  </thead>\n",
       "  <tbody>\n",
       "    <tr>\n",
       "      <th>0</th>\n",
       "      <td>Ford Ecosport</td>\n",
       "      <td>Ford</td>\n",
       "      <td>1.5 TITANIUMTDCI OPT</td>\n",
       "      <td>2013</td>\n",
       "      <td>Manual</td>\n",
       "      <td>179045</td>\n",
       "      <td>1</td>\n",
       "      <td>Diesel</td>\n",
       "      <td>5,07,599</td>\n",
       "      <td>11,291/month</td>\n",
       "      <td>Zero downpayment</td>\n",
       "      <td>Hyderabad</td>\n",
       "      <td>Telangana</td>\n",
       "    </tr>\n",
       "    <tr>\n",
       "      <th>1</th>\n",
       "      <td>Maruti Swift</td>\n",
       "      <td>Maruti</td>\n",
       "      <td>ZDI</td>\n",
       "      <td>2012</td>\n",
       "      <td>Manual</td>\n",
       "      <td>78819</td>\n",
       "      <td>2</td>\n",
       "      <td>Diesel</td>\n",
       "      <td>4,76,699</td>\n",
       "      <td>10,604/month</td>\n",
       "      <td>Zero downpayment</td>\n",
       "      <td>Hyderabad</td>\n",
       "      <td>Telangana</td>\n",
       "    </tr>\n",
       "    <tr>\n",
       "      <th>2</th>\n",
       "      <td>Honda Mobilio</td>\n",
       "      <td>Honda</td>\n",
       "      <td>1.5 V OPT I DTEC</td>\n",
       "      <td>2014</td>\n",
       "      <td>Manual</td>\n",
       "      <td>97289</td>\n",
       "      <td>2</td>\n",
       "      <td>Diesel</td>\n",
       "      <td>4,94,799</td>\n",
       "      <td>11,007/month</td>\n",
       "      <td>Zero downpayment</td>\n",
       "      <td>Hyderabad</td>\n",
       "      <td>Telangana</td>\n",
       "    </tr>\n",
       "    <tr>\n",
       "      <th>3</th>\n",
       "      <td>Maruti Wagon R 1.0</td>\n",
       "      <td>Maruti</td>\n",
       "      <td>VXI</td>\n",
       "      <td>2013</td>\n",
       "      <td>Manual</td>\n",
       "      <td>45693</td>\n",
       "      <td>2</td>\n",
       "      <td>Petrol</td>\n",
       "      <td>3,31,999</td>\n",
       "      <td>7,385/month</td>\n",
       "      <td>Zero downpayment</td>\n",
       "      <td>Hyderabad</td>\n",
       "      <td>Telangana</td>\n",
       "    </tr>\n",
       "    <tr>\n",
       "      <th>4</th>\n",
       "      <td>Hyundai i20 Active</td>\n",
       "      <td>Hyundai</td>\n",
       "      <td>1.2 S</td>\n",
       "      <td>2016</td>\n",
       "      <td>Manual</td>\n",
       "      <td>40586</td>\n",
       "      <td>1</td>\n",
       "      <td>Petrol</td>\n",
       "      <td>6,20,299</td>\n",
       "      <td>13,798/month</td>\n",
       "      <td>Zero downpayment</td>\n",
       "      <td>Hyderabad</td>\n",
       "      <td>Telangana</td>\n",
       "    </tr>\n",
       "  </tbody>\n",
       "</table>\n",
       "</div>"
      ],
      "text/plain": [
       "            cars_name cars_brand                  model  model_year car_type  \\\n",
       "0       Ford Ecosport       Ford  1.5 TITANIUMTDCI OPT         2013   Manual   \n",
       "1        Maruti Swift     Maruti                   ZDI         2012   Manual   \n",
       "2       Honda Mobilio      Honda      1.5 V OPT I DTEC         2014   Manual   \n",
       "3  Maruti Wagon R 1.0     Maruti                   VXI         2013   Manual   \n",
       "4  Hyundai i20 Active    Hyundai                 1.2 S         2016   Manual   \n",
       "\n",
       "      kms owner gasoliene_type     price emi_per_month  zero_downpayment  \\\n",
       "0  179045     1         Diesel  5,07,599  11,291/month  Zero downpayment   \n",
       "1   78819     2         Diesel  4,76,699  10,604/month  Zero downpayment   \n",
       "2   97289     2         Diesel  4,94,799  11,007/month  Zero downpayment   \n",
       "3   45693     2         Petrol  3,31,999   7,385/month  Zero downpayment   \n",
       "4   40586     1         Petrol  6,20,299  13,798/month  Zero downpayment   \n",
       "\n",
       "        city      state  \n",
       "0  Hyderabad  Telangana  \n",
       "1  Hyderabad  Telangana  \n",
       "2  Hyderabad  Telangana  \n",
       "3  Hyderabad  Telangana  \n",
       "4  Hyderabad  Telangana  "
      ]
     },
     "execution_count": 13,
     "metadata": {},
     "output_type": "execute_result"
    }
   ],
   "source": [
    "df.head()"
   ]
  },
  {
   "cell_type": "code",
   "execution_count": 14,
   "id": "a7bf9618",
   "metadata": {},
   "outputs": [],
   "source": [
    "#remove commas in price\n",
    "df['price'] = df['price'].str.replace(',','')"
   ]
  },
  {
   "cell_type": "code",
   "execution_count": 15,
   "id": "cbc6ad66",
   "metadata": {},
   "outputs": [
    {
     "data": {
      "text/html": [
       "<div>\n",
       "<style scoped>\n",
       "    .dataframe tbody tr th:only-of-type {\n",
       "        vertical-align: middle;\n",
       "    }\n",
       "\n",
       "    .dataframe tbody tr th {\n",
       "        vertical-align: top;\n",
       "    }\n",
       "\n",
       "    .dataframe thead th {\n",
       "        text-align: right;\n",
       "    }\n",
       "</style>\n",
       "<table border=\"1\" class=\"dataframe\">\n",
       "  <thead>\n",
       "    <tr style=\"text-align: right;\">\n",
       "      <th></th>\n",
       "      <th>cars_name</th>\n",
       "      <th>cars_brand</th>\n",
       "      <th>model</th>\n",
       "      <th>model_year</th>\n",
       "      <th>car_type</th>\n",
       "      <th>kms</th>\n",
       "      <th>owner</th>\n",
       "      <th>gasoliene_type</th>\n",
       "      <th>price</th>\n",
       "      <th>emi_per_month</th>\n",
       "      <th>zero_downpayment</th>\n",
       "      <th>city</th>\n",
       "      <th>state</th>\n",
       "    </tr>\n",
       "  </thead>\n",
       "  <tbody>\n",
       "    <tr>\n",
       "      <th>0</th>\n",
       "      <td>Ford Ecosport</td>\n",
       "      <td>Ford</td>\n",
       "      <td>1.5 TITANIUMTDCI OPT</td>\n",
       "      <td>2013</td>\n",
       "      <td>Manual</td>\n",
       "      <td>179045</td>\n",
       "      <td>1</td>\n",
       "      <td>Diesel</td>\n",
       "      <td>507599</td>\n",
       "      <td>11,291/month</td>\n",
       "      <td>Zero downpayment</td>\n",
       "      <td>Hyderabad</td>\n",
       "      <td>Telangana</td>\n",
       "    </tr>\n",
       "    <tr>\n",
       "      <th>1</th>\n",
       "      <td>Maruti Swift</td>\n",
       "      <td>Maruti</td>\n",
       "      <td>ZDI</td>\n",
       "      <td>2012</td>\n",
       "      <td>Manual</td>\n",
       "      <td>78819</td>\n",
       "      <td>2</td>\n",
       "      <td>Diesel</td>\n",
       "      <td>476699</td>\n",
       "      <td>10,604/month</td>\n",
       "      <td>Zero downpayment</td>\n",
       "      <td>Hyderabad</td>\n",
       "      <td>Telangana</td>\n",
       "    </tr>\n",
       "    <tr>\n",
       "      <th>2</th>\n",
       "      <td>Honda Mobilio</td>\n",
       "      <td>Honda</td>\n",
       "      <td>1.5 V OPT I DTEC</td>\n",
       "      <td>2014</td>\n",
       "      <td>Manual</td>\n",
       "      <td>97289</td>\n",
       "      <td>2</td>\n",
       "      <td>Diesel</td>\n",
       "      <td>494799</td>\n",
       "      <td>11,007/month</td>\n",
       "      <td>Zero downpayment</td>\n",
       "      <td>Hyderabad</td>\n",
       "      <td>Telangana</td>\n",
       "    </tr>\n",
       "    <tr>\n",
       "      <th>3</th>\n",
       "      <td>Maruti Wagon R 1.0</td>\n",
       "      <td>Maruti</td>\n",
       "      <td>VXI</td>\n",
       "      <td>2013</td>\n",
       "      <td>Manual</td>\n",
       "      <td>45693</td>\n",
       "      <td>2</td>\n",
       "      <td>Petrol</td>\n",
       "      <td>331999</td>\n",
       "      <td>7,385/month</td>\n",
       "      <td>Zero downpayment</td>\n",
       "      <td>Hyderabad</td>\n",
       "      <td>Telangana</td>\n",
       "    </tr>\n",
       "    <tr>\n",
       "      <th>4</th>\n",
       "      <td>Hyundai i20 Active</td>\n",
       "      <td>Hyundai</td>\n",
       "      <td>1.2 S</td>\n",
       "      <td>2016</td>\n",
       "      <td>Manual</td>\n",
       "      <td>40586</td>\n",
       "      <td>1</td>\n",
       "      <td>Petrol</td>\n",
       "      <td>620299</td>\n",
       "      <td>13,798/month</td>\n",
       "      <td>Zero downpayment</td>\n",
       "      <td>Hyderabad</td>\n",
       "      <td>Telangana</td>\n",
       "    </tr>\n",
       "  </tbody>\n",
       "</table>\n",
       "</div>"
      ],
      "text/plain": [
       "            cars_name cars_brand                  model  model_year car_type  \\\n",
       "0       Ford Ecosport       Ford  1.5 TITANIUMTDCI OPT         2013   Manual   \n",
       "1        Maruti Swift     Maruti                   ZDI         2012   Manual   \n",
       "2       Honda Mobilio      Honda      1.5 V OPT I DTEC         2014   Manual   \n",
       "3  Maruti Wagon R 1.0     Maruti                   VXI         2013   Manual   \n",
       "4  Hyundai i20 Active    Hyundai                 1.2 S         2016   Manual   \n",
       "\n",
       "      kms owner gasoliene_type   price emi_per_month  zero_downpayment  \\\n",
       "0  179045     1         Diesel  507599  11,291/month  Zero downpayment   \n",
       "1   78819     2         Diesel  476699  10,604/month  Zero downpayment   \n",
       "2   97289     2         Diesel  494799  11,007/month  Zero downpayment   \n",
       "3   45693     2         Petrol  331999   7,385/month  Zero downpayment   \n",
       "4   40586     1         Petrol  620299  13,798/month  Zero downpayment   \n",
       "\n",
       "        city      state  \n",
       "0  Hyderabad  Telangana  \n",
       "1  Hyderabad  Telangana  \n",
       "2  Hyderabad  Telangana  \n",
       "3  Hyderabad  Telangana  \n",
       "4  Hyderabad  Telangana  "
      ]
     },
     "execution_count": 15,
     "metadata": {},
     "output_type": "execute_result"
    }
   ],
   "source": [
    "df.head()"
   ]
  },
  {
   "cell_type": "code",
   "execution_count": 16,
   "id": "48463f39",
   "metadata": {},
   "outputs": [],
   "source": [
    "#removing commas and \\month in emi_per_month\n",
    "df['emi_per_month'] = df['emi_per_month'].str.replace(',','')"
   ]
  },
  {
   "cell_type": "code",
   "execution_count": 17,
   "id": "9afd0d9d",
   "metadata": {},
   "outputs": [],
   "source": [
    "df['emi_per_month'] = df['emi_per_month'].apply(lambda x : x[:-6])"
   ]
  },
  {
   "cell_type": "code",
   "execution_count": 18,
   "id": "ec26921c",
   "metadata": {},
   "outputs": [
    {
     "data": {
      "text/html": [
       "<div>\n",
       "<style scoped>\n",
       "    .dataframe tbody tr th:only-of-type {\n",
       "        vertical-align: middle;\n",
       "    }\n",
       "\n",
       "    .dataframe tbody tr th {\n",
       "        vertical-align: top;\n",
       "    }\n",
       "\n",
       "    .dataframe thead th {\n",
       "        text-align: right;\n",
       "    }\n",
       "</style>\n",
       "<table border=\"1\" class=\"dataframe\">\n",
       "  <thead>\n",
       "    <tr style=\"text-align: right;\">\n",
       "      <th></th>\n",
       "      <th>cars_name</th>\n",
       "      <th>cars_brand</th>\n",
       "      <th>model</th>\n",
       "      <th>model_year</th>\n",
       "      <th>car_type</th>\n",
       "      <th>kms</th>\n",
       "      <th>owner</th>\n",
       "      <th>gasoliene_type</th>\n",
       "      <th>price</th>\n",
       "      <th>emi_per_month</th>\n",
       "      <th>zero_downpayment</th>\n",
       "      <th>city</th>\n",
       "      <th>state</th>\n",
       "    </tr>\n",
       "  </thead>\n",
       "  <tbody>\n",
       "    <tr>\n",
       "      <th>0</th>\n",
       "      <td>Ford Ecosport</td>\n",
       "      <td>Ford</td>\n",
       "      <td>1.5 TITANIUMTDCI OPT</td>\n",
       "      <td>2013</td>\n",
       "      <td>Manual</td>\n",
       "      <td>179045</td>\n",
       "      <td>1</td>\n",
       "      <td>Diesel</td>\n",
       "      <td>507599</td>\n",
       "      <td>11291</td>\n",
       "      <td>Zero downpayment</td>\n",
       "      <td>Hyderabad</td>\n",
       "      <td>Telangana</td>\n",
       "    </tr>\n",
       "    <tr>\n",
       "      <th>1</th>\n",
       "      <td>Maruti Swift</td>\n",
       "      <td>Maruti</td>\n",
       "      <td>ZDI</td>\n",
       "      <td>2012</td>\n",
       "      <td>Manual</td>\n",
       "      <td>78819</td>\n",
       "      <td>2</td>\n",
       "      <td>Diesel</td>\n",
       "      <td>476699</td>\n",
       "      <td>10604</td>\n",
       "      <td>Zero downpayment</td>\n",
       "      <td>Hyderabad</td>\n",
       "      <td>Telangana</td>\n",
       "    </tr>\n",
       "    <tr>\n",
       "      <th>2</th>\n",
       "      <td>Honda Mobilio</td>\n",
       "      <td>Honda</td>\n",
       "      <td>1.5 V OPT I DTEC</td>\n",
       "      <td>2014</td>\n",
       "      <td>Manual</td>\n",
       "      <td>97289</td>\n",
       "      <td>2</td>\n",
       "      <td>Diesel</td>\n",
       "      <td>494799</td>\n",
       "      <td>11007</td>\n",
       "      <td>Zero downpayment</td>\n",
       "      <td>Hyderabad</td>\n",
       "      <td>Telangana</td>\n",
       "    </tr>\n",
       "    <tr>\n",
       "      <th>3</th>\n",
       "      <td>Maruti Wagon R 1.0</td>\n",
       "      <td>Maruti</td>\n",
       "      <td>VXI</td>\n",
       "      <td>2013</td>\n",
       "      <td>Manual</td>\n",
       "      <td>45693</td>\n",
       "      <td>2</td>\n",
       "      <td>Petrol</td>\n",
       "      <td>331999</td>\n",
       "      <td>7385</td>\n",
       "      <td>Zero downpayment</td>\n",
       "      <td>Hyderabad</td>\n",
       "      <td>Telangana</td>\n",
       "    </tr>\n",
       "    <tr>\n",
       "      <th>4</th>\n",
       "      <td>Hyundai i20 Active</td>\n",
       "      <td>Hyundai</td>\n",
       "      <td>1.2 S</td>\n",
       "      <td>2016</td>\n",
       "      <td>Manual</td>\n",
       "      <td>40586</td>\n",
       "      <td>1</td>\n",
       "      <td>Petrol</td>\n",
       "      <td>620299</td>\n",
       "      <td>13798</td>\n",
       "      <td>Zero downpayment</td>\n",
       "      <td>Hyderabad</td>\n",
       "      <td>Telangana</td>\n",
       "    </tr>\n",
       "  </tbody>\n",
       "</table>\n",
       "</div>"
      ],
      "text/plain": [
       "            cars_name cars_brand                  model  model_year car_type  \\\n",
       "0       Ford Ecosport       Ford  1.5 TITANIUMTDCI OPT         2013   Manual   \n",
       "1        Maruti Swift     Maruti                   ZDI         2012   Manual   \n",
       "2       Honda Mobilio      Honda      1.5 V OPT I DTEC         2014   Manual   \n",
       "3  Maruti Wagon R 1.0     Maruti                   VXI         2013   Manual   \n",
       "4  Hyundai i20 Active    Hyundai                 1.2 S         2016   Manual   \n",
       "\n",
       "      kms owner gasoliene_type   price emi_per_month  zero_downpayment  \\\n",
       "0  179045     1         Diesel  507599         11291  Zero downpayment   \n",
       "1   78819     2         Diesel  476699         10604  Zero downpayment   \n",
       "2   97289     2         Diesel  494799         11007  Zero downpayment   \n",
       "3   45693     2         Petrol  331999          7385  Zero downpayment   \n",
       "4   40586     1         Petrol  620299         13798  Zero downpayment   \n",
       "\n",
       "        city      state  \n",
       "0  Hyderabad  Telangana  \n",
       "1  Hyderabad  Telangana  \n",
       "2  Hyderabad  Telangana  \n",
       "3  Hyderabad  Telangana  \n",
       "4  Hyderabad  Telangana  "
      ]
     },
     "execution_count": 18,
     "metadata": {},
     "output_type": "execute_result"
    }
   ],
   "source": [
    "df.head()"
   ]
  },
  {
   "cell_type": "code",
   "execution_count": 19,
   "id": "5efe2ba4",
   "metadata": {},
   "outputs": [
    {
     "data": {
      "text/plain": [
       "cars_name           False\n",
       "cars_brand          False\n",
       "model               False\n",
       "model_year          False\n",
       "car_type             True\n",
       "kms                 False\n",
       "owner               False\n",
       "gasoliene_type      False\n",
       "price               False\n",
       "emi_per_month       False\n",
       "zero_downpayment    False\n",
       "city                False\n",
       "state               False\n",
       "dtype: bool"
      ]
     },
     "execution_count": 19,
     "metadata": {},
     "output_type": "execute_result"
    }
   ],
   "source": [
    "# checking null values\n",
    "df.isnull().any()"
   ]
  },
  {
   "cell_type": "code",
   "execution_count": 20,
   "id": "ed2dcf52",
   "metadata": {},
   "outputs": [
    {
     "data": {
      "text/plain": [
       "cars_name            0\n",
       "cars_brand           0\n",
       "model                0\n",
       "model_year           0\n",
       "car_type            58\n",
       "kms                  0\n",
       "owner                0\n",
       "gasoliene_type       0\n",
       "price                0\n",
       "emi_per_month        0\n",
       "zero_downpayment     0\n",
       "city                 0\n",
       "state                0\n",
       "dtype: int64"
      ]
     },
     "execution_count": 20,
     "metadata": {},
     "output_type": "execute_result"
    }
   ],
   "source": [
    "# checking null values numbers\n",
    "df.isnull().sum()"
   ]
  },
  {
   "cell_type": "code",
   "execution_count": 21,
   "id": "0056ef18",
   "metadata": {},
   "outputs": [
    {
     "data": {
      "text/plain": [
       "cars_name           0.000000\n",
       "cars_brand          0.000000\n",
       "model               0.000000\n",
       "model_year          0.000000\n",
       "car_type            0.012918\n",
       "kms                 0.000000\n",
       "owner               0.000000\n",
       "gasoliene_type      0.000000\n",
       "price               0.000000\n",
       "emi_per_month       0.000000\n",
       "zero_downpayment    0.000000\n",
       "city                0.000000\n",
       "state               0.000000\n",
       "dtype: float64"
      ]
     },
     "execution_count": 21,
     "metadata": {},
     "output_type": "execute_result"
    }
   ],
   "source": [
    "#checking percentage of null values\n",
    "df.isnull().sum()/len(df)"
   ]
  },
  {
   "cell_type": "code",
   "execution_count": 22,
   "id": "888ee26b",
   "metadata": {},
   "outputs": [
    {
     "data": {
      "text/plain": [
       "<AxesSubplot:>"
      ]
     },
     "execution_count": 22,
     "metadata": {},
     "output_type": "execute_result"
    },
    {
     "data": {
      "image/png": "[encoded data removed]",
      "text/plain": [
       "<Figure size 432x288 with 1 Axes>"
      ]
     },
     "metadata": {
      "needs_background": "light"
     },
     "output_type": "display_data"
    }
   ],
   "source": [
    "#presenting on plot\n",
    "sns.heatmap(df.isnull(),cbar = False,yticklabels=False)"
   ]
  },
  {
   "cell_type": "code",
   "execution_count": 23,
   "id": "a46413cb",
   "metadata": {},
   "outputs": [
    {
     "data": {
      "text/plain": [
       "0    Manual\n",
       "dtype: object"
      ]
     },
     "execution_count": 23,
     "metadata": {},
     "output_type": "execute_result"
    }
   ],
   "source": [
    "#check mode of df.car_type\n",
    "df.car_type.mode()"
   ]
  },
  {
   "cell_type": "code",
   "execution_count": 24,
   "id": "9c5a0acb",
   "metadata": {},
   "outputs": [],
   "source": [
    "#fill the null values with mode of car_type\n",
    "df.car_type.fillna('Manual',inplace = True)"
   ]
  },
  {
   "cell_type": "code",
   "execution_count": 25,
   "id": "b7651923",
   "metadata": {},
   "outputs": [
    {
     "data": {
      "text/plain": [
       "array(['Manual', 'Automatic'], dtype=object)"
      ]
     },
     "execution_count": 25,
     "metadata": {},
     "output_type": "execute_result"
    }
   ],
   "source": [
    "df.car_type.unique()"
   ]
  },
  {
   "cell_type": "code",
   "execution_count": 26,
   "id": "a5cbe0b0",
   "metadata": {},
   "outputs": [
    {
     "data": {
      "text/html": [
       "<div>\n",
       "<style scoped>\n",
       "    .dataframe tbody tr th:only-of-type {\n",
       "        vertical-align: middle;\n",
       "    }\n",
       "\n",
       "    .dataframe tbody tr th {\n",
       "        vertical-align: top;\n",
       "    }\n",
       "\n",
       "    .dataframe thead th {\n",
       "        text-align: right;\n",
       "    }\n",
       "</style>\n",
       "<table border=\"1\" class=\"dataframe\">\n",
       "  <thead>\n",
       "    <tr style=\"text-align: right;\">\n",
       "      <th></th>\n",
       "      <th>cars_name</th>\n",
       "      <th>cars_brand</th>\n",
       "      <th>model</th>\n",
       "      <th>model_year</th>\n",
       "      <th>car_type</th>\n",
       "      <th>kms</th>\n",
       "      <th>owner</th>\n",
       "      <th>gasoliene_type</th>\n",
       "      <th>price</th>\n",
       "      <th>emi_per_month</th>\n",
       "      <th>zero_downpayment</th>\n",
       "      <th>city</th>\n",
       "      <th>state</th>\n",
       "    </tr>\n",
       "  </thead>\n",
       "  <tbody>\n",
       "    <tr>\n",
       "      <th>0</th>\n",
       "      <td>Ford Ecosport</td>\n",
       "      <td>Ford</td>\n",
       "      <td>1.5 TITANIUMTDCI OPT</td>\n",
       "      <td>2013</td>\n",
       "      <td>Manual</td>\n",
       "      <td>179045</td>\n",
       "      <td>1</td>\n",
       "      <td>Diesel</td>\n",
       "      <td>507599</td>\n",
       "      <td>11291</td>\n",
       "      <td>Zero downpayment</td>\n",
       "      <td>Hyderabad</td>\n",
       "      <td>Telangana</td>\n",
       "    </tr>\n",
       "    <tr>\n",
       "      <th>1</th>\n",
       "      <td>Maruti Swift</td>\n",
       "      <td>Maruti</td>\n",
       "      <td>ZDI</td>\n",
       "      <td>2012</td>\n",
       "      <td>Manual</td>\n",
       "      <td>78819</td>\n",
       "      <td>2</td>\n",
       "      <td>Diesel</td>\n",
       "      <td>476699</td>\n",
       "      <td>10604</td>\n",
       "      <td>Zero downpayment</td>\n",
       "      <td>Hyderabad</td>\n",
       "      <td>Telangana</td>\n",
       "    </tr>\n",
       "    <tr>\n",
       "      <th>2</th>\n",
       "      <td>Honda Mobilio</td>\n",
       "      <td>Honda</td>\n",
       "      <td>1.5 V OPT I DTEC</td>\n",
       "      <td>2014</td>\n",
       "      <td>Manual</td>\n",
       "      <td>97289</td>\n",
       "      <td>2</td>\n",
       "      <td>Diesel</td>\n",
       "      <td>494799</td>\n",
       "      <td>11007</td>\n",
       "      <td>Zero downpayment</td>\n",
       "      <td>Hyderabad</td>\n",
       "      <td>Telangana</td>\n",
       "    </tr>\n",
       "    <tr>\n",
       "      <th>3</th>\n",
       "      <td>Maruti Wagon R 1.0</td>\n",
       "      <td>Maruti</td>\n",
       "      <td>VXI</td>\n",
       "      <td>2013</td>\n",
       "      <td>Manual</td>\n",
       "      <td>45693</td>\n",
       "      <td>2</td>\n",
       "      <td>Petrol</td>\n",
       "      <td>331999</td>\n",
       "      <td>7385</td>\n",
       "      <td>Zero downpayment</td>\n",
       "      <td>Hyderabad</td>\n",
       "      <td>Telangana</td>\n",
       "    </tr>\n",
       "    <tr>\n",
       "      <th>4</th>\n",
       "      <td>Hyundai i20 Active</td>\n",
       "      <td>Hyundai</td>\n",
       "      <td>1.2 S</td>\n",
       "      <td>2016</td>\n",
       "      <td>Manual</td>\n",
       "      <td>40586</td>\n",
       "      <td>1</td>\n",
       "      <td>Petrol</td>\n",
       "      <td>620299</td>\n",
       "      <td>13798</td>\n",
       "      <td>Zero downpayment</td>\n",
       "      <td>Hyderabad</td>\n",
       "      <td>Telangana</td>\n",
       "    </tr>\n",
       "  </tbody>\n",
       "</table>\n",
       "</div>"
      ],
      "text/plain": [
       "            cars_name cars_brand                  model  model_year car_type  \\\n",
       "0       Ford Ecosport       Ford  1.5 TITANIUMTDCI OPT         2013   Manual   \n",
       "1        Maruti Swift     Maruti                   ZDI         2012   Manual   \n",
       "2       Honda Mobilio      Honda      1.5 V OPT I DTEC         2014   Manual   \n",
       "3  Maruti Wagon R 1.0     Maruti                   VXI         2013   Manual   \n",
       "4  Hyundai i20 Active    Hyundai                 1.2 S         2016   Manual   \n",
       "\n",
       "      kms owner gasoliene_type   price emi_per_month  zero_downpayment  \\\n",
       "0  179045     1         Diesel  507599         11291  Zero downpayment   \n",
       "1   78819     2         Diesel  476699         10604  Zero downpayment   \n",
       "2   97289     2         Diesel  494799         11007  Zero downpayment   \n",
       "3   45693     2         Petrol  331999          7385  Zero downpayment   \n",
       "4   40586     1         Petrol  620299         13798  Zero downpayment   \n",
       "\n",
       "        city      state  \n",
       "0  Hyderabad  Telangana  \n",
       "1  Hyderabad  Telangana  \n",
       "2  Hyderabad  Telangana  \n",
       "3  Hyderabad  Telangana  \n",
       "4  Hyderabad  Telangana  "
      ]
     },
     "execution_count": 26,
     "metadata": {},
     "output_type": "execute_result"
    }
   ],
   "source": [
    "df.head()"
   ]
  },
  {
   "cell_type": "code",
   "execution_count": 27,
   "id": "61e70688",
   "metadata": {},
   "outputs": [
    {
     "data": {
      "text/plain": [
       "cars_name           0\n",
       "cars_brand          0\n",
       "model               0\n",
       "model_year          0\n",
       "car_type            0\n",
       "kms                 0\n",
       "owner               0\n",
       "gasoliene_type      0\n",
       "price               0\n",
       "emi_per_month       0\n",
       "zero_downpayment    0\n",
       "city                0\n",
       "state               0\n",
       "dtype: int64"
      ]
     },
     "execution_count": 27,
     "metadata": {},
     "output_type": "execute_result"
    }
   ],
   "source": [
    "df.isnull().sum()"
   ]
  },
  {
   "cell_type": "code",
   "execution_count": 28,
   "id": "aa146b5e",
   "metadata": {},
   "outputs": [
    {
     "name": "stdout",
     "output_type": "stream",
     "text": [
      "<class 'pandas.core.frame.DataFrame'>\n",
      "RangeIndex: 4490 entries, 0 to 4489\n",
      "Data columns (total 13 columns):\n",
      " #   Column            Non-Null Count  Dtype \n",
      "---  ------            --------------  ----- \n",
      " 0   cars_name         4490 non-null   object\n",
      " 1   cars_brand        4490 non-null   object\n",
      " 2   model             4490 non-null   object\n",
      " 3   model_year        4490 non-null   int64 \n",
      " 4   car_type          4490 non-null   object\n",
      " 5   kms               4490 non-null   object\n",
      " 6   owner             4490 non-null   object\n",
      " 7   gasoliene_type    4490 non-null   object\n",
      " 8   price             4490 non-null   object\n",
      " 9   emi_per_month     4490 non-null   object\n",
      " 10  zero_downpayment  4490 non-null   object\n",
      " 11  city              4490 non-null   object\n",
      " 12  state             4490 non-null   object\n",
      "dtypes: int64(1), object(12)\n",
      "memory usage: 456.1+ KB\n"
     ]
    }
   ],
   "source": [
    "df.info()"
   ]
  },
  {
   "cell_type": "code",
   "execution_count": 29,
   "id": "80b67471",
   "metadata": {},
   "outputs": [],
   "source": [
    "9# changing the datatype of kms\n",
    "df['kms'] = df.kms.astype(np.int64)"
   ]
  },
  {
   "cell_type": "code",
   "execution_count": 30,
   "id": "5e2d25c5",
   "metadata": {},
   "outputs": [
    {
     "name": "stdout",
     "output_type": "stream",
     "text": [
      "<class 'pandas.core.frame.DataFrame'>\n",
      "RangeIndex: 4490 entries, 0 to 4489\n",
      "Data columns (total 13 columns):\n",
      " #   Column            Non-Null Count  Dtype \n",
      "---  ------            --------------  ----- \n",
      " 0   cars_name         4490 non-null   object\n",
      " 1   cars_brand        4490 non-null   object\n",
      " 2   model             4490 non-null   object\n",
      " 3   model_year        4490 non-null   int64 \n",
      " 4   car_type          4490 non-null   object\n",
      " 5   kms               4490 non-null   int64 \n",
      " 6   owner             4490 non-null   object\n",
      " 7   gasoliene_type    4490 non-null   object\n",
      " 8   price             4490 non-null   object\n",
      " 9   emi_per_month     4490 non-null   object\n",
      " 10  zero_downpayment  4490 non-null   object\n",
      " 11  city              4490 non-null   object\n",
      " 12  state             4490 non-null   object\n",
      "dtypes: int64(2), object(11)\n",
      "memory usage: 456.1+ KB\n"
     ]
    }
   ],
   "source": [
    "df.info()"
   ]
  },
  {
   "cell_type": "code",
   "execution_count": 31,
   "id": "043a8ecb",
   "metadata": {},
   "outputs": [],
   "source": [
    "# changing the datatype of owner\n",
    "df['owner'] = df.owner.astype(np.int64)"
   ]
  },
  {
   "cell_type": "code",
   "execution_count": 32,
   "id": "6bb4bccb",
   "metadata": {},
   "outputs": [],
   "source": [
    "# changing the datatype of price\n",
    "df['price'] = df.price.astype(np.int64)"
   ]
  },
  {
   "cell_type": "code",
   "execution_count": 33,
   "id": "f671c3ae",
   "metadata": {},
   "outputs": [],
   "source": [
    "# changing the datatype of emi_per_month\n",
    "df['emi_per_month'] = df.emi_per_month.astype(np.int64)"
   ]
  },
  {
   "cell_type": "code",
   "execution_count": 34,
   "id": "e38d71e6",
   "metadata": {},
   "outputs": [
    {
     "name": "stdout",
     "output_type": "stream",
     "text": [
      "<class 'pandas.core.frame.DataFrame'>\n",
      "RangeIndex: 4490 entries, 0 to 4489\n",
      "Data columns (total 13 columns):\n",
      " #   Column            Non-Null Count  Dtype \n",
      "---  ------            --------------  ----- \n",
      " 0   cars_name         4490 non-null   object\n",
      " 1   cars_brand        4490 non-null   object\n",
      " 2   model             4490 non-null   object\n",
      " 3   model_year        4490 non-null   int64 \n",
      " 4   car_type          4490 non-null   object\n",
      " 5   kms               4490 non-null   int64 \n",
      " 6   owner             4490 non-null   int64 \n",
      " 7   gasoliene_type    4490 non-null   object\n",
      " 8   price             4490 non-null   int64 \n",
      " 9   emi_per_month     4490 non-null   int64 \n",
      " 10  zero_downpayment  4490 non-null   object\n",
      " 11  city              4490 non-null   object\n",
      " 12  state             4490 non-null   object\n",
      "dtypes: int64(5), object(8)\n",
      "memory usage: 456.1+ KB\n"
     ]
    }
   ],
   "source": [
    "df.info()"
   ]
  },
  {
   "cell_type": "code",
   "execution_count": 35,
   "id": "8a651bf6",
   "metadata": {},
   "outputs": [
    {
     "data": {
      "text/html": [
       "<div>\n",
       "<style scoped>\n",
       "    .dataframe tbody tr th:only-of-type {\n",
       "        vertical-align: middle;\n",
       "    }\n",
       "\n",
       "    .dataframe tbody tr th {\n",
       "        vertical-align: top;\n",
       "    }\n",
       "\n",
       "    .dataframe thead th {\n",
       "        text-align: right;\n",
       "    }\n",
       "</style>\n",
       "<table border=\"1\" class=\"dataframe\">\n",
       "  <thead>\n",
       "    <tr style=\"text-align: right;\">\n",
       "      <th></th>\n",
       "      <th>cars_name</th>\n",
       "      <th>cars_brand</th>\n",
       "      <th>model</th>\n",
       "      <th>model_year</th>\n",
       "      <th>car_type</th>\n",
       "      <th>kms</th>\n",
       "      <th>owner</th>\n",
       "      <th>gasoliene_type</th>\n",
       "      <th>price</th>\n",
       "      <th>emi_per_month</th>\n",
       "      <th>zero_downpayment</th>\n",
       "      <th>city</th>\n",
       "      <th>state</th>\n",
       "    </tr>\n",
       "  </thead>\n",
       "  <tbody>\n",
       "    <tr>\n",
       "      <th>0</th>\n",
       "      <td>Ford Ecosport</td>\n",
       "      <td>Ford</td>\n",
       "      <td>1.5 TITANIUMTDCI OPT</td>\n",
       "      <td>2013</td>\n",
       "      <td>Manual</td>\n",
       "      <td>179045</td>\n",
       "      <td>1</td>\n",
       "      <td>Diesel</td>\n",
       "      <td>507599</td>\n",
       "      <td>11291</td>\n",
       "      <td>Zero downpayment</td>\n",
       "      <td>Hyderabad</td>\n",
       "      <td>Telangana</td>\n",
       "    </tr>\n",
       "    <tr>\n",
       "      <th>1</th>\n",
       "      <td>Maruti Swift</td>\n",
       "      <td>Maruti</td>\n",
       "      <td>ZDI</td>\n",
       "      <td>2012</td>\n",
       "      <td>Manual</td>\n",
       "      <td>78819</td>\n",
       "      <td>2</td>\n",
       "      <td>Diesel</td>\n",
       "      <td>476699</td>\n",
       "      <td>10604</td>\n",
       "      <td>Zero downpayment</td>\n",
       "      <td>Hyderabad</td>\n",
       "      <td>Telangana</td>\n",
       "    </tr>\n",
       "    <tr>\n",
       "      <th>2</th>\n",
       "      <td>Honda Mobilio</td>\n",
       "      <td>Honda</td>\n",
       "      <td>1.5 V OPT I DTEC</td>\n",
       "      <td>2014</td>\n",
       "      <td>Manual</td>\n",
       "      <td>97289</td>\n",
       "      <td>2</td>\n",
       "      <td>Diesel</td>\n",
       "      <td>494799</td>\n",
       "      <td>11007</td>\n",
       "      <td>Zero downpayment</td>\n",
       "      <td>Hyderabad</td>\n",
       "      <td>Telangana</td>\n",
       "    </tr>\n",
       "    <tr>\n",
       "      <th>3</th>\n",
       "      <td>Maruti Wagon R 1.0</td>\n",
       "      <td>Maruti</td>\n",
       "      <td>VXI</td>\n",
       "      <td>2013</td>\n",
       "      <td>Manual</td>\n",
       "      <td>45693</td>\n",
       "      <td>2</td>\n",
       "      <td>Petrol</td>\n",
       "      <td>331999</td>\n",
       "      <td>7385</td>\n",
       "      <td>Zero downpayment</td>\n",
       "      <td>Hyderabad</td>\n",
       "      <td>Telangana</td>\n",
       "    </tr>\n",
       "    <tr>\n",
       "      <th>4</th>\n",
       "      <td>Hyundai i20 Active</td>\n",
       "      <td>Hyundai</td>\n",
       "      <td>1.2 S</td>\n",
       "      <td>2016</td>\n",
       "      <td>Manual</td>\n",
       "      <td>40586</td>\n",
       "      <td>1</td>\n",
       "      <td>Petrol</td>\n",
       "      <td>620299</td>\n",
       "      <td>13798</td>\n",
       "      <td>Zero downpayment</td>\n",
       "      <td>Hyderabad</td>\n",
       "      <td>Telangana</td>\n",
       "    </tr>\n",
       "  </tbody>\n",
       "</table>\n",
       "</div>"
      ],
      "text/plain": [
       "            cars_name cars_brand                  model  model_year car_type  \\\n",
       "0       Ford Ecosport       Ford  1.5 TITANIUMTDCI OPT         2013   Manual   \n",
       "1        Maruti Swift     Maruti                   ZDI         2012   Manual   \n",
       "2       Honda Mobilio      Honda      1.5 V OPT I DTEC         2014   Manual   \n",
       "3  Maruti Wagon R 1.0     Maruti                   VXI         2013   Manual   \n",
       "4  Hyundai i20 Active    Hyundai                 1.2 S         2016   Manual   \n",
       "\n",
       "      kms  owner gasoliene_type   price  emi_per_month  zero_downpayment  \\\n",
       "0  179045      1         Diesel  507599          11291  Zero downpayment   \n",
       "1   78819      2         Diesel  476699          10604  Zero downpayment   \n",
       "2   97289      2         Diesel  494799          11007  Zero downpayment   \n",
       "3   45693      2         Petrol  331999           7385  Zero downpayment   \n",
       "4   40586      1         Petrol  620299          13798  Zero downpayment   \n",
       "\n",
       "        city      state  \n",
       "0  Hyderabad  Telangana  \n",
       "1  Hyderabad  Telangana  \n",
       "2  Hyderabad  Telangana  \n",
       "3  Hyderabad  Telangana  \n",
       "4  Hyderabad  Telangana  "
      ]
     },
     "execution_count": 35,
     "metadata": {},
     "output_type": "execute_result"
    }
   ],
   "source": [
    "df.head()"
   ]
  },
  {
   "cell_type": "code",
   "execution_count": 36,
   "id": "a2631741",
   "metadata": {},
   "outputs": [],
   "source": [
    "df.to_csv('cars24fullclean.csv')"
   ]
  },
  {
   "cell_type": "code",
   "execution_count": 37,
   "id": "95574dfa",
   "metadata": {},
   "outputs": [
    {
     "data": {
      "text/html": [
       "<div>\n",
       "<style scoped>\n",
       "    .dataframe tbody tr th:only-of-type {\n",
       "        vertical-align: middle;\n",
       "    }\n",
       "\n",
       "    .dataframe tbody tr th {\n",
       "        vertical-align: top;\n",
       "    }\n",
       "\n",
       "    .dataframe thead th {\n",
       "        text-align: right;\n",
       "    }\n",
       "</style>\n",
       "<table border=\"1\" class=\"dataframe\">\n",
       "  <thead>\n",
       "    <tr style=\"text-align: right;\">\n",
       "      <th></th>\n",
       "      <th>model_year</th>\n",
       "      <th>kms</th>\n",
       "      <th>owner</th>\n",
       "      <th>price</th>\n",
       "      <th>emi_per_month</th>\n",
       "    </tr>\n",
       "  </thead>\n",
       "  <tbody>\n",
       "    <tr>\n",
       "      <th>count</th>\n",
       "      <td>4490.000000</td>\n",
       "      <td>4490.000000</td>\n",
       "      <td>4490.000000</td>\n",
       "      <td>4.490000e+03</td>\n",
       "      <td>4490.000000</td>\n",
       "    </tr>\n",
       "    <tr>\n",
       "      <th>mean</th>\n",
       "      <td>2016.516481</td>\n",
       "      <td>45227.062361</td>\n",
       "      <td>1.228285</td>\n",
       "      <td>3.269645e+05</td>\n",
       "      <td>6972.457238</td>\n",
       "    </tr>\n",
       "    <tr>\n",
       "      <th>std</th>\n",
       "      <td>2.281839</td>\n",
       "      <td>33100.553227</td>\n",
       "      <td>0.482024</td>\n",
       "      <td>3.498120e+05</td>\n",
       "      <td>8011.797982</td>\n",
       "    </tr>\n",
       "    <tr>\n",
       "      <th>min</th>\n",
       "      <td>1997.000000</td>\n",
       "      <td>58.000000</td>\n",
       "      <td>1.000000</td>\n",
       "      <td>0.000000e+00</td>\n",
       "      <td>0.000000</td>\n",
       "    </tr>\n",
       "    <tr>\n",
       "      <th>25%</th>\n",
       "      <td>2015.000000</td>\n",
       "      <td>21563.250000</td>\n",
       "      <td>1.000000</td>\n",
       "      <td>4.879900e+04</td>\n",
       "      <td>505.250000</td>\n",
       "    </tr>\n",
       "    <tr>\n",
       "      <th>50%</th>\n",
       "      <td>2017.000000</td>\n",
       "      <td>38188.000000</td>\n",
       "      <td>1.000000</td>\n",
       "      <td>2.226490e+05</td>\n",
       "      <td>4952.500000</td>\n",
       "    </tr>\n",
       "    <tr>\n",
       "      <th>75%</th>\n",
       "      <td>2018.000000</td>\n",
       "      <td>60620.250000</td>\n",
       "      <td>1.000000</td>\n",
       "      <td>5.326740e+05</td>\n",
       "      <td>11849.000000</td>\n",
       "    </tr>\n",
       "    <tr>\n",
       "      <th>max</th>\n",
       "      <td>2021.000000</td>\n",
       "      <td>280921.000000</td>\n",
       "      <td>8.000000</td>\n",
       "      <td>2.377599e+06</td>\n",
       "      <td>52888.000000</td>\n",
       "    </tr>\n",
       "  </tbody>\n",
       "</table>\n",
       "</div>"
      ],
      "text/plain": [
       "        model_year            kms        owner         price  emi_per_month\n",
       "count  4490.000000    4490.000000  4490.000000  4.490000e+03    4490.000000\n",
       "mean   2016.516481   45227.062361     1.228285  3.269645e+05    6972.457238\n",
       "std       2.281839   33100.553227     0.482024  3.498120e+05    8011.797982\n",
       "min    1997.000000      58.000000     1.000000  0.000000e+00       0.000000\n",
       "25%    2015.000000   21563.250000     1.000000  4.879900e+04     505.250000\n",
       "50%    2017.000000   38188.000000     1.000000  2.226490e+05    4952.500000\n",
       "75%    2018.000000   60620.250000     1.000000  5.326740e+05   11849.000000\n",
       "max    2021.000000  280921.000000     8.000000  2.377599e+06   52888.000000"
      ]
     },
     "execution_count": 37,
     "metadata": {},
     "output_type": "execute_result"
    }
   ],
   "source": [
    "#check statistics of dataframe\n",
    "df.describe()"
   ]
  },
  {
   "cell_type": "code",
   "execution_count": 38,
   "id": "89733978",
   "metadata": {},
   "outputs": [
    {
     "data": {
      "text/plain": [
       "array(['Ford', 'Maruti', 'Honda', 'Hyundai', 'Skoda', 'Mahindra',\n",
       "       'Renault', 'Volkswagen', 'Toyota', 'Datsun', 'Mercedes', 'Tata',\n",
       "       'MG', 'Audi', 'Jeep', 'KIA', 'Nissan', 'Fiat', 'ISUZU', 'BMW',\n",
       "       'HYUNDAI', 'RENAULT', 'Chevrolet', 'Landrover', 'Jaguar'],\n",
       "      dtype=object)"
      ]
     },
     "execution_count": 38,
     "metadata": {},
     "output_type": "execute_result"
    }
   ],
   "source": [
    "#check unique cars brand and no of unique cars\n",
    "df.cars_brand.unique()"
   ]
  },
  {
   "cell_type": "code",
   "execution_count": 39,
   "id": "1cb3f0a1",
   "metadata": {},
   "outputs": [],
   "source": [
    "# in this we can see there is Hyundai and HYUNDAI so convert HYUNDAI into Hyundai\n",
    "df['cars_brand'] = df['cars_brand'].replace('HYUNDAI','Hyundai')"
   ]
  },
  {
   "cell_type": "code",
   "execution_count": 40,
   "id": "77f397ab",
   "metadata": {},
   "outputs": [
    {
     "data": {
      "text/plain": [
       "array(['Ford', 'Maruti', 'Honda', 'Hyundai', 'Skoda', 'Mahindra',\n",
       "       'Renault', 'Volkswagen', 'Toyota', 'Datsun', 'Mercedes', 'Tata',\n",
       "       'MG', 'Audi', 'Jeep', 'KIA', 'Nissan', 'Fiat', 'ISUZU', 'BMW',\n",
       "       'RENAULT', 'Chevrolet', 'Landrover', 'Jaguar'], dtype=object)"
      ]
     },
     "execution_count": 40,
     "metadata": {},
     "output_type": "execute_result"
    }
   ],
   "source": [
    "df['cars_brand'].unique()"
   ]
  },
  {
   "cell_type": "code",
   "execution_count": 41,
   "id": "556d9486",
   "metadata": {},
   "outputs": [
    {
     "data": {
      "text/plain": [
       "24"
      ]
     },
     "execution_count": 41,
     "metadata": {},
     "output_type": "execute_result"
    }
   ],
   "source": [
    "df.cars_brand.nunique()"
   ]
  },
  {
   "cell_type": "markdown",
   "id": "3bd4158a",
   "metadata": {},
   "source": [
    "#### observation : In dataframe there are 24 unique brands of cars"
   ]
  },
  {
   "cell_type": "code",
   "execution_count": 42,
   "id": "61484f77",
   "metadata": {},
   "outputs": [
    {
     "data": {
      "text/plain": [
       "array([2013, 2012, 2014, 2016, 2015, 2017, 2010, 2018, 2020, 2011, 2021,\n",
       "       2019, 2009, 2008, 1997, 2007, 2001, 2006], dtype=int64)"
      ]
     },
     "execution_count": 42,
     "metadata": {},
     "output_type": "execute_result"
    }
   ],
   "source": [
    "df.model_year.unique()"
   ]
  },
  {
   "cell_type": "code",
   "execution_count": 43,
   "id": "185ba386",
   "metadata": {},
   "outputs": [
    {
     "data": {
      "text/plain": [
       "18"
      ]
     },
     "execution_count": 43,
     "metadata": {},
     "output_type": "execute_result"
    }
   ],
   "source": [
    "df.model_year.nunique()"
   ]
  },
  {
   "cell_type": "markdown",
   "id": "bc4420d1",
   "metadata": {},
   "source": [
    "#### observation : In dataframe there are 18 unique model years of cars"
   ]
  },
  {
   "cell_type": "code",
   "execution_count": 44,
   "id": "e289d904",
   "metadata": {},
   "outputs": [
    {
     "data": {
      "text/plain": [
       "Text(0.5, 1.0, 'Different car brands with there count')"
      ]
     },
     "execution_count": 44,
     "metadata": {},
     "output_type": "execute_result"
    },
    {
     "data": {
      "image/png": "[encoded data removed]",
      "text/plain": [
       "<Figure size 1440x360 with 1 Axes>"
      ]
     },
     "metadata": {
      "needs_background": "light"
     },
     "output_type": "display_data"
    }
   ],
   "source": [
    "plt.figure(figsize=(20,5))\n",
    "df.cars_brand.value_counts().plot.bar()\n",
    "plt.title('Different car brands with there count')\n"
   ]
  },
  {
   "cell_type": "code",
   "execution_count": 45,
   "id": "605ada64",
   "metadata": {},
   "outputs": [
    {
     "data": {
      "text/plain": [
       "(10.0, 25.0)"
      ]
     },
     "execution_count": 45,
     "metadata": {},
     "output_type": "execute_result"
    },
    {
     "data": {
      "image/png": "[encoded data removed]",
      "text/plain": [
       "<Figure size 720x360 with 1 Axes>"
      ]
     },
     "metadata": {
      "needs_background": "light"
     },
     "output_type": "display_data"
    }
   ],
   "source": [
    "plt.figure(figsize=(10,5))\n",
    "df.cars_brand.value_counts().plot.bar()\n",
    "plt.ylim(0,50)\n",
    "plt.xlim(10,25)"
   ]
  },
  {
   "cell_type": "markdown",
   "id": "a553bd32",
   "metadata": {},
   "source": [
    "#### observation : \n",
    "1. The most listed car brand in cars24 is Maruti with more than 2000 cars\n",
    "2. The low listed car brands in cars24 are shown in above plot  which are less than 30\n",
    "                 "
   ]
  },
  {
   "cell_type": "code",
   "execution_count": 46,
   "id": "e28940be",
   "metadata": {},
   "outputs": [
    {
     "data": {
      "text/plain": [
       "Text(0.5, 1.0, 'Citywise listed count for Maruti Brand')"
      ]
     },
     "execution_count": 46,
     "metadata": {},
     "output_type": "execute_result"
    },
    {
     "data": {
      "image/png": "[encoded data removed]",
      "text/plain": [
       "<Figure size 432x288 with 1 Axes>"
      ]
     },
     "metadata": {
      "needs_background": "light"
     },
     "output_type": "display_data"
    }
   ],
   "source": [
    "#check in which city the high numbers of maruti car listed\n",
    "df[df['cars_brand'] == 'Maruti']['city'].value_counts().plot.bar()\n",
    "plt.title('Citywise listed count for Maruti Brand')\n"
   ]
  },
  {
   "cell_type": "code",
   "execution_count": 47,
   "id": "e4a81d0f",
   "metadata": {},
   "outputs": [
    {
     "data": {
      "text/plain": [
       "Text(0.5, 1.0, 'Citywise listed count')"
      ]
     },
     "execution_count": 47,
     "metadata": {},
     "output_type": "execute_result"
    },
    {
     "data": {
      "image/png": "[encoded data removed]",
      "text/plain": [
       "<Figure size 432x288 with 1 Axes>"
      ]
     },
     "metadata": {
      "needs_background": "light"
     },
     "output_type": "display_data"
    }
   ],
   "source": [
    "df.city.value_counts().plot.bar()\n",
    "plt.title('Citywise listed count')"
   ]
  },
  {
   "cell_type": "markdown",
   "id": "f47c7db3",
   "metadata": {},
   "source": [
    "#### observation : The more number of Maruti cars are listed in Gurgaon city because of Gurgaon city has more listed number of cars in cars24"
   ]
  },
  {
   "cell_type": "code",
   "execution_count": 48,
   "id": "8b50d1e0",
   "metadata": {},
   "outputs": [
    {
     "data": {
      "text/plain": [
       "Text(0.5, 1.0, 'only in Maharashtra')"
      ]
     },
     "execution_count": 48,
     "metadata": {},
     "output_type": "execute_result"
    },
    {
     "data": {
      "image/png": "[encoded data removed]",
      "text/plain": [
       "<Figure size 432x288 with 1 Axes>"
      ]
     },
     "metadata": {
      "needs_background": "light"
     },
     "output_type": "display_data"
    }
   ],
   "source": [
    "df[df['state'] == 'Maharashtra']['city'].value_counts().plot.bar(color = ['blue','orange'])\n",
    "plt.title('only in Maharashtra')"
   ]
  },
  {
   "cell_type": "markdown",
   "id": "861e1597",
   "metadata": {},
   "source": [
    "#### obseravtion: In Maharashtra there are two cities in which Mumbai has more number of cars listed "
   ]
  },
  {
   "cell_type": "code",
   "execution_count": 49,
   "id": "d1d25729",
   "metadata": {},
   "outputs": [
    {
     "data": {
      "text/plain": [
       "Text(0.5, 1.0, 'only in Tamilnadu')"
      ]
     },
     "execution_count": 49,
     "metadata": {},
     "output_type": "execute_result"
    },
    {
     "data": {
      "image/png": "[encoded data removed]",
      "text/plain": [
       "<Figure size 432x288 with 1 Axes>"
      ]
     },
     "metadata": {
      "needs_background": "light"
     },
     "output_type": "display_data"
    }
   ],
   "source": [
    "df[df['state'] == 'Tamilnadu']['city'].value_counts().plot.bar(color = ['blue','orange'])\n",
    "plt.title('only in Tamilnadu')"
   ]
  },
  {
   "cell_type": "markdown",
   "id": "0bd18c68",
   "metadata": {},
   "source": [
    "#### obseravtion: In Tamil Nadu there are two cities in which Mumbai has more number of cars listed "
   ]
  },
  {
   "cell_type": "code",
   "execution_count": 50,
   "id": "cc54509c",
   "metadata": {},
   "outputs": [
    {
     "data": {
      "text/html": [
       "<div>\n",
       "<style scoped>\n",
       "    .dataframe tbody tr th:only-of-type {\n",
       "        vertical-align: middle;\n",
       "    }\n",
       "\n",
       "    .dataframe tbody tr th {\n",
       "        vertical-align: top;\n",
       "    }\n",
       "\n",
       "    .dataframe thead th {\n",
       "        text-align: right;\n",
       "    }\n",
       "</style>\n",
       "<table border=\"1\" class=\"dataframe\">\n",
       "  <thead>\n",
       "    <tr style=\"text-align: right;\">\n",
       "      <th></th>\n",
       "      <th>cars_name</th>\n",
       "      <th>cars_brand</th>\n",
       "      <th>model</th>\n",
       "      <th>model_year</th>\n",
       "      <th>car_type</th>\n",
       "      <th>kms</th>\n",
       "      <th>owner</th>\n",
       "      <th>gasoliene_type</th>\n",
       "      <th>price</th>\n",
       "      <th>emi_per_month</th>\n",
       "      <th>zero_downpayment</th>\n",
       "      <th>city</th>\n",
       "      <th>state</th>\n",
       "    </tr>\n",
       "  </thead>\n",
       "  <tbody>\n",
       "    <tr>\n",
       "      <th>0</th>\n",
       "      <td>Ford Ecosport</td>\n",
       "      <td>Ford</td>\n",
       "      <td>1.5 TITANIUMTDCI OPT</td>\n",
       "      <td>2013</td>\n",
       "      <td>Manual</td>\n",
       "      <td>179045</td>\n",
       "      <td>1</td>\n",
       "      <td>Diesel</td>\n",
       "      <td>507599</td>\n",
       "      <td>11291</td>\n",
       "      <td>Zero downpayment</td>\n",
       "      <td>Hyderabad</td>\n",
       "      <td>Telangana</td>\n",
       "    </tr>\n",
       "    <tr>\n",
       "      <th>1</th>\n",
       "      <td>Maruti Swift</td>\n",
       "      <td>Maruti</td>\n",
       "      <td>ZDI</td>\n",
       "      <td>2012</td>\n",
       "      <td>Manual</td>\n",
       "      <td>78819</td>\n",
       "      <td>2</td>\n",
       "      <td>Diesel</td>\n",
       "      <td>476699</td>\n",
       "      <td>10604</td>\n",
       "      <td>Zero downpayment</td>\n",
       "      <td>Hyderabad</td>\n",
       "      <td>Telangana</td>\n",
       "    </tr>\n",
       "    <tr>\n",
       "      <th>2</th>\n",
       "      <td>Honda Mobilio</td>\n",
       "      <td>Honda</td>\n",
       "      <td>1.5 V OPT I DTEC</td>\n",
       "      <td>2014</td>\n",
       "      <td>Manual</td>\n",
       "      <td>97289</td>\n",
       "      <td>2</td>\n",
       "      <td>Diesel</td>\n",
       "      <td>494799</td>\n",
       "      <td>11007</td>\n",
       "      <td>Zero downpayment</td>\n",
       "      <td>Hyderabad</td>\n",
       "      <td>Telangana</td>\n",
       "    </tr>\n",
       "    <tr>\n",
       "      <th>3</th>\n",
       "      <td>Maruti Wagon R 1.0</td>\n",
       "      <td>Maruti</td>\n",
       "      <td>VXI</td>\n",
       "      <td>2013</td>\n",
       "      <td>Manual</td>\n",
       "      <td>45693</td>\n",
       "      <td>2</td>\n",
       "      <td>Petrol</td>\n",
       "      <td>331999</td>\n",
       "      <td>7385</td>\n",
       "      <td>Zero downpayment</td>\n",
       "      <td>Hyderabad</td>\n",
       "      <td>Telangana</td>\n",
       "    </tr>\n",
       "    <tr>\n",
       "      <th>4</th>\n",
       "      <td>Hyundai i20 Active</td>\n",
       "      <td>Hyundai</td>\n",
       "      <td>1.2 S</td>\n",
       "      <td>2016</td>\n",
       "      <td>Manual</td>\n",
       "      <td>40586</td>\n",
       "      <td>1</td>\n",
       "      <td>Petrol</td>\n",
       "      <td>620299</td>\n",
       "      <td>13798</td>\n",
       "      <td>Zero downpayment</td>\n",
       "      <td>Hyderabad</td>\n",
       "      <td>Telangana</td>\n",
       "    </tr>\n",
       "  </tbody>\n",
       "</table>\n",
       "</div>"
      ],
      "text/plain": [
       "            cars_name cars_brand                  model  model_year car_type  \\\n",
       "0       Ford Ecosport       Ford  1.5 TITANIUMTDCI OPT         2013   Manual   \n",
       "1        Maruti Swift     Maruti                   ZDI         2012   Manual   \n",
       "2       Honda Mobilio      Honda      1.5 V OPT I DTEC         2014   Manual   \n",
       "3  Maruti Wagon R 1.0     Maruti                   VXI         2013   Manual   \n",
       "4  Hyundai i20 Active    Hyundai                 1.2 S         2016   Manual   \n",
       "\n",
       "      kms  owner gasoliene_type   price  emi_per_month  zero_downpayment  \\\n",
       "0  179045      1         Diesel  507599          11291  Zero downpayment   \n",
       "1   78819      2         Diesel  476699          10604  Zero downpayment   \n",
       "2   97289      2         Diesel  494799          11007  Zero downpayment   \n",
       "3   45693      2         Petrol  331999           7385  Zero downpayment   \n",
       "4   40586      1         Petrol  620299          13798  Zero downpayment   \n",
       "\n",
       "        city      state  \n",
       "0  Hyderabad  Telangana  \n",
       "1  Hyderabad  Telangana  \n",
       "2  Hyderabad  Telangana  \n",
       "3  Hyderabad  Telangana  \n",
       "4  Hyderabad  Telangana  "
      ]
     },
     "execution_count": 50,
     "metadata": {},
     "output_type": "execute_result"
    }
   ],
   "source": [
    "df.head()"
   ]
  },
  {
   "cell_type": "code",
   "execution_count": 51,
   "id": "281f1624",
   "metadata": {},
   "outputs": [
    {
     "data": {
      "text/plain": [
       "array([1, 2, 3, 4, 8], dtype=int64)"
      ]
     },
     "execution_count": 51,
     "metadata": {},
     "output_type": "execute_result"
    }
   ],
   "source": [
    "#check owner type\n",
    "df.owner.unique()"
   ]
  },
  {
   "cell_type": "code",
   "execution_count": 52,
   "id": "6198c8d3",
   "metadata": {},
   "outputs": [
    {
     "data": {
      "text/plain": [
       "Text(0.5, 1.0, 'Ownerwise Count')"
      ]
     },
     "execution_count": 52,
     "metadata": {},
     "output_type": "execute_result"
    },
    {
     "data": {
      "image/png": "[encoded data removed]",
      "text/plain": [
       "<Figure size 432x288 with 1 Axes>"
      ]
     },
     "metadata": {
      "needs_background": "light"
     },
     "output_type": "display_data"
    }
   ],
   "source": [
    "#owner type as 8 looks like outlier\n",
    "df.owner.value_counts().plot.bar()\n",
    "plt.title('Ownerwise Count')"
   ]
  },
  {
   "cell_type": "code",
   "execution_count": 53,
   "id": "6eb0ee20",
   "metadata": {},
   "outputs": [
    {
     "data": {
      "text/plain": [
       "1    3569\n",
       "2     829\n",
       "3      84\n",
       "4       7\n",
       "8       1\n",
       "Name: owner, dtype: int64"
      ]
     },
     "execution_count": 53,
     "metadata": {},
     "output_type": "execute_result"
    }
   ],
   "source": [
    "df.owner.value_counts()"
   ]
  },
  {
   "cell_type": "code",
   "execution_count": 54,
   "id": "42d7de4d",
   "metadata": {},
   "outputs": [],
   "source": [
    "#removing rows with owner 4 ,8 its seems like an outlier\n",
    "df.drop(df.index[1705],inplace = True)"
   ]
  },
  {
   "cell_type": "code",
   "execution_count": 55,
   "id": "d698068f",
   "metadata": {},
   "outputs": [],
   "source": [
    "df.drop(df.index[df['owner'] == 4],inplace = True)"
   ]
  },
  {
   "cell_type": "code",
   "execution_count": 56,
   "id": "28759c70",
   "metadata": {},
   "outputs": [
    {
     "data": {
      "text/plain": [
       "1    3569\n",
       "2     829\n",
       "3      84\n",
       "Name: owner, dtype: int64"
      ]
     },
     "execution_count": 56,
     "metadata": {},
     "output_type": "execute_result"
    }
   ],
   "source": [
    "df.owner.value_counts()"
   ]
  },
  {
   "cell_type": "code",
   "execution_count": 57,
   "id": "8b3d8af0",
   "metadata": {},
   "outputs": [
    {
     "data": {
      "text/html": [
       "<div>\n",
       "<style scoped>\n",
       "    .dataframe tbody tr th:only-of-type {\n",
       "        vertical-align: middle;\n",
       "    }\n",
       "\n",
       "    .dataframe tbody tr th {\n",
       "        vertical-align: top;\n",
       "    }\n",
       "\n",
       "    .dataframe thead th {\n",
       "        text-align: right;\n",
       "    }\n",
       "</style>\n",
       "<table border=\"1\" class=\"dataframe\">\n",
       "  <thead>\n",
       "    <tr style=\"text-align: right;\">\n",
       "      <th></th>\n",
       "      <th>cars_name</th>\n",
       "      <th>cars_brand</th>\n",
       "      <th>model</th>\n",
       "      <th>model_year</th>\n",
       "      <th>car_type</th>\n",
       "      <th>kms</th>\n",
       "      <th>owner</th>\n",
       "      <th>gasoliene_type</th>\n",
       "      <th>price</th>\n",
       "      <th>emi_per_month</th>\n",
       "      <th>zero_downpayment</th>\n",
       "      <th>city</th>\n",
       "      <th>state</th>\n",
       "    </tr>\n",
       "  </thead>\n",
       "  <tbody>\n",
       "    <tr>\n",
       "      <th>0</th>\n",
       "      <td>Ford Ecosport</td>\n",
       "      <td>Ford</td>\n",
       "      <td>1.5 TITANIUMTDCI OPT</td>\n",
       "      <td>2013</td>\n",
       "      <td>Manual</td>\n",
       "      <td>179045</td>\n",
       "      <td>1</td>\n",
       "      <td>Diesel</td>\n",
       "      <td>507599</td>\n",
       "      <td>11291</td>\n",
       "      <td>Zero downpayment</td>\n",
       "      <td>Hyderabad</td>\n",
       "      <td>Telangana</td>\n",
       "    </tr>\n",
       "    <tr>\n",
       "      <th>1</th>\n",
       "      <td>Maruti Swift</td>\n",
       "      <td>Maruti</td>\n",
       "      <td>ZDI</td>\n",
       "      <td>2012</td>\n",
       "      <td>Manual</td>\n",
       "      <td>78819</td>\n",
       "      <td>2</td>\n",
       "      <td>Diesel</td>\n",
       "      <td>476699</td>\n",
       "      <td>10604</td>\n",
       "      <td>Zero downpayment</td>\n",
       "      <td>Hyderabad</td>\n",
       "      <td>Telangana</td>\n",
       "    </tr>\n",
       "    <tr>\n",
       "      <th>2</th>\n",
       "      <td>Honda Mobilio</td>\n",
       "      <td>Honda</td>\n",
       "      <td>1.5 V OPT I DTEC</td>\n",
       "      <td>2014</td>\n",
       "      <td>Manual</td>\n",
       "      <td>97289</td>\n",
       "      <td>2</td>\n",
       "      <td>Diesel</td>\n",
       "      <td>494799</td>\n",
       "      <td>11007</td>\n",
       "      <td>Zero downpayment</td>\n",
       "      <td>Hyderabad</td>\n",
       "      <td>Telangana</td>\n",
       "    </tr>\n",
       "    <tr>\n",
       "      <th>3</th>\n",
       "      <td>Maruti Wagon R 1.0</td>\n",
       "      <td>Maruti</td>\n",
       "      <td>VXI</td>\n",
       "      <td>2013</td>\n",
       "      <td>Manual</td>\n",
       "      <td>45693</td>\n",
       "      <td>2</td>\n",
       "      <td>Petrol</td>\n",
       "      <td>331999</td>\n",
       "      <td>7385</td>\n",
       "      <td>Zero downpayment</td>\n",
       "      <td>Hyderabad</td>\n",
       "      <td>Telangana</td>\n",
       "    </tr>\n",
       "    <tr>\n",
       "      <th>4</th>\n",
       "      <td>Hyundai i20 Active</td>\n",
       "      <td>Hyundai</td>\n",
       "      <td>1.2 S</td>\n",
       "      <td>2016</td>\n",
       "      <td>Manual</td>\n",
       "      <td>40586</td>\n",
       "      <td>1</td>\n",
       "      <td>Petrol</td>\n",
       "      <td>620299</td>\n",
       "      <td>13798</td>\n",
       "      <td>Zero downpayment</td>\n",
       "      <td>Hyderabad</td>\n",
       "      <td>Telangana</td>\n",
       "    </tr>\n",
       "  </tbody>\n",
       "</table>\n",
       "</div>"
      ],
      "text/plain": [
       "            cars_name cars_brand                  model  model_year car_type  \\\n",
       "0       Ford Ecosport       Ford  1.5 TITANIUMTDCI OPT         2013   Manual   \n",
       "1        Maruti Swift     Maruti                   ZDI         2012   Manual   \n",
       "2       Honda Mobilio      Honda      1.5 V OPT I DTEC         2014   Manual   \n",
       "3  Maruti Wagon R 1.0     Maruti                   VXI         2013   Manual   \n",
       "4  Hyundai i20 Active    Hyundai                 1.2 S         2016   Manual   \n",
       "\n",
       "      kms  owner gasoliene_type   price  emi_per_month  zero_downpayment  \\\n",
       "0  179045      1         Diesel  507599          11291  Zero downpayment   \n",
       "1   78819      2         Diesel  476699          10604  Zero downpayment   \n",
       "2   97289      2         Diesel  494799          11007  Zero downpayment   \n",
       "3   45693      2         Petrol  331999           7385  Zero downpayment   \n",
       "4   40586      1         Petrol  620299          13798  Zero downpayment   \n",
       "\n",
       "        city      state  \n",
       "0  Hyderabad  Telangana  \n",
       "1  Hyderabad  Telangana  \n",
       "2  Hyderabad  Telangana  \n",
       "3  Hyderabad  Telangana  \n",
       "4  Hyderabad  Telangana  "
      ]
     },
     "execution_count": 57,
     "metadata": {},
     "output_type": "execute_result"
    }
   ],
   "source": [
    "df.head()"
   ]
  },
  {
   "cell_type": "code",
   "execution_count": 89,
   "id": "4fe61b01",
   "metadata": {},
   "outputs": [
    {
     "name": "stderr",
     "output_type": "stream",
     "text": [
      "C:\\Users\\prashanth\\anaconda3\\lib\\site-packages\\seaborn\\distributions.py:2619: FutureWarning: `distplot` is a deprecated function and will be removed in a future version. Please adapt your code to use either `displot` (a figure-level function with similar flexibility) or `histplot` (an axes-level function for histograms).\n",
      "  warnings.warn(msg, FutureWarning)\n"
     ]
    },
    {
     "data": {
      "image/png": "[encoded data removed]",
      "text/plain": [
       "<Figure size 720x360 with 1 Axes>"
      ]
     },
     "metadata": {
      "needs_background": "light"
     },
     "output_type": "display_data"
    }
   ],
   "source": [
    "#check denisty of kms\n",
    "plt.figure(figsize=(10,5))\n",
    "sns.distplot(df['kms'])\n",
    "plt.title('Kms Distribution')\n",
    "plt.show()"
   ]
  },
  {
   "cell_type": "markdown",
   "id": "37dc8395",
   "metadata": {},
   "source": [
    "#### observation : In cars24 the most cars kms(density) are in the range of 0 - 100000"
   ]
  },
  {
   "cell_type": "code",
   "execution_count": 59,
   "id": "d7238dcc",
   "metadata": {},
   "outputs": [
    {
     "data": {
      "text/html": [
       "<div>\n",
       "<style scoped>\n",
       "    .dataframe tbody tr th:only-of-type {\n",
       "        vertical-align: middle;\n",
       "    }\n",
       "\n",
       "    .dataframe tbody tr th {\n",
       "        vertical-align: top;\n",
       "    }\n",
       "\n",
       "    .dataframe thead th {\n",
       "        text-align: right;\n",
       "    }\n",
       "</style>\n",
       "<table border=\"1\" class=\"dataframe\">\n",
       "  <thead>\n",
       "    <tr style=\"text-align: right;\">\n",
       "      <th></th>\n",
       "      <th>cars_name</th>\n",
       "      <th>cars_brand</th>\n",
       "      <th>model</th>\n",
       "      <th>model_year</th>\n",
       "      <th>car_type</th>\n",
       "      <th>kms</th>\n",
       "      <th>owner</th>\n",
       "      <th>gasoliene_type</th>\n",
       "      <th>price</th>\n",
       "      <th>emi_per_month</th>\n",
       "      <th>zero_downpayment</th>\n",
       "      <th>city</th>\n",
       "      <th>state</th>\n",
       "    </tr>\n",
       "  </thead>\n",
       "  <tbody>\n",
       "  </tbody>\n",
       "</table>\n",
       "</div>"
      ],
      "text/plain": [
       "Empty DataFrame\n",
       "Columns: [cars_name, cars_brand, model, model_year, car_type, kms, owner, gasoliene_type, price, emi_per_month, zero_downpayment, city, state]\n",
       "Index: []"
      ]
     },
     "execution_count": 59,
     "metadata": {},
     "output_type": "execute_result"
    }
   ],
   "source": [
    "#check whether the cars are with 0 kms\n",
    "df[df['kms'] == 0]"
   ]
  },
  {
   "cell_type": "code",
   "execution_count": 60,
   "id": "9df72de5",
   "metadata": {},
   "outputs": [
    {
     "data": {
      "text/plain": [
       "Text(0.5, 1.0, 'Model year count with less than 10000 kms')"
      ]
     },
     "execution_count": 60,
     "metadata": {},
     "output_type": "execute_result"
    },
    {
     "data": {
      "image/png": "[encoded data removed]",
      "text/plain": [
       "<Figure size 432x288 with 1 Axes>"
      ]
     },
     "metadata": {
      "needs_background": "light"
     },
     "output_type": "display_data"
    }
   ],
   "source": [
    "#lets check cars kms less than 10000 and model year greater than 2019 \n",
    "df[(df['kms'] <= 10000)]['model_year'].value_counts().plot.bar()\n",
    "plt.title('Model year count with less than 10000 kms')"
   ]
  },
  {
   "cell_type": "markdown",
   "id": "ce31c342",
   "metadata": {},
   "source": [
    "#### observation : The most car models with less than 10000 kms are 2019,2020,2018"
   ]
  },
  {
   "cell_type": "code",
   "execution_count": 91,
   "id": "c076cf34",
   "metadata": {},
   "outputs": [
    {
     "data": {
      "text/plain": [
       "Text(0.5, 1.0, 'Price Distribution')"
      ]
     },
     "execution_count": 91,
     "metadata": {},
     "output_type": "execute_result"
    },
    {
     "data": {
      "image/png": "[encoded data removed]",
      "text/plain": [
       "<Figure size 360x360 with 1 Axes>"
      ]
     },
     "metadata": {
      "needs_background": "light"
     },
     "output_type": "display_data"
    }
   ],
   "source": [
    "# check price denisty\n",
    "sns.catplot(y = 'price',data = df,kind = 'box')\n",
    "plt.title('Price Distribution')"
   ]
  },
  {
   "cell_type": "markdown",
   "id": "8c51464d",
   "metadata": {},
   "source": [
    "#### observation : \n",
    "1. In this dataframe the most car prices are around 1 - 5 lakhs\n",
    "2. The upper bound of this dataframe is around 13 lakhs\n",
    "3. lower bound around 1 lakh"
   ]
  },
  {
   "cell_type": "code",
   "execution_count": 62,
   "id": "838400cf",
   "metadata": {},
   "outputs": [
    {
     "data": {
      "text/plain": [
       "array(['Diesel', 'Petrol'], dtype=object)"
      ]
     },
     "execution_count": 62,
     "metadata": {},
     "output_type": "execute_result"
    }
   ],
   "source": [
    "# check how many cars with petrol and desiel\n",
    "df['gasoliene_type'].unique()"
   ]
  },
  {
   "cell_type": "code",
   "execution_count": 63,
   "id": "e635a7b3",
   "metadata": {},
   "outputs": [
    {
     "data": {
      "text/plain": [
       "Text(0.5, 1.0, 'Gasoliene_type count')"
      ]
     },
     "execution_count": 63,
     "metadata": {},
     "output_type": "execute_result"
    },
    {
     "data": {
      "image/png": "[encoded data removed]",
      "text/plain": [
       "<Figure size 432x288 with 1 Axes>"
      ]
     },
     "metadata": {
      "needs_background": "light"
     },
     "output_type": "display_data"
    }
   ],
   "source": [
    "df['gasoliene_type'].value_counts().plot.bar()\n",
    "plt.title('Gasoliene_type count')"
   ]
  },
  {
   "cell_type": "markdown",
   "id": "6b5f370d",
   "metadata": {},
   "source": [
    "#### obseravtion : There more petrol cars than Diesel"
   ]
  },
  {
   "cell_type": "code",
   "execution_count": 64,
   "id": "97c8cd02",
   "metadata": {},
   "outputs": [
    {
     "data": {
      "text/plain": [
       "Text(0.5, 1.0, 'Transmission type count')"
      ]
     },
     "execution_count": 64,
     "metadata": {},
     "output_type": "execute_result"
    },
    {
     "data": {
      "image/png": "[encoded data removed]",
      "text/plain": [
       "<Figure size 432x288 with 1 Axes>"
      ]
     },
     "metadata": {
      "needs_background": "light"
     },
     "output_type": "display_data"
    }
   ],
   "source": [
    "# check manual and automatic\n",
    "df['car_type'].value_counts().plot.bar()\n",
    "plt.title('Transmission type count')"
   ]
  },
  {
   "cell_type": "markdown",
   "id": "e05f1a34",
   "metadata": {},
   "source": [
    "#### obseravtion : There more Manual cars than Automatic"
   ]
  },
  {
   "cell_type": "code",
   "execution_count": 65,
   "id": "ee65959a",
   "metadata": {},
   "outputs": [
    {
     "data": {
      "text/plain": [
       "Text(0.5, 1.0, 'Manual car brand count')"
      ]
     },
     "execution_count": 65,
     "metadata": {},
     "output_type": "execute_result"
    },
    {
     "data": {
      "image/png": "[encoded data removed]",
      "text/plain": [
       "<Figure size 720x360 with 1 Axes>"
      ]
     },
     "metadata": {
      "needs_background": "light"
     },
     "output_type": "display_data"
    }
   ],
   "source": [
    "#check in which car brand has manual and which car brands has Automatic\n",
    "plt.figure(figsize=(10,5))\n",
    "df[df['car_type'] == 'Manual']['cars_brand'].value_counts().plot.bar()\n",
    "plt.title('Manual car brand count')"
   ]
  },
  {
   "cell_type": "code",
   "execution_count": 66,
   "id": "ce627522",
   "metadata": {},
   "outputs": [
    {
     "data": {
      "text/plain": [
       "Text(0.5, 1.0, 'Automatic car brand count')"
      ]
     },
     "execution_count": 66,
     "metadata": {},
     "output_type": "execute_result"
    },
    {
     "data": {
      "image/png": "[encoded data removed]",
      "text/plain": [
       "<Figure size 720x360 with 1 Axes>"
      ]
     },
     "metadata": {
      "needs_background": "light"
     },
     "output_type": "display_data"
    }
   ],
   "source": [
    "plt.figure(figsize=(10,5))\n",
    "df[df['car_type'] == 'Automatic']['cars_brand'].value_counts().plot.bar()\n",
    "plt.title('Automatic car brand count')"
   ]
  },
  {
   "cell_type": "code",
   "execution_count": 67,
   "id": "a1733394",
   "metadata": {},
   "outputs": [
    {
     "name": "stderr",
     "output_type": "stream",
     "text": [
      "C:\\Users\\prashanth\\anaconda3\\lib\\site-packages\\seaborn\\_decorators.py:36: FutureWarning: Pass the following variable as a keyword arg: x. From version 0.12, the only valid positional argument will be `data`, and passing other arguments without an explicit keyword will result in an error or misinterpretation.\n",
      "  warnings.warn(\n"
     ]
    },
    {
     "data": {
      "image/png": "[encoded data removed]",
      "text/plain": [
       "<Figure size 864x432 with 1 Axes>"
      ]
     },
     "metadata": {
      "needs_background": "light"
     },
     "output_type": "display_data"
    }
   ],
   "source": [
    "sns.countplot('cars_brand',data = df,hue = 'car_type')\n",
    "plt.gcf().set_size_inches(12, 6)\n",
    "plt.xticks(rotation = 90)\n",
    "plt.title('Car brand with Transmission type')\n",
    "plt.legend(bbox_to_anchor=(1.05, 1), loc=2, borderaxespad=0.)\n",
    "plt.show()"
   ]
  },
  {
   "cell_type": "markdown",
   "id": "195df4ec",
   "metadata": {},
   "source": [
    "#### observations: from this above two plots\n",
    "1. Maruti has high number of cars in manual and automatic\n",
    "2. In this dataset BMW,Mercedes,Landrover,Jaguar,chevrolet only have automatic cars"
   ]
  },
  {
   "cell_type": "code",
   "execution_count": 68,
   "id": "b86e3b50",
   "metadata": {},
   "outputs": [
    {
     "name": "stderr",
     "output_type": "stream",
     "text": [
      "C:\\Users\\prashanth\\anaconda3\\lib\\site-packages\\seaborn\\_decorators.py:36: FutureWarning: Pass the following variable as a keyword arg: x. From version 0.12, the only valid positional argument will be `data`, and passing other arguments without an explicit keyword will result in an error or misinterpretation.\n",
      "  warnings.warn(\n"
     ]
    },
    {
     "data": {
      "image/png": "[encoded data removed]",
      "text/plain": [
       "<Figure size 864x432 with 1 Axes>"
      ]
     },
     "metadata": {
      "needs_background": "light"
     },
     "output_type": "display_data"
    }
   ],
   "source": [
    "#check in which car brand has petrol and which car brands has diesel\n",
    "sns.countplot('cars_brand',data = df,hue = 'gasoliene_type' )\n",
    "plt.gcf().set_size_inches(12, 6)\n",
    "plt.xticks(rotation = 90)\n",
    "plt.title('Car brand with Gasoliene type')\n",
    "plt.legend(bbox_to_anchor=(1.05, 1), loc=2, borderaxespad=0.)\n",
    "plt.show()"
   ]
  },
  {
   "cell_type": "code",
   "execution_count": 69,
   "id": "051220d9",
   "metadata": {},
   "outputs": [
    {
     "data": {
      "text/plain": [
       "<AxesSubplot:>"
      ]
     },
     "execution_count": 69,
     "metadata": {},
     "output_type": "execute_result"
    },
    {
     "data": {
      "image/png": "[encoded data removed]",
      "text/plain": [
       "<Figure size 720x360 with 1 Axes>"
      ]
     },
     "metadata": {
      "needs_background": "light"
     },
     "output_type": "display_data"
    }
   ],
   "source": [
    "\n",
    "plt.figure(figsize=(10,5))\n",
    "df[df['gasoliene_type'] == 'Petrol']['cars_brand'].value_counts().plot.bar()"
   ]
  },
  {
   "cell_type": "code",
   "execution_count": 70,
   "id": "d2a933be",
   "metadata": {},
   "outputs": [
    {
     "data": {
      "text/plain": [
       "<AxesSubplot:>"
      ]
     },
     "execution_count": 70,
     "metadata": {},
     "output_type": "execute_result"
    },
    {
     "data": {
      "image/png": "[encoded data removed]",
      "text/plain": [
       "<Figure size 720x360 with 1 Axes>"
      ]
     },
     "metadata": {
      "needs_background": "light"
     },
     "output_type": "display_data"
    }
   ],
   "source": [
    "plt.figure(figsize=(10,5))\n",
    "df[df['gasoliene_type'] == 'Diesel']['cars_brand'].value_counts().plot.bar()"
   ]
  },
  {
   "cell_type": "markdown",
   "id": "05b1c313",
   "metadata": {},
   "source": [
    "#### observations: \n",
    "1. Maruti has high number of cars in both petrol and diesel\n",
    "2. There are more diesel cars brand when compared to petrol\n",
    "3. In this dataset BMW,Fiat,ISUZU,Chevrolet,Landrover,Jaguar have only diesel cars"
   ]
  },
  {
   "cell_type": "code",
   "execution_count": 71,
   "id": "6c262d6c",
   "metadata": {},
   "outputs": [
    {
     "data": {
      "text/html": [
       "<div>\n",
       "<style scoped>\n",
       "    .dataframe tbody tr th:only-of-type {\n",
       "        vertical-align: middle;\n",
       "    }\n",
       "\n",
       "    .dataframe tbody tr th {\n",
       "        vertical-align: top;\n",
       "    }\n",
       "\n",
       "    .dataframe thead th {\n",
       "        text-align: right;\n",
       "    }\n",
       "</style>\n",
       "<table border=\"1\" class=\"dataframe\">\n",
       "  <thead>\n",
       "    <tr style=\"text-align: right;\">\n",
       "      <th></th>\n",
       "      <th>cars_name</th>\n",
       "      <th>cars_brand</th>\n",
       "      <th>model</th>\n",
       "      <th>model_year</th>\n",
       "      <th>car_type</th>\n",
       "      <th>kms</th>\n",
       "      <th>owner</th>\n",
       "      <th>gasoliene_type</th>\n",
       "      <th>price</th>\n",
       "      <th>emi_per_month</th>\n",
       "      <th>zero_downpayment</th>\n",
       "      <th>city</th>\n",
       "      <th>state</th>\n",
       "    </tr>\n",
       "  </thead>\n",
       "  <tbody>\n",
       "    <tr>\n",
       "      <th>0</th>\n",
       "      <td>Ford Ecosport</td>\n",
       "      <td>Ford</td>\n",
       "      <td>1.5 TITANIUMTDCI OPT</td>\n",
       "      <td>2013</td>\n",
       "      <td>Manual</td>\n",
       "      <td>179045</td>\n",
       "      <td>1</td>\n",
       "      <td>Diesel</td>\n",
       "      <td>507599</td>\n",
       "      <td>11291</td>\n",
       "      <td>Zero downpayment</td>\n",
       "      <td>Hyderabad</td>\n",
       "      <td>Telangana</td>\n",
       "    </tr>\n",
       "    <tr>\n",
       "      <th>1</th>\n",
       "      <td>Maruti Swift</td>\n",
       "      <td>Maruti</td>\n",
       "      <td>ZDI</td>\n",
       "      <td>2012</td>\n",
       "      <td>Manual</td>\n",
       "      <td>78819</td>\n",
       "      <td>2</td>\n",
       "      <td>Diesel</td>\n",
       "      <td>476699</td>\n",
       "      <td>10604</td>\n",
       "      <td>Zero downpayment</td>\n",
       "      <td>Hyderabad</td>\n",
       "      <td>Telangana</td>\n",
       "    </tr>\n",
       "    <tr>\n",
       "      <th>2</th>\n",
       "      <td>Honda Mobilio</td>\n",
       "      <td>Honda</td>\n",
       "      <td>1.5 V OPT I DTEC</td>\n",
       "      <td>2014</td>\n",
       "      <td>Manual</td>\n",
       "      <td>97289</td>\n",
       "      <td>2</td>\n",
       "      <td>Diesel</td>\n",
       "      <td>494799</td>\n",
       "      <td>11007</td>\n",
       "      <td>Zero downpayment</td>\n",
       "      <td>Hyderabad</td>\n",
       "      <td>Telangana</td>\n",
       "    </tr>\n",
       "    <tr>\n",
       "      <th>3</th>\n",
       "      <td>Maruti Wagon R 1.0</td>\n",
       "      <td>Maruti</td>\n",
       "      <td>VXI</td>\n",
       "      <td>2013</td>\n",
       "      <td>Manual</td>\n",
       "      <td>45693</td>\n",
       "      <td>2</td>\n",
       "      <td>Petrol</td>\n",
       "      <td>331999</td>\n",
       "      <td>7385</td>\n",
       "      <td>Zero downpayment</td>\n",
       "      <td>Hyderabad</td>\n",
       "      <td>Telangana</td>\n",
       "    </tr>\n",
       "    <tr>\n",
       "      <th>4</th>\n",
       "      <td>Hyundai i20 Active</td>\n",
       "      <td>Hyundai</td>\n",
       "      <td>1.2 S</td>\n",
       "      <td>2016</td>\n",
       "      <td>Manual</td>\n",
       "      <td>40586</td>\n",
       "      <td>1</td>\n",
       "      <td>Petrol</td>\n",
       "      <td>620299</td>\n",
       "      <td>13798</td>\n",
       "      <td>Zero downpayment</td>\n",
       "      <td>Hyderabad</td>\n",
       "      <td>Telangana</td>\n",
       "    </tr>\n",
       "  </tbody>\n",
       "</table>\n",
       "</div>"
      ],
      "text/plain": [
       "            cars_name cars_brand                  model  model_year car_type  \\\n",
       "0       Ford Ecosport       Ford  1.5 TITANIUMTDCI OPT         2013   Manual   \n",
       "1        Maruti Swift     Maruti                   ZDI         2012   Manual   \n",
       "2       Honda Mobilio      Honda      1.5 V OPT I DTEC         2014   Manual   \n",
       "3  Maruti Wagon R 1.0     Maruti                   VXI         2013   Manual   \n",
       "4  Hyundai i20 Active    Hyundai                 1.2 S         2016   Manual   \n",
       "\n",
       "      kms  owner gasoliene_type   price  emi_per_month  zero_downpayment  \\\n",
       "0  179045      1         Diesel  507599          11291  Zero downpayment   \n",
       "1   78819      2         Diesel  476699          10604  Zero downpayment   \n",
       "2   97289      2         Diesel  494799          11007  Zero downpayment   \n",
       "3   45693      2         Petrol  331999           7385  Zero downpayment   \n",
       "4   40586      1         Petrol  620299          13798  Zero downpayment   \n",
       "\n",
       "        city      state  \n",
       "0  Hyderabad  Telangana  \n",
       "1  Hyderabad  Telangana  \n",
       "2  Hyderabad  Telangana  \n",
       "3  Hyderabad  Telangana  \n",
       "4  Hyderabad  Telangana  "
      ]
     },
     "execution_count": 71,
     "metadata": {},
     "output_type": "execute_result"
    }
   ],
   "source": [
    "df.head()"
   ]
  },
  {
   "cell_type": "code",
   "execution_count": 72,
   "id": "6a31e180",
   "metadata": {},
   "outputs": [
    {
     "data": {
      "text/plain": [
       "Text(0.5, 1.0, 'Carbrands with less than 500000 price')"
      ]
     },
     "execution_count": 72,
     "metadata": {},
     "output_type": "execute_result"
    },
    {
     "data": {
      "image/png": "[encoded data removed]",
      "text/plain": [
       "<Figure size 720x360 with 1 Axes>"
      ]
     },
     "metadata": {
      "needs_background": "light"
     },
     "output_type": "display_data"
    }
   ],
   "source": [
    "#check cars brand which are having price less than 5 lakh\n",
    "plt.figure(figsize=(10,5))\n",
    "df[df['price'] <= 500000]['cars_brand'].value_counts().plot.bar()\n",
    "plt.title('Carbrands with less than 500000 price')"
   ]
  },
  {
   "cell_type": "markdown",
   "id": "6413e7d8",
   "metadata": {},
   "source": [
    "#### observations: almost all cars brand are listed less than price of 500000 in which maruti has high number of cars"
   ]
  },
  {
   "cell_type": "code",
   "execution_count": 73,
   "id": "35108dc2",
   "metadata": {},
   "outputs": [
    {
     "data": {
      "text/plain": [
       "Text(0.5, 1.0, 'Car brands with Greater than 500000 price ,Petrol, Automatic and single owner')"
      ]
     },
     "execution_count": 73,
     "metadata": {},
     "output_type": "execute_result"
    },
    {
     "data": {
      "image/png": "[encoded data removed]",
      "text/plain": [
       "<Figure size 720x360 with 1 Axes>"
      ]
     },
     "metadata": {
      "needs_background": "light"
     },
     "output_type": "display_data"
    }
   ],
   "source": [
    "# check cars above 1000000 and gasoliene type is petrol and car_type is Automatic and owner is 1\n",
    "plt.figure(figsize=(10,5))\n",
    "df[(df['price'] >= 500000) & (df['gasoliene_type'] == 'Petrol') & (df['car_type'] == 'Automatic') & (df['owner'] == 1)]['cars_brand'].value_counts().plot.bar(color = 'Green')\n",
    "plt.title('Car brands with Greater than 500000 price ,Petrol, Automatic and single owner')"
   ]
  },
  {
   "cell_type": "markdown",
   "id": "4c49d625",
   "metadata": {},
   "source": [
    "#### observations : Hyundai cars listed more for the price of 500000 and greater and car_type is automatic and gasoliene type is petrol and owner is single"
   ]
  },
  {
   "cell_type": "code",
   "execution_count": 74,
   "id": "92123b94",
   "metadata": {},
   "outputs": [
    {
     "data": {
      "text/html": [
       "<div>\n",
       "<style scoped>\n",
       "    .dataframe tbody tr th:only-of-type {\n",
       "        vertical-align: middle;\n",
       "    }\n",
       "\n",
       "    .dataframe tbody tr th {\n",
       "        vertical-align: top;\n",
       "    }\n",
       "\n",
       "    .dataframe thead th {\n",
       "        text-align: right;\n",
       "    }\n",
       "</style>\n",
       "<table border=\"1\" class=\"dataframe\">\n",
       "  <thead>\n",
       "    <tr style=\"text-align: right;\">\n",
       "      <th></th>\n",
       "      <th>cars_name</th>\n",
       "      <th>cars_brand</th>\n",
       "      <th>model</th>\n",
       "      <th>model_year</th>\n",
       "      <th>car_type</th>\n",
       "      <th>kms</th>\n",
       "      <th>owner</th>\n",
       "      <th>gasoliene_type</th>\n",
       "      <th>price</th>\n",
       "      <th>emi_per_month</th>\n",
       "      <th>zero_downpayment</th>\n",
       "      <th>city</th>\n",
       "      <th>state</th>\n",
       "    </tr>\n",
       "  </thead>\n",
       "  <tbody>\n",
       "    <tr>\n",
       "      <th>137</th>\n",
       "      <td>Maruti Alto</td>\n",
       "      <td>Maruti</td>\n",
       "      <td>LXI</td>\n",
       "      <td>2020</td>\n",
       "      <td>Manual</td>\n",
       "      <td>24682</td>\n",
       "      <td>1</td>\n",
       "      <td>Petrol</td>\n",
       "      <td>99099</td>\n",
       "      <td>878</td>\n",
       "      <td>Zero downpayment</td>\n",
       "      <td>Ahmedabad</td>\n",
       "      <td>Gujarat</td>\n",
       "    </tr>\n",
       "    <tr>\n",
       "      <th>140</th>\n",
       "      <td>Hyundai Grand i10</td>\n",
       "      <td>Hyundai</td>\n",
       "      <td>GNA 1.2 KAPPA VTVT</td>\n",
       "      <td>2018</td>\n",
       "      <td>Manual</td>\n",
       "      <td>14586</td>\n",
       "      <td>1</td>\n",
       "      <td>Petrol</td>\n",
       "      <td>88799</td>\n",
       "      <td>873</td>\n",
       "      <td>Zero downpayment</td>\n",
       "      <td>Ahmedabad</td>\n",
       "      <td>Gujarat</td>\n",
       "    </tr>\n",
       "    <tr>\n",
       "      <th>145</th>\n",
       "      <td>Hyundai VENUE</td>\n",
       "      <td>Hyundai</td>\n",
       "      <td>S MT 1.2 KAPPA</td>\n",
       "      <td>2021</td>\n",
       "      <td>Manual</td>\n",
       "      <td>5656</td>\n",
       "      <td>1</td>\n",
       "      <td>Petrol</td>\n",
       "      <td>21199</td>\n",
       "      <td>267</td>\n",
       "      <td>Zero downpayment</td>\n",
       "      <td>Ahmedabad</td>\n",
       "      <td>Gujarat</td>\n",
       "    </tr>\n",
       "    <tr>\n",
       "      <th>147</th>\n",
       "      <td>Tata Harrier</td>\n",
       "      <td>Tata</td>\n",
       "      <td>XZ 2.0L Kryotec</td>\n",
       "      <td>2019</td>\n",
       "      <td>Manual</td>\n",
       "      <td>34644</td>\n",
       "      <td>1</td>\n",
       "      <td>Diesel</td>\n",
       "      <td>49099</td>\n",
       "      <td>234</td>\n",
       "      <td>Zero downpayment</td>\n",
       "      <td>Ahmedabad</td>\n",
       "      <td>Gujarat</td>\n",
       "    </tr>\n",
       "    <tr>\n",
       "      <th>153</th>\n",
       "      <td>Hyundai Creta</td>\n",
       "      <td>Hyundai</td>\n",
       "      <td>1.6 EX CRDI</td>\n",
       "      <td>2020</td>\n",
       "      <td>Manual</td>\n",
       "      <td>26284</td>\n",
       "      <td>1</td>\n",
       "      <td>Diesel</td>\n",
       "      <td>30499</td>\n",
       "      <td>372</td>\n",
       "      <td>Zero downpayment</td>\n",
       "      <td>Ahmedabad</td>\n",
       "      <td>Gujarat</td>\n",
       "    </tr>\n",
       "    <tr>\n",
       "      <th>...</th>\n",
       "      <td>...</td>\n",
       "      <td>...</td>\n",
       "      <td>...</td>\n",
       "      <td>...</td>\n",
       "      <td>...</td>\n",
       "      <td>...</td>\n",
       "      <td>...</td>\n",
       "      <td>...</td>\n",
       "      <td>...</td>\n",
       "      <td>...</td>\n",
       "      <td>...</td>\n",
       "      <td>...</td>\n",
       "      <td>...</td>\n",
       "    </tr>\n",
       "    <tr>\n",
       "      <th>4473</th>\n",
       "      <td>Maruti Vitara Brezza</td>\n",
       "      <td>Maruti</td>\n",
       "      <td>VDI</td>\n",
       "      <td>2019</td>\n",
       "      <td>Manual</td>\n",
       "      <td>34551</td>\n",
       "      <td>1</td>\n",
       "      <td>Diesel</td>\n",
       "      <td>38699</td>\n",
       "      <td>656</td>\n",
       "      <td>Zero downpayment</td>\n",
       "      <td>Pune</td>\n",
       "      <td>Maharashtra</td>\n",
       "    </tr>\n",
       "    <tr>\n",
       "      <th>4476</th>\n",
       "      <td>Renault Kwid</td>\n",
       "      <td>Renault</td>\n",
       "      <td>1.0 CLIMBER OPT AMT</td>\n",
       "      <td>2019</td>\n",
       "      <td>Automatic</td>\n",
       "      <td>24701</td>\n",
       "      <td>1</td>\n",
       "      <td>Petrol</td>\n",
       "      <td>86199</td>\n",
       "      <td>815</td>\n",
       "      <td>Zero downpayment</td>\n",
       "      <td>Pune</td>\n",
       "      <td>Maharashtra</td>\n",
       "    </tr>\n",
       "    <tr>\n",
       "      <th>4486</th>\n",
       "      <td>Maruti Eeco</td>\n",
       "      <td>Maruti</td>\n",
       "      <td>5 STR WITH AC PLUSHTR</td>\n",
       "      <td>2018</td>\n",
       "      <td>Manual</td>\n",
       "      <td>23573</td>\n",
       "      <td>1</td>\n",
       "      <td>Petrol</td>\n",
       "      <td>27399</td>\n",
       "      <td>507</td>\n",
       "      <td>Zero downpayment</td>\n",
       "      <td>Pune</td>\n",
       "      <td>Maharashtra</td>\n",
       "    </tr>\n",
       "    <tr>\n",
       "      <th>4487</th>\n",
       "      <td>Maruti Alto 800</td>\n",
       "      <td>Maruti</td>\n",
       "      <td>LXI</td>\n",
       "      <td>2018</td>\n",
       "      <td>Manual</td>\n",
       "      <td>33004</td>\n",
       "      <td>1</td>\n",
       "      <td>Petrol</td>\n",
       "      <td>9699</td>\n",
       "      <td>889</td>\n",
       "      <td>Zero downpayment</td>\n",
       "      <td>Pune</td>\n",
       "      <td>Maharashtra</td>\n",
       "    </tr>\n",
       "    <tr>\n",
       "      <th>4489</th>\n",
       "      <td>Maruti Alto 800</td>\n",
       "      <td>Maruti</td>\n",
       "      <td>VXI</td>\n",
       "      <td>2018</td>\n",
       "      <td>Manual</td>\n",
       "      <td>20369</td>\n",
       "      <td>1</td>\n",
       "      <td>Petrol</td>\n",
       "      <td>23199</td>\n",
       "      <td>189</td>\n",
       "      <td>Zero downpayment</td>\n",
       "      <td>Pune</td>\n",
       "      <td>Maharashtra</td>\n",
       "    </tr>\n",
       "  </tbody>\n",
       "</table>\n",
       "<p>641 rows × 13 columns</p>\n",
       "</div>"
      ],
      "text/plain": [
       "                 cars_name cars_brand                   model  model_year  \\\n",
       "137            Maruti Alto     Maruti                    LXI         2020   \n",
       "140      Hyundai Grand i10    Hyundai     GNA 1.2 KAPPA VTVT         2018   \n",
       "145          Hyundai VENUE    Hyundai         S MT 1.2 KAPPA         2021   \n",
       "147           Tata Harrier       Tata        XZ 2.0L Kryotec         2019   \n",
       "153          Hyundai Creta    Hyundai            1.6 EX CRDI         2020   \n",
       "...                    ...        ...                     ...         ...   \n",
       "4473  Maruti Vitara Brezza     Maruti                    VDI         2019   \n",
       "4476          Renault Kwid    Renault    1.0 CLIMBER OPT AMT         2019   \n",
       "4486           Maruti Eeco     Maruti  5 STR WITH AC PLUSHTR         2018   \n",
       "4487       Maruti Alto 800     Maruti                    LXI         2018   \n",
       "4489       Maruti Alto 800     Maruti                    VXI         2018   \n",
       "\n",
       "       car_type    kms  owner gasoliene_type  price  emi_per_month  \\\n",
       "137      Manual  24682      1         Petrol  99099            878   \n",
       "140      Manual  14586      1         Petrol  88799            873   \n",
       "145      Manual   5656      1         Petrol  21199            267   \n",
       "147      Manual  34644      1         Diesel  49099            234   \n",
       "153      Manual  26284      1         Diesel  30499            372   \n",
       "...         ...    ...    ...            ...    ...            ...   \n",
       "4473     Manual  34551      1         Diesel  38699            656   \n",
       "4476  Automatic  24701      1         Petrol  86199            815   \n",
       "4486     Manual  23573      1         Petrol  27399            507   \n",
       "4487     Manual  33004      1         Petrol   9699            889   \n",
       "4489     Manual  20369      1         Petrol  23199            189   \n",
       "\n",
       "      zero_downpayment       city        state  \n",
       "137   Zero downpayment  Ahmedabad      Gujarat  \n",
       "140   Zero downpayment  Ahmedabad      Gujarat  \n",
       "145   Zero downpayment  Ahmedabad      Gujarat  \n",
       "147   Zero downpayment  Ahmedabad      Gujarat  \n",
       "153   Zero downpayment  Ahmedabad      Gujarat  \n",
       "...                ...        ...          ...  \n",
       "4473  Zero downpayment       Pune  Maharashtra  \n",
       "4476  Zero downpayment       Pune  Maharashtra  \n",
       "4486  Zero downpayment       Pune  Maharashtra  \n",
       "4487  Zero downpayment       Pune  Maharashtra  \n",
       "4489  Zero downpayment       Pune  Maharashtra  \n",
       "\n",
       "[641 rows x 13 columns]"
      ]
     },
     "execution_count": 74,
     "metadata": {},
     "output_type": "execute_result"
    }
   ],
   "source": [
    "#check price less than 250000 model year from 2018 and kms less than 50000\n",
    "df[(df['price'] <= 250000) & (df['model_year'] >= 2018) & (df['kms'] <= 50000) & (df['owner'] ==  1)]\n",
    "\n"
   ]
  },
  {
   "cell_type": "code",
   "execution_count": 75,
   "id": "fe1883a9",
   "metadata": {},
   "outputs": [
    {
     "data": {
      "text/plain": [
       "Text(0.5, 1.0, 'Car brands with less than 250000 price,from 2018 year,kms less than 50000 and single owner')"
      ]
     },
     "execution_count": 75,
     "metadata": {},
     "output_type": "execute_result"
    },
    {
     "data": {
      "image/png": "[encoded data removed]",
      "text/plain": [
       "<Figure size 720x360 with 1 Axes>"
      ]
     },
     "metadata": {
      "needs_background": "light"
     },
     "output_type": "display_data"
    }
   ],
   "source": [
    "plt.figure(figsize=(10,5))\n",
    "df[(df['price'] <= 250000) & (df['model_year'] >= 2018) & (df['kms'] <= 50000) & (df['owner'] ==  1)]['cars_brand'].value_counts().plot.bar(color = 'Orange')\n",
    "plt.title('Car brands with less than 250000 price,from 2018 year,kms less than 50000 and single owner')\n"
   ]
  },
  {
   "cell_type": "markdown",
   "id": "af9900f2",
   "metadata": {},
   "source": [
    "#### observations : Maruti is listed high numbers of cars for above conditions and maruti is available for best price with good condition"
   ]
  },
  {
   "cell_type": "code",
   "execution_count": 76,
   "id": "d55bfe10",
   "metadata": {},
   "outputs": [
    {
     "data": {
      "text/plain": [
       "Text(0.5, 1.0, 'Relation between model_year and kms')"
      ]
     },
     "execution_count": 76,
     "metadata": {},
     "output_type": "execute_result"
    },
    {
     "data": {
      "image/png": "[encoded data removed]",
      "text/plain": [
       "<Figure size 720x432 with 1 Axes>"
      ]
     },
     "metadata": {
      "needs_background": "light"
     },
     "output_type": "display_data"
    }
   ],
   "source": [
    "# scatter plot between kms and model_year\n",
    "plt.scatter(x = 'model_year',y = 'kms',data = df)\n",
    "plt.gcf().set_size_inches(10, 6)\n",
    "plt.xticks([2000.0,2002.5,2005.0,2007.5,2010.0,2012.5,2015.0,2017.5,2020.0],['2000','2002','2005','2007','2010','2012','2015','2017','2020'])\n",
    "plt.title('Relation between model_year and kms')"
   ]
  },
  {
   "cell_type": "markdown",
   "id": "f937bf73",
   "metadata": {},
   "source": [
    "#### observations : \n",
    "1. In this the most of model cars are from  2010 to  2020\n",
    "2. car model increases the kms maximum number decrease\n",
    "3. From year around 2012 to 2021 the lowest kms are almost same"
   ]
  },
  {
   "cell_type": "code",
   "execution_count": 77,
   "id": "f6559ea5",
   "metadata": {},
   "outputs": [
    {
     "data": {
      "image/png": "[encoded data removed]",
      "text/plain": [
       "<Figure size 720x432 with 1 Axes>"
      ]
     },
     "metadata": {
      "needs_background": "light"
     },
     "output_type": "display_data"
    }
   ],
   "source": [
    "# scatter plot between price and model_year\n",
    "sns.relplot(x = 'model_year',y = 'price',data = df,hue = 'kms',palette='flare')\n",
    "plt.gcf().set_size_inches(10, 6)"
   ]
  },
  {
   "cell_type": "markdown",
   "id": "564693b6",
   "metadata": {},
   "source": [
    "#### observations:\n",
    "1. In this model year increases the high number in price incresing\n",
    "2. The lowest price value also increases\n",
    "3. There are some cars with price range 0 to  1 lakh in every model year from 2010 to  2021 and kms are around 50000"
   ]
  },
  {
   "cell_type": "code",
   "execution_count": 78,
   "id": "1b31e061",
   "metadata": {},
   "outputs": [
    {
     "data": {
      "text/html": [
       "<div>\n",
       "<style scoped>\n",
       "    .dataframe tbody tr th:only-of-type {\n",
       "        vertical-align: middle;\n",
       "    }\n",
       "\n",
       "    .dataframe tbody tr th {\n",
       "        vertical-align: top;\n",
       "    }\n",
       "\n",
       "    .dataframe thead th {\n",
       "        text-align: right;\n",
       "    }\n",
       "</style>\n",
       "<table border=\"1\" class=\"dataframe\">\n",
       "  <thead>\n",
       "    <tr style=\"text-align: right;\">\n",
       "      <th></th>\n",
       "      <th>cars_name</th>\n",
       "      <th>cars_brand</th>\n",
       "      <th>model</th>\n",
       "      <th>model_year</th>\n",
       "      <th>car_type</th>\n",
       "      <th>kms</th>\n",
       "      <th>owner</th>\n",
       "      <th>gasoliene_type</th>\n",
       "      <th>price</th>\n",
       "      <th>emi_per_month</th>\n",
       "      <th>zero_downpayment</th>\n",
       "      <th>city</th>\n",
       "      <th>state</th>\n",
       "    </tr>\n",
       "  </thead>\n",
       "  <tbody>\n",
       "    <tr>\n",
       "      <th>0</th>\n",
       "      <td>Ford Ecosport</td>\n",
       "      <td>Ford</td>\n",
       "      <td>1.5 TITANIUMTDCI OPT</td>\n",
       "      <td>2013</td>\n",
       "      <td>Manual</td>\n",
       "      <td>179045</td>\n",
       "      <td>1</td>\n",
       "      <td>Diesel</td>\n",
       "      <td>507599</td>\n",
       "      <td>11291</td>\n",
       "      <td>Zero downpayment</td>\n",
       "      <td>Hyderabad</td>\n",
       "      <td>Telangana</td>\n",
       "    </tr>\n",
       "    <tr>\n",
       "      <th>1</th>\n",
       "      <td>Maruti Swift</td>\n",
       "      <td>Maruti</td>\n",
       "      <td>ZDI</td>\n",
       "      <td>2012</td>\n",
       "      <td>Manual</td>\n",
       "      <td>78819</td>\n",
       "      <td>2</td>\n",
       "      <td>Diesel</td>\n",
       "      <td>476699</td>\n",
       "      <td>10604</td>\n",
       "      <td>Zero downpayment</td>\n",
       "      <td>Hyderabad</td>\n",
       "      <td>Telangana</td>\n",
       "    </tr>\n",
       "    <tr>\n",
       "      <th>2</th>\n",
       "      <td>Honda Mobilio</td>\n",
       "      <td>Honda</td>\n",
       "      <td>1.5 V OPT I DTEC</td>\n",
       "      <td>2014</td>\n",
       "      <td>Manual</td>\n",
       "      <td>97289</td>\n",
       "      <td>2</td>\n",
       "      <td>Diesel</td>\n",
       "      <td>494799</td>\n",
       "      <td>11007</td>\n",
       "      <td>Zero downpayment</td>\n",
       "      <td>Hyderabad</td>\n",
       "      <td>Telangana</td>\n",
       "    </tr>\n",
       "    <tr>\n",
       "      <th>3</th>\n",
       "      <td>Maruti Wagon R 1.0</td>\n",
       "      <td>Maruti</td>\n",
       "      <td>VXI</td>\n",
       "      <td>2013</td>\n",
       "      <td>Manual</td>\n",
       "      <td>45693</td>\n",
       "      <td>2</td>\n",
       "      <td>Petrol</td>\n",
       "      <td>331999</td>\n",
       "      <td>7385</td>\n",
       "      <td>Zero downpayment</td>\n",
       "      <td>Hyderabad</td>\n",
       "      <td>Telangana</td>\n",
       "    </tr>\n",
       "    <tr>\n",
       "      <th>4</th>\n",
       "      <td>Hyundai i20 Active</td>\n",
       "      <td>Hyundai</td>\n",
       "      <td>1.2 S</td>\n",
       "      <td>2016</td>\n",
       "      <td>Manual</td>\n",
       "      <td>40586</td>\n",
       "      <td>1</td>\n",
       "      <td>Petrol</td>\n",
       "      <td>620299</td>\n",
       "      <td>13798</td>\n",
       "      <td>Zero downpayment</td>\n",
       "      <td>Hyderabad</td>\n",
       "      <td>Telangana</td>\n",
       "    </tr>\n",
       "  </tbody>\n",
       "</table>\n",
       "</div>"
      ],
      "text/plain": [
       "            cars_name cars_brand                  model  model_year car_type  \\\n",
       "0       Ford Ecosport       Ford  1.5 TITANIUMTDCI OPT         2013   Manual   \n",
       "1        Maruti Swift     Maruti                   ZDI         2012   Manual   \n",
       "2       Honda Mobilio      Honda      1.5 V OPT I DTEC         2014   Manual   \n",
       "3  Maruti Wagon R 1.0     Maruti                   VXI         2013   Manual   \n",
       "4  Hyundai i20 Active    Hyundai                 1.2 S         2016   Manual   \n",
       "\n",
       "      kms  owner gasoliene_type   price  emi_per_month  zero_downpayment  \\\n",
       "0  179045      1         Diesel  507599          11291  Zero downpayment   \n",
       "1   78819      2         Diesel  476699          10604  Zero downpayment   \n",
       "2   97289      2         Diesel  494799          11007  Zero downpayment   \n",
       "3   45693      2         Petrol  331999           7385  Zero downpayment   \n",
       "4   40586      1         Petrol  620299          13798  Zero downpayment   \n",
       "\n",
       "        city      state  \n",
       "0  Hyderabad  Telangana  \n",
       "1  Hyderabad  Telangana  \n",
       "2  Hyderabad  Telangana  \n",
       "3  Hyderabad  Telangana  \n",
       "4  Hyderabad  Telangana  "
      ]
     },
     "execution_count": 78,
     "metadata": {},
     "output_type": "execute_result"
    }
   ],
   "source": [
    "df.head()"
   ]
  },
  {
   "cell_type": "code",
   "execution_count": 79,
   "id": "8b3ffc38",
   "metadata": {},
   "outputs": [
    {
     "name": "stderr",
     "output_type": "stream",
     "text": [
      "C:\\Users\\prashanth\\anaconda3\\lib\\site-packages\\seaborn\\_decorators.py:36: FutureWarning: Pass the following variables as keyword args: x, y. From version 0.12, the only valid positional argument will be `data`, and passing other arguments without an explicit keyword will result in an error or misinterpretation.\n",
      "  warnings.warn(\n"
     ]
    },
    {
     "data": {
      "image/png": "[encoded data removed]",
      "text/plain": [
       "<Figure size 1080x576 with 1 Axes>"
      ]
     },
     "metadata": {
      "needs_background": "light"
     },
     "output_type": "display_data"
    }
   ],
   "source": [
    "sns.catplot('model_year','kms',data = df,kind = 'box')\n",
    "plt.gcf().set_size_inches(15, 8)\n",
    "plt.xticks(rotation = 45)\n",
    "plt.show()"
   ]
  },
  {
   "cell_type": "markdown",
   "id": "4a16cd5e",
   "metadata": {},
   "source": [
    "#### observations:\n",
    "1. The median is decreasing when year increasing\n",
    "2. In 2009 The median is high and upper bound is high,the kms from 50000 to 120000\n",
    "3. some points which are far away above 250000 kms in year  2013 and 2016"
   ]
  },
  {
   "cell_type": "code",
   "execution_count": null,
   "id": "dc639730",
   "metadata": {},
   "outputs": [],
   "source": []
  },
  {
   "cell_type": "code",
   "execution_count": 80,
   "id": "7cd723e4",
   "metadata": {},
   "outputs": [
    {
     "name": "stderr",
     "output_type": "stream",
     "text": [
      "C:\\Users\\prashanth\\anaconda3\\lib\\site-packages\\seaborn\\_decorators.py:36: FutureWarning: Pass the following variables as keyword args: x, y. From version 0.12, the only valid positional argument will be `data`, and passing other arguments without an explicit keyword will result in an error or misinterpretation.\n",
      "  warnings.warn(\n"
     ]
    },
    {
     "data": {
      "image/png": "[encoded data removed]",
      "text/plain": [
       "<Figure size 1080x576 with 1 Axes>"
      ]
     },
     "metadata": {
      "needs_background": "light"
     },
     "output_type": "display_data"
    }
   ],
   "source": [
    "sns.catplot('model_year','kms',data = df,kind = 'box',hue = 'car_type')\n",
    "plt.xticks(rotation = 45)\n",
    "plt.gcf().set_size_inches(15, 8)\n",
    "\n",
    "plt.title('Relation between model year and kms with car type')\n",
    "\n",
    "plt.show()"
   ]
  },
  {
   "cell_type": "markdown",
   "id": "48a38ff6",
   "metadata": {},
   "source": [
    "#### observations:\n",
    "1. upto 2010 there is only manual cars\n",
    "2. The median of Automatic and manual decreasing but in 2014 there is high median when compared to other years\n",
    "3. The upper bound and median is high in 2009 and it has only manual cars\n",
    "4. The upper for automatic cars high in 2015\n",
    "5. The kilometres density of cars in 2001 and 2006 is negligible\n",
    "6. There is no carsmodel listed from year 2004 to 2005 "
   ]
  },
  {
   "cell_type": "code",
   "execution_count": 81,
   "id": "124d8c00",
   "metadata": {},
   "outputs": [
    {
     "data": {
      "text/html": [
       "<div>\n",
       "<style scoped>\n",
       "    .dataframe tbody tr th:only-of-type {\n",
       "        vertical-align: middle;\n",
       "    }\n",
       "\n",
       "    .dataframe tbody tr th {\n",
       "        vertical-align: top;\n",
       "    }\n",
       "\n",
       "    .dataframe thead th {\n",
       "        text-align: right;\n",
       "    }\n",
       "</style>\n",
       "<table border=\"1\" class=\"dataframe\">\n",
       "  <thead>\n",
       "    <tr style=\"text-align: right;\">\n",
       "      <th></th>\n",
       "      <th>cars_name</th>\n",
       "      <th>cars_brand</th>\n",
       "      <th>model</th>\n",
       "      <th>model_year</th>\n",
       "      <th>car_type</th>\n",
       "      <th>kms</th>\n",
       "      <th>owner</th>\n",
       "      <th>gasoliene_type</th>\n",
       "      <th>price</th>\n",
       "      <th>emi_per_month</th>\n",
       "      <th>zero_downpayment</th>\n",
       "      <th>city</th>\n",
       "      <th>state</th>\n",
       "    </tr>\n",
       "  </thead>\n",
       "  <tbody>\n",
       "    <tr>\n",
       "      <th>0</th>\n",
       "      <td>Ford Ecosport</td>\n",
       "      <td>Ford</td>\n",
       "      <td>1.5 TITANIUMTDCI OPT</td>\n",
       "      <td>2013</td>\n",
       "      <td>Manual</td>\n",
       "      <td>179045</td>\n",
       "      <td>1</td>\n",
       "      <td>Diesel</td>\n",
       "      <td>507599</td>\n",
       "      <td>11291</td>\n",
       "      <td>Zero downpayment</td>\n",
       "      <td>Hyderabad</td>\n",
       "      <td>Telangana</td>\n",
       "    </tr>\n",
       "    <tr>\n",
       "      <th>1</th>\n",
       "      <td>Maruti Swift</td>\n",
       "      <td>Maruti</td>\n",
       "      <td>ZDI</td>\n",
       "      <td>2012</td>\n",
       "      <td>Manual</td>\n",
       "      <td>78819</td>\n",
       "      <td>2</td>\n",
       "      <td>Diesel</td>\n",
       "      <td>476699</td>\n",
       "      <td>10604</td>\n",
       "      <td>Zero downpayment</td>\n",
       "      <td>Hyderabad</td>\n",
       "      <td>Telangana</td>\n",
       "    </tr>\n",
       "    <tr>\n",
       "      <th>2</th>\n",
       "      <td>Honda Mobilio</td>\n",
       "      <td>Honda</td>\n",
       "      <td>1.5 V OPT I DTEC</td>\n",
       "      <td>2014</td>\n",
       "      <td>Manual</td>\n",
       "      <td>97289</td>\n",
       "      <td>2</td>\n",
       "      <td>Diesel</td>\n",
       "      <td>494799</td>\n",
       "      <td>11007</td>\n",
       "      <td>Zero downpayment</td>\n",
       "      <td>Hyderabad</td>\n",
       "      <td>Telangana</td>\n",
       "    </tr>\n",
       "    <tr>\n",
       "      <th>3</th>\n",
       "      <td>Maruti Wagon R 1.0</td>\n",
       "      <td>Maruti</td>\n",
       "      <td>VXI</td>\n",
       "      <td>2013</td>\n",
       "      <td>Manual</td>\n",
       "      <td>45693</td>\n",
       "      <td>2</td>\n",
       "      <td>Petrol</td>\n",
       "      <td>331999</td>\n",
       "      <td>7385</td>\n",
       "      <td>Zero downpayment</td>\n",
       "      <td>Hyderabad</td>\n",
       "      <td>Telangana</td>\n",
       "    </tr>\n",
       "    <tr>\n",
       "      <th>4</th>\n",
       "      <td>Hyundai i20 Active</td>\n",
       "      <td>Hyundai</td>\n",
       "      <td>1.2 S</td>\n",
       "      <td>2016</td>\n",
       "      <td>Manual</td>\n",
       "      <td>40586</td>\n",
       "      <td>1</td>\n",
       "      <td>Petrol</td>\n",
       "      <td>620299</td>\n",
       "      <td>13798</td>\n",
       "      <td>Zero downpayment</td>\n",
       "      <td>Hyderabad</td>\n",
       "      <td>Telangana</td>\n",
       "    </tr>\n",
       "  </tbody>\n",
       "</table>\n",
       "</div>"
      ],
      "text/plain": [
       "            cars_name cars_brand                  model  model_year car_type  \\\n",
       "0       Ford Ecosport       Ford  1.5 TITANIUMTDCI OPT         2013   Manual   \n",
       "1        Maruti Swift     Maruti                   ZDI         2012   Manual   \n",
       "2       Honda Mobilio      Honda      1.5 V OPT I DTEC         2014   Manual   \n",
       "3  Maruti Wagon R 1.0     Maruti                   VXI         2013   Manual   \n",
       "4  Hyundai i20 Active    Hyundai                 1.2 S         2016   Manual   \n",
       "\n",
       "      kms  owner gasoliene_type   price  emi_per_month  zero_downpayment  \\\n",
       "0  179045      1         Diesel  507599          11291  Zero downpayment   \n",
       "1   78819      2         Diesel  476699          10604  Zero downpayment   \n",
       "2   97289      2         Diesel  494799          11007  Zero downpayment   \n",
       "3   45693      2         Petrol  331999           7385  Zero downpayment   \n",
       "4   40586      1         Petrol  620299          13798  Zero downpayment   \n",
       "\n",
       "        city      state  \n",
       "0  Hyderabad  Telangana  \n",
       "1  Hyderabad  Telangana  \n",
       "2  Hyderabad  Telangana  \n",
       "3  Hyderabad  Telangana  \n",
       "4  Hyderabad  Telangana  "
      ]
     },
     "execution_count": 81,
     "metadata": {},
     "output_type": "execute_result"
    }
   ],
   "source": [
    "df.head()"
   ]
  },
  {
   "cell_type": "code",
   "execution_count": 82,
   "id": "1225d9a0",
   "metadata": {},
   "outputs": [
    {
     "name": "stderr",
     "output_type": "stream",
     "text": [
      "C:\\Users\\prashanth\\anaconda3\\lib\\site-packages\\seaborn\\_decorators.py:36: FutureWarning: Pass the following variables as keyword args: x, y. From version 0.12, the only valid positional argument will be `data`, and passing other arguments without an explicit keyword will result in an error or misinterpretation.\n",
      "  warnings.warn(\n"
     ]
    },
    {
     "data": {
      "text/plain": [
       "Text(0.5, 1.0, 'Relation between kms and Gasoliene type')"
      ]
     },
     "execution_count": 82,
     "metadata": {},
     "output_type": "execute_result"
    },
    {
     "data": {
      "image/png": "[encoded data removed]",
      "text/plain": [
       "<Figure size 360x360 with 1 Axes>"
      ]
     },
     "metadata": {
      "needs_background": "light"
     },
     "output_type": "display_data"
    }
   ],
   "source": [
    "sns.catplot('gasoliene_type','kms',data = df,kind = 'box')\n",
    "plt.title('Relation between kms and Gasoliene type')"
   ]
  },
  {
   "cell_type": "markdown",
   "id": "b84d78b8",
   "metadata": {},
   "source": [
    "#### observations :\n",
    "1. The median for diesel type cars is high\n",
    "2. The Upper bound for diesel type cars is high\n",
    "3. The lower bound for petrol type cars is low\n",
    "4. The density of diesel type cars is high which is in range of 45000 to 90000\n",
    "5. The density of petrol type cars  is in range of 30000 to 52000\n"
   ]
  },
  {
   "cell_type": "code",
   "execution_count": 83,
   "id": "59010abc",
   "metadata": {},
   "outputs": [
    {
     "name": "stderr",
     "output_type": "stream",
     "text": [
      "C:\\Users\\prashanth\\anaconda3\\lib\\site-packages\\seaborn\\_decorators.py:36: FutureWarning: Pass the following variables as keyword args: x, y. From version 0.12, the only valid positional argument will be `data`, and passing other arguments without an explicit keyword will result in an error or misinterpretation.\n",
      "  warnings.warn(\n"
     ]
    },
    {
     "data": {
      "text/plain": [
       "<seaborn.axisgrid.FacetGrid at 0x1c958df80d0>"
      ]
     },
     "execution_count": 83,
     "metadata": {},
     "output_type": "execute_result"
    },
    {
     "data": {
      "image/png": "[encoded data removed]",
      "text/plain": [
       "<Figure size 807.125x360 with 2 Axes>"
      ]
     },
     "metadata": {
      "needs_background": "light"
     },
     "output_type": "display_data"
    }
   ],
   "source": [
    "sns.catplot('owner','price',data = df,hue = 'car_type',col='gasoliene_type',kind = 'box')\n"
   ]
  },
  {
   "cell_type": "markdown",
   "id": "d71102b4",
   "metadata": {},
   "source": [
    "#### observation:\n",
    "1. In diesel type cars the median is very low but the 50 - 75 percentile density is high\n",
    "2. The upper bound in Diesel is high \n",
    "3. In diesel cars the upper bound is high in automatic cars means the price upper value is high in automatic cars which is for 1,2 owner\n",
    "4. In both petrol and diesel cars the price is high for automatic cars but in 3rd owner it is almost same\n",
    "5. In petrol cars the price for 3rd owner is high when compared to diesel cars in bot automatic and manual\n"
   ]
  },
  {
   "cell_type": "code",
   "execution_count": 84,
   "id": "83b98260",
   "metadata": {},
   "outputs": [
    {
     "data": {
      "text/plain": [
       "<AxesSubplot:>"
      ]
     },
     "execution_count": 84,
     "metadata": {},
     "output_type": "execute_result"
    },
    {
     "data": {
      "image/png": "[encoded data removed]",
      "text/plain": [
       "<Figure size 432x288 with 2 Axes>"
      ]
     },
     "metadata": {
      "needs_background": "light"
     },
     "output_type": "display_data"
    }
   ],
   "source": [
    "# check heatmap\n",
    "df_corr = df.corr()\n",
    "sns.heatmap(df_corr,annot=True)"
   ]
  },
  {
   "cell_type": "markdown",
   "id": "0826955a",
   "metadata": {},
   "source": [
    "#### observations: \n",
    "1. The most of data is poor negative and poor positive correlation \n",
    "2. There is 1 for price and emi_per_month"
   ]
  },
  {
   "cell_type": "code",
   "execution_count": 85,
   "id": "7f0bb497",
   "metadata": {},
   "outputs": [
    {
     "data": {
      "text/plain": [
       "<matplotlib.collections.PathCollection at 0x1c958fefe50>"
      ]
     },
     "execution_count": 85,
     "metadata": {},
     "output_type": "execute_result"
    },
    {
     "data": {
      "image/png": "[encoded data removed]",
      "text/plain": [
       "<Figure size 432x288 with 1 Axes>"
      ]
     },
     "metadata": {
      "needs_background": "light"
     },
     "output_type": "display_data"
    }
   ],
   "source": [
    "# check scatter plot fo price and emi_per_month\n",
    "plt.scatter(x = 'price',y = 'emi_per_month',data = df)"
   ]
  },
  {
   "cell_type": "markdown",
   "id": "a65b6710",
   "metadata": {},
   "source": [
    "#### observation: it is linear obviously when price increases emi_per_month increases that the reason it showing 1 in heatmap means perfect correlation"
   ]
  },
  {
   "cell_type": "markdown",
   "id": "00cc554e",
   "metadata": {},
   "source": [
    "\n"
   ]
  },
  {
   "cell_type": "code",
   "execution_count": 86,
   "id": "13a43cdc",
   "metadata": {},
   "outputs": [
    {
     "data": {
      "text/plain": [
       "Text(0.5, 1.0, 'Maruti brand car models with price less than 500000,model year from 2018, kms less than 30000')"
      ]
     },
     "execution_count": 86,
     "metadata": {},
     "output_type": "execute_result"
    },
    {
     "data": {
      "image/png": "[encoded data removed]",
      "text/plain": [
       "<Figure size 1080x360 with 1 Axes>"
      ]
     },
     "metadata": {
      "needs_background": "light"
     },
     "output_type": "display_data"
    }
   ],
   "source": [
    "plt.figure(figsize=(15,5))\n",
    "df[(df['price'] <= 500000) & (df['model_year'] >= 2018) & (df['kms'] <= 30000) & (df['cars_brand'] == 'Maruti')]['model'].value_counts().plot.bar(color = 'brown')\n",
    "plt.title('Maruti brand car models with price less than 500000,model year from 2018, kms less than 30000')"
   ]
  },
  {
   "cell_type": "markdown",
   "id": "a7ad9b50",
   "metadata": {},
   "source": [
    "#### observation: vxi is the best model car to purchase in brand maruthi with a good reasonable price and with a well expected condition"
   ]
  },
  {
   "cell_type": "code",
   "execution_count": 87,
   "id": "544b8c12",
   "metadata": {},
   "outputs": [
    {
     "data": {
      "text/plain": [
       "Text(0.5, 1.0, 'BMW car models with less than 500000 price, year from 2015 and kms less than 50000')"
      ]
     },
     "execution_count": 87,
     "metadata": {},
     "output_type": "execute_result"
    },
    {
     "data": {
      "image/png": "[encoded data removed]",
      "text/plain": [
       "<Figure size 432x288 with 1 Axes>"
      ]
     },
     "metadata": {
      "needs_background": "light"
     },
     "output_type": "display_data"
    }
   ],
   "source": [
    "df[(df['price'] <= 500000) & (df['model_year'] >= 2015) & (df['kms'] <= 50000) & (df['cars_brand'] == 'BMW')]['model'].value_counts().plot.bar(color = 'red')\n",
    "plt.title('BMW car models with less than 500000 price, year from 2015 and kms less than 50000')"
   ]
  },
  {
   "cell_type": "markdown",
   "id": "bd13df1e",
   "metadata": {},
   "source": [
    "#### observation: there are only 2 different bmw cars that are available to buy low distance travelled and above 2015 year"
   ]
  },
  {
   "cell_type": "code",
   "execution_count": null,
   "id": "cb375129",
   "metadata": {},
   "outputs": [],
   "source": []
  }
 ],
 "metadata": {
  "kernelspec": {
   "display_name": "Python 3 (ipykernel)",
   "language": "python",
   "name": "python3"
  },
  "language_info": {
   "codemirror_mode": {
    "name": "ipython",
    "version": 3
   },
   "file_extension": ".py",
   "mimetype": "text/x-python",
   "name": "python",
   "nbconvert_exporter": "python",
   "pygments_lexer": "ipython3",
   "version": "3.9.7"
  }
 },
 "nbformat": 4,
 "nbformat_minor": 5
}
